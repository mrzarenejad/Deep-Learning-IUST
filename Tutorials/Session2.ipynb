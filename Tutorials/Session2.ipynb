{
  "cells": [
    {
      "cell_type": "markdown",
      "metadata": {
        "id": "mRgKaEwxpO2L"
      },
      "source": [
        "<div class=\"alert alert-info\">\n",
        "    <h1 align=\"center\">Fundamentals of Deep Learning</h1>\n",
        "    <h3 align=\"center\">Week 02: Introduction to NMP</h3>\n",
        "</div>"
      ]
    },
    {
      "cell_type": "markdown",
      "metadata": {
        "nbpresent": {
          "id": "c5512b0c-cc4b-46ae-91ba-7dc1ea179fa4"
        },
        "id": "w_i01sCWpO2Y"
      },
      "source": [
        "## Goals\n",
        " - Working with matrices (or in general ndarrays)\n",
        " - Reading and representing inputs and outputs"
      ]
    },
    {
      "cell_type": "markdown",
      "metadata": {
        "nbpresent": {
          "id": "786d9a57-ac3f-4a3a-8b37-4f384db1e19b"
        },
        "id": "SLNIgSACpO2a"
      },
      "source": [
        "## Why matrices are so important in ML?"
      ]
    },
    {
      "cell_type": "markdown",
      "metadata": {
        "nbpresent": {
          "id": "a30e0ff6-fc2d-4d38-9ab4-83dd4e13ae9a"
        },
        "id": "J__cMYOxpO2b"
      },
      "source": [
        "In machine learning we almost always use matrices to:\n",
        "- Represent **inputs**\n",
        "- Represent **outpus**\n",
        "- Represent **parameters**"
      ]
    },
    {
      "cell_type": "markdown",
      "metadata": {
        "id": "vwORdoKfpO2c"
      },
      "source": [
        "<img src=\"http://www.snrazavi.ir/imgs/cat-matrix.png\" width=\"50%\"/>"
      ]
    },
    {
      "cell_type": "markdown",
      "metadata": {
        "nbpresent": {
          "id": "33b1e136-e1ba-490e-a894-a7754ce65777"
        },
        "id": "_UvYfkfTpO2d"
      },
      "source": [
        "**Matrix.** A matrix is a rectangular array of numbers.\n",
        "* In python, we use `numpy` package to work with matrices.\n",
        "* First, we need to import this package to be able to use it. \n",
        "* To import `numpy` package, we use the following statement:\n",
        "```python\n",
        "import numpy as np\n",
        "\n",
        "```"
      ]
    },
    {
      "cell_type": "markdown",
      "metadata": {
        "nbpresent": {
          "id": "6a261ebc-adb1-43af-8ef0-ca27486881c3"
        },
        "id": "r84eDJnVpO2f"
      },
      "source": [
        "<img src=\"http://www.snrazavi.ir/imgs/arrays.png\" width=\"50%\">\n",
        "Axis 0 = rows\n",
        "Axis 1 = column"
      ]
    },
    {
      "cell_type": "code",
      "execution_count": null,
      "metadata": {
        "collapsed": true,
        "nbpresent": {
          "id": "5099136b-5444-4370-8206-cb0d28d86f53"
        },
        "id": "w1XqpVUtpO2g"
      },
      "outputs": [],
      "source": [
        "import numpy as np"
      ]
    },
    {
      "cell_type": "markdown",
      "metadata": {
        "nbpresent": {
          "id": "2f68a9ff-30f1-4bdb-b643-bc9976fc40b6"
        },
        "id": "z4Fbuu2apO2i"
      },
      "source": [
        " If the above statement fails, you need to install `numpy` package, using: **pip install numpy** in the Command Prompt.\n",
        " \n",
        " But, if you are using the Anaconda distribution, it has `numpy` package and many other useful packages pre-installed."
      ]
    },
    {
      "cell_type": "code",
      "execution_count": null,
      "metadata": {
        "nbpresent": {
          "id": "1eba000b-cbc2-4515-8b80-01b7ef897b0b"
        },
        "id": "6VFAIOONpO2j",
        "outputId": "a9431546-317b-4930-d7ff-47153bda820a",
        "colab": {
          "base_uri": "https://localhost:8080/"
        }
      },
      "outputs": [
        {
          "output_type": "stream",
          "name": "stdout",
          "text": [
            "Python 3.7.12\n"
          ]
        }
      ],
      "source": [
        "!python --version"
      ]
    },
    {
      "cell_type": "code",
      "execution_count": null,
      "metadata": {
        "nbpresent": {
          "id": "5df6494d-84e7-4969-97f6-c1e2e1b047c6"
        },
        "id": "qv9VXO-QpO2k",
        "outputId": "3b5af020-23ea-4352-e510-a61c604a6d53",
        "colab": {
          "base_uri": "https://localhost:8080/"
        }
      },
      "outputs": [
        {
          "output_type": "stream",
          "name": "stdout",
          "text": [
            "1.21.5\n"
          ]
        }
      ],
      "source": [
        "print(np.__version__)"
      ]
    },
    {
      "cell_type": "markdown",
      "metadata": {
        "nbpresent": {
          "id": "57f5fbe3-0b3b-4d5d-a6a4-e7e43fd7aa2e"
        },
        "id": "hsYXIEl3pO2l"
      },
      "source": [
        "### A useful trick: `<package name>.<Tab>`"
      ]
    },
    {
      "cell_type": "markdown",
      "metadata": {
        "nbpresent": {
          "id": "6ee47037-07b3-40c0-92df-1dd2c54bff8c"
        },
        "id": "MK65puagpO2l"
      },
      "source": [
        "<img src='http://www.snrazavi.ir/imgs/numpy_plus_tab.png' width='50%'>"
      ]
    },
    {
      "cell_type": "code",
      "execution_count": null,
      "metadata": {
        "collapsed": true,
        "nbpresent": {
          "id": "f1ffafbb-0ddd-4bdd-bc61-3c774b35436c"
        },
        "id": "VMgs9WLwpO2m"
      },
      "outputs": [],
      "source": [
        "#np."
      ]
    },
    {
      "cell_type": "markdown",
      "metadata": {
        "id": "6NQpJ20DpO2m"
      },
      "source": [
        "Print all availabe functions and variables defined in `numpy`."
      ]
    },
    {
      "cell_type": "code",
      "execution_count": null,
      "metadata": {
        "nbpresent": {
          "id": "0101addc-83d2-49f6-9401-94f4f0070261"
        },
        "id": "AsGztf1FpO2n",
        "outputId": "58cbb56a-9a89-4808-e6a3-00aa878b15f6",
        "colab": {
          "base_uri": "https://localhost:8080/"
        }
      },
      "outputs": [
        {
          "output_type": "execute_result",
          "data": {
            "text/plain": [
              "['ALLOW_THREADS',\n",
              " 'AxisError',\n",
              " 'BUFSIZE',\n",
              " 'Bytes0',\n",
              " 'CLIP',\n",
              " 'ComplexWarning',\n",
              " 'DataSource',\n",
              " 'Datetime64',\n",
              " 'ERR_CALL',\n",
              " 'ERR_DEFAULT',\n",
              " 'ERR_IGNORE',\n",
              " 'ERR_LOG',\n",
              " 'ERR_PRINT',\n",
              " 'ERR_RAISE',\n",
              " 'ERR_WARN',\n",
              " 'FLOATING_POINT_SUPPORT',\n",
              " 'FPE_DIVIDEBYZERO',\n",
              " 'FPE_INVALID',\n",
              " 'FPE_OVERFLOW',\n",
              " 'FPE_UNDERFLOW',\n",
              " 'False_',\n",
              " 'Inf',\n",
              " 'Infinity',\n",
              " 'MAXDIMS',\n",
              " 'MAY_SHARE_BOUNDS',\n",
              " 'MAY_SHARE_EXACT',\n",
              " 'MachAr',\n",
              " 'ModuleDeprecationWarning',\n",
              " 'NAN',\n",
              " 'NINF',\n",
              " 'NZERO',\n",
              " 'NaN',\n",
              " 'PINF',\n",
              " 'PZERO',\n",
              " 'RAISE',\n",
              " 'RankWarning',\n",
              " 'SHIFT_DIVIDEBYZERO',\n",
              " 'SHIFT_INVALID',\n",
              " 'SHIFT_OVERFLOW',\n",
              " 'SHIFT_UNDERFLOW',\n",
              " 'ScalarType',\n",
              " 'Str0',\n",
              " 'Tester',\n",
              " 'TooHardError',\n",
              " 'True_',\n",
              " 'UFUNC_BUFSIZE_DEFAULT',\n",
              " 'UFUNC_PYVALS_NAME',\n",
              " 'Uint64',\n",
              " 'VisibleDeprecationWarning',\n",
              " 'WRAP',\n",
              " '_NoValue',\n",
              " '_UFUNC_API',\n",
              " '__NUMPY_SETUP__',\n",
              " '__all__',\n",
              " '__builtins__',\n",
              " '__cached__',\n",
              " '__config__',\n",
              " '__deprecated_attrs__',\n",
              " '__dir__',\n",
              " '__doc__',\n",
              " '__expired_functions__',\n",
              " '__file__',\n",
              " '__getattr__',\n",
              " '__git_version__',\n",
              " '__loader__',\n",
              " '__name__',\n",
              " '__package__',\n",
              " '__path__',\n",
              " '__spec__',\n",
              " '__version__',\n",
              " '_add_newdoc_ufunc',\n",
              " '_distributor_init',\n",
              " '_financial_names',\n",
              " '_globals',\n",
              " '_mat',\n",
              " '_pytesttester',\n",
              " '_version',\n",
              " 'abs',\n",
              " 'absolute',\n",
              " 'add',\n",
              " 'add_docstring',\n",
              " 'add_newdoc',\n",
              " 'add_newdoc_ufunc',\n",
              " 'alen',\n",
              " 'all',\n",
              " 'allclose',\n",
              " 'alltrue',\n",
              " 'amax',\n",
              " 'amin',\n",
              " 'angle',\n",
              " 'any',\n",
              " 'append',\n",
              " 'apply_along_axis',\n",
              " 'apply_over_axes',\n",
              " 'arange',\n",
              " 'arccos',\n",
              " 'arccosh',\n",
              " 'arcsin',\n",
              " 'arcsinh',\n",
              " 'arctan',\n",
              " 'arctan2',\n",
              " 'arctanh',\n",
              " 'argmax',\n",
              " 'argmin',\n",
              " 'argpartition',\n",
              " 'argsort',\n",
              " 'argwhere',\n",
              " 'around',\n",
              " 'array',\n",
              " 'array2string',\n",
              " 'array_equal',\n",
              " 'array_equiv',\n",
              " 'array_repr',\n",
              " 'array_split',\n",
              " 'array_str',\n",
              " 'asanyarray',\n",
              " 'asarray',\n",
              " 'asarray_chkfinite',\n",
              " 'ascontiguousarray',\n",
              " 'asfarray',\n",
              " 'asfortranarray',\n",
              " 'asmatrix',\n",
              " 'asscalar',\n",
              " 'atleast_1d',\n",
              " 'atleast_2d',\n",
              " 'atleast_3d',\n",
              " 'average',\n",
              " 'bartlett',\n",
              " 'base_repr',\n",
              " 'binary_repr',\n",
              " 'bincount',\n",
              " 'bitwise_and',\n",
              " 'bitwise_not',\n",
              " 'bitwise_or',\n",
              " 'bitwise_xor',\n",
              " 'blackman',\n",
              " 'block',\n",
              " 'bmat',\n",
              " 'bool8',\n",
              " 'bool_',\n",
              " 'broadcast',\n",
              " 'broadcast_arrays',\n",
              " 'broadcast_shapes',\n",
              " 'broadcast_to',\n",
              " 'busday_count',\n",
              " 'busday_offset',\n",
              " 'busdaycalendar',\n",
              " 'byte',\n",
              " 'byte_bounds',\n",
              " 'bytes0',\n",
              " 'bytes_',\n",
              " 'c_',\n",
              " 'can_cast',\n",
              " 'cast',\n",
              " 'cbrt',\n",
              " 'cdouble',\n",
              " 'ceil',\n",
              " 'cfloat',\n",
              " 'char',\n",
              " 'character',\n",
              " 'chararray',\n",
              " 'choose',\n",
              " 'clip',\n",
              " 'clongdouble',\n",
              " 'clongfloat',\n",
              " 'column_stack',\n",
              " 'common_type',\n",
              " 'compare_chararrays',\n",
              " 'compat',\n",
              " 'complex128',\n",
              " 'complex256',\n",
              " 'complex64',\n",
              " 'complex_',\n",
              " 'complexfloating',\n",
              " 'compress',\n",
              " 'concatenate',\n",
              " 'conj',\n",
              " 'conjugate',\n",
              " 'convolve',\n",
              " 'copy',\n",
              " 'copysign',\n",
              " 'copyto',\n",
              " 'core',\n",
              " 'corrcoef',\n",
              " 'correlate',\n",
              " 'cos',\n",
              " 'cosh',\n",
              " 'count_nonzero',\n",
              " 'cov',\n",
              " 'cross',\n",
              " 'csingle',\n",
              " 'ctypeslib',\n",
              " 'cumprod',\n",
              " 'cumproduct',\n",
              " 'cumsum',\n",
              " 'datetime64',\n",
              " 'datetime_as_string',\n",
              " 'datetime_data',\n",
              " 'deg2rad',\n",
              " 'degrees',\n",
              " 'delete',\n",
              " 'deprecate',\n",
              " 'deprecate_with_doc',\n",
              " 'diag',\n",
              " 'diag_indices',\n",
              " 'diag_indices_from',\n",
              " 'diagflat',\n",
              " 'diagonal',\n",
              " 'diff',\n",
              " 'digitize',\n",
              " 'disp',\n",
              " 'divide',\n",
              " 'divmod',\n",
              " 'dot',\n",
              " 'double',\n",
              " 'dsplit',\n",
              " 'dstack',\n",
              " 'dtype',\n",
              " 'e',\n",
              " 'ediff1d',\n",
              " 'einsum',\n",
              " 'einsum_path',\n",
              " 'emath',\n",
              " 'empty',\n",
              " 'empty_like',\n",
              " 'equal',\n",
              " 'errstate',\n",
              " 'euler_gamma',\n",
              " 'exp',\n",
              " 'exp2',\n",
              " 'expand_dims',\n",
              " 'expm1',\n",
              " 'extract',\n",
              " 'eye',\n",
              " 'fabs',\n",
              " 'fastCopyAndTranspose',\n",
              " 'fft',\n",
              " 'fill_diagonal',\n",
              " 'find_common_type',\n",
              " 'finfo',\n",
              " 'fix',\n",
              " 'flatiter',\n",
              " 'flatnonzero',\n",
              " 'flexible',\n",
              " 'flip',\n",
              " 'fliplr',\n",
              " 'flipud',\n",
              " 'float128',\n",
              " 'float16',\n",
              " 'float32',\n",
              " 'float64',\n",
              " 'float_',\n",
              " 'float_power',\n",
              " 'floating',\n",
              " 'floor',\n",
              " 'floor_divide',\n",
              " 'fmax',\n",
              " 'fmin',\n",
              " 'fmod',\n",
              " 'format_float_positional',\n",
              " 'format_float_scientific',\n",
              " 'format_parser',\n",
              " 'frexp',\n",
              " 'frombuffer',\n",
              " 'fromfile',\n",
              " 'fromfunction',\n",
              " 'fromiter',\n",
              " 'frompyfunc',\n",
              " 'fromregex',\n",
              " 'fromstring',\n",
              " 'full',\n",
              " 'full_like',\n",
              " 'gcd',\n",
              " 'generic',\n",
              " 'genfromtxt',\n",
              " 'geomspace',\n",
              " 'get_array_wrap',\n",
              " 'get_include',\n",
              " 'get_printoptions',\n",
              " 'getbufsize',\n",
              " 'geterr',\n",
              " 'geterrcall',\n",
              " 'geterrobj',\n",
              " 'gradient',\n",
              " 'greater',\n",
              " 'greater_equal',\n",
              " 'half',\n",
              " 'hamming',\n",
              " 'hanning',\n",
              " 'heaviside',\n",
              " 'histogram',\n",
              " 'histogram2d',\n",
              " 'histogram_bin_edges',\n",
              " 'histogramdd',\n",
              " 'hsplit',\n",
              " 'hstack',\n",
              " 'hypot',\n",
              " 'i0',\n",
              " 'identity',\n",
              " 'iinfo',\n",
              " 'imag',\n",
              " 'in1d',\n",
              " 'index_exp',\n",
              " 'indices',\n",
              " 'inexact',\n",
              " 'inf',\n",
              " 'info',\n",
              " 'infty',\n",
              " 'inner',\n",
              " 'insert',\n",
              " 'int0',\n",
              " 'int16',\n",
              " 'int32',\n",
              " 'int64',\n",
              " 'int8',\n",
              " 'int_',\n",
              " 'intc',\n",
              " 'integer',\n",
              " 'interp',\n",
              " 'intersect1d',\n",
              " 'intp',\n",
              " 'invert',\n",
              " 'is_busday',\n",
              " 'isclose',\n",
              " 'iscomplex',\n",
              " 'iscomplexobj',\n",
              " 'isfinite',\n",
              " 'isfortran',\n",
              " 'isin',\n",
              " 'isinf',\n",
              " 'isnan',\n",
              " 'isnat',\n",
              " 'isneginf',\n",
              " 'isposinf',\n",
              " 'isreal',\n",
              " 'isrealobj',\n",
              " 'isscalar',\n",
              " 'issctype',\n",
              " 'issubclass_',\n",
              " 'issubdtype',\n",
              " 'issubsctype',\n",
              " 'iterable',\n",
              " 'ix_',\n",
              " 'kaiser',\n",
              " 'kernel_version',\n",
              " 'kron',\n",
              " 'lcm',\n",
              " 'ldexp',\n",
              " 'left_shift',\n",
              " 'less',\n",
              " 'less_equal',\n",
              " 'lexsort',\n",
              " 'lib',\n",
              " 'linalg',\n",
              " 'linspace',\n",
              " 'little_endian',\n",
              " 'load',\n",
              " 'loads',\n",
              " 'loadtxt',\n",
              " 'log',\n",
              " 'log10',\n",
              " 'log1p',\n",
              " 'log2',\n",
              " 'logaddexp',\n",
              " 'logaddexp2',\n",
              " 'logical_and',\n",
              " 'logical_not',\n",
              " 'logical_or',\n",
              " 'logical_xor',\n",
              " 'logspace',\n",
              " 'longcomplex',\n",
              " 'longdouble',\n",
              " 'longfloat',\n",
              " 'longlong',\n",
              " 'lookfor',\n",
              " 'ma',\n",
              " 'mafromtxt',\n",
              " 'mask_indices',\n",
              " 'mat',\n",
              " 'math',\n",
              " 'matmul',\n",
              " 'matrix',\n",
              " 'matrixlib',\n",
              " 'max',\n",
              " 'maximum',\n",
              " 'maximum_sctype',\n",
              " 'may_share_memory',\n",
              " 'mean',\n",
              " 'median',\n",
              " 'memmap',\n",
              " 'meshgrid',\n",
              " 'mgrid',\n",
              " 'min',\n",
              " 'min_scalar_type',\n",
              " 'minimum',\n",
              " 'mintypecode',\n",
              " 'mod',\n",
              " 'modf',\n",
              " 'moveaxis',\n",
              " 'msort',\n",
              " 'multiply',\n",
              " 'nan',\n",
              " 'nan_to_num',\n",
              " 'nanargmax',\n",
              " 'nanargmin',\n",
              " 'nancumprod',\n",
              " 'nancumsum',\n",
              " 'nanmax',\n",
              " 'nanmean',\n",
              " 'nanmedian',\n",
              " 'nanmin',\n",
              " 'nanpercentile',\n",
              " 'nanprod',\n",
              " 'nanquantile',\n",
              " 'nanstd',\n",
              " 'nansum',\n",
              " 'nanvar',\n",
              " 'nbytes',\n",
              " 'ndarray',\n",
              " 'ndenumerate',\n",
              " 'ndfromtxt',\n",
              " 'ndim',\n",
              " 'ndindex',\n",
              " 'nditer',\n",
              " 'negative',\n",
              " 'nested_iters',\n",
              " 'newaxis',\n",
              " 'nextafter',\n",
              " 'nonzero',\n",
              " 'not_equal',\n",
              " 'numarray',\n",
              " 'number',\n",
              " 'obj2sctype',\n",
              " 'object0',\n",
              " 'object_',\n",
              " 'ogrid',\n",
              " 'oldnumeric',\n",
              " 'ones',\n",
              " 'ones_like',\n",
              " 'os',\n",
              " 'outer',\n",
              " 'packbits',\n",
              " 'pad',\n",
              " 'partition',\n",
              " 'percentile',\n",
              " 'pi',\n",
              " 'piecewise',\n",
              " 'place',\n",
              " 'poly',\n",
              " 'poly1d',\n",
              " 'polyadd',\n",
              " 'polyder',\n",
              " 'polydiv',\n",
              " 'polyfit',\n",
              " 'polyint',\n",
              " 'polymul',\n",
              " 'polynomial',\n",
              " 'polysub',\n",
              " 'polyval',\n",
              " 'positive',\n",
              " 'power',\n",
              " 'printoptions',\n",
              " 'prod',\n",
              " 'product',\n",
              " 'promote_types',\n",
              " 'ptp',\n",
              " 'put',\n",
              " 'put_along_axis',\n",
              " 'putmask',\n",
              " 'quantile',\n",
              " 'r_',\n",
              " 'rad2deg',\n",
              " 'radians',\n",
              " 'random',\n",
              " 'ravel',\n",
              " 'ravel_multi_index',\n",
              " 'real',\n",
              " 'real_if_close',\n",
              " 'rec',\n",
              " 'recarray',\n",
              " 'recfromcsv',\n",
              " 'recfromtxt',\n",
              " 'reciprocal',\n",
              " 'record',\n",
              " 'remainder',\n",
              " 'repeat',\n",
              " 'require',\n",
              " 'reshape',\n",
              " 'resize',\n",
              " 'result_type',\n",
              " 'right_shift',\n",
              " 'rint',\n",
              " 'roll',\n",
              " 'rollaxis',\n",
              " 'roots',\n",
              " 'rot90',\n",
              " 'round',\n",
              " 'round_',\n",
              " 'row_stack',\n",
              " 's_',\n",
              " 'safe_eval',\n",
              " 'save',\n",
              " 'savetxt',\n",
              " 'savez',\n",
              " 'savez_compressed',\n",
              " 'sctype2char',\n",
              " 'sctypeDict',\n",
              " 'sctypes',\n",
              " 'searchsorted',\n",
              " 'select',\n",
              " 'set_numeric_ops',\n",
              " 'set_printoptions',\n",
              " 'set_string_function',\n",
              " 'setbufsize',\n",
              " 'setdiff1d',\n",
              " 'seterr',\n",
              " 'seterrcall',\n",
              " 'seterrobj',\n",
              " 'setxor1d',\n",
              " 'shape',\n",
              " 'shares_memory',\n",
              " 'short',\n",
              " 'show_config',\n",
              " 'sign',\n",
              " 'signbit',\n",
              " 'signedinteger',\n",
              " 'sin',\n",
              " 'sinc',\n",
              " 'single',\n",
              " 'singlecomplex',\n",
              " 'sinh',\n",
              " 'size',\n",
              " 'sometrue',\n",
              " 'sort',\n",
              " 'sort_complex',\n",
              " 'source',\n",
              " 'spacing',\n",
              " 'split',\n",
              " 'sqrt',\n",
              " 'square',\n",
              " 'squeeze',\n",
              " 'stack',\n",
              " 'std',\n",
              " 'str0',\n",
              " 'str_',\n",
              " 'string_',\n",
              " 'subtract',\n",
              " 'sum',\n",
              " 'swapaxes',\n",
              " 'sys',\n",
              " 'take',\n",
              " 'take_along_axis',\n",
              " 'tan',\n",
              " 'tanh',\n",
              " 'tensordot',\n",
              " 'test',\n",
              " 'testing',\n",
              " 'tile',\n",
              " 'timedelta64',\n",
              " 'trace',\n",
              " 'tracemalloc_domain',\n",
              " 'transpose',\n",
              " 'trapz',\n",
              " 'tri',\n",
              " 'tril',\n",
              " 'tril_indices',\n",
              " 'tril_indices_from',\n",
              " 'trim_zeros',\n",
              " 'triu',\n",
              " 'triu_indices',\n",
              " 'triu_indices_from',\n",
              " 'true_divide',\n",
              " 'trunc',\n",
              " 'typecodes',\n",
              " 'typename',\n",
              " 'ubyte',\n",
              " 'ufunc',\n",
              " 'uint',\n",
              " 'uint0',\n",
              " 'uint16',\n",
              " 'uint32',\n",
              " 'uint64',\n",
              " 'uint8',\n",
              " 'uintc',\n",
              " 'uintp',\n",
              " 'ulonglong',\n",
              " 'unicode_',\n",
              " 'union1d',\n",
              " 'unique',\n",
              " 'unpackbits',\n",
              " 'unravel_index',\n",
              " 'unsignedinteger',\n",
              " 'unwrap',\n",
              " 'use_hugepage',\n",
              " 'ushort',\n",
              " 'vander',\n",
              " 'var',\n",
              " 'vdot',\n",
              " 'vectorize',\n",
              " 'version',\n",
              " 'void',\n",
              " 'void0',\n",
              " 'vsplit',\n",
              " 'vstack',\n",
              " 'warnings',\n",
              " 'where',\n",
              " 'who',\n",
              " 'zeros',\n",
              " 'zeros_like']"
            ]
          },
          "metadata": {},
          "execution_count": 5
        }
      ],
      "source": [
        "dir(np) "
      ]
    },
    {
      "cell_type": "code",
      "execution_count": null,
      "metadata": {
        "nbpresent": {
          "id": "ddca807e-be71-4be2-b1ee-144bcc5b6625"
        },
        "id": "OOsX_oLopO2n",
        "outputId": "5c363ba7-784c-4cdd-f805-1663a078cfc4",
        "colab": {
          "base_uri": "https://localhost:8080/"
        }
      },
      "outputs": [
        {
          "output_type": "stream",
          "name": "stdout",
          "text": [
            "Help on built-in function arange in module numpy:\n",
            "\n",
            "arange(...)\n",
            "    arange([start,] stop[, step,], dtype=None, *, like=None)\n",
            "    \n",
            "    Return evenly spaced values within a given interval.\n",
            "    \n",
            "    Values are generated within the half-open interval ``[start, stop)``\n",
            "    (in other words, the interval including `start` but excluding `stop`).\n",
            "    For integer arguments the function is equivalent to the Python built-in\n",
            "    `range` function, but returns an ndarray rather than a list.\n",
            "    \n",
            "    When using a non-integer step, such as 0.1, the results will often not\n",
            "    be consistent.  It is better to use `numpy.linspace` for these cases.\n",
            "    \n",
            "    Parameters\n",
            "    ----------\n",
            "    start : integer or real, optional\n",
            "        Start of interval.  The interval includes this value.  The default\n",
            "        start value is 0.\n",
            "    stop : integer or real\n",
            "        End of interval.  The interval does not include this value, except\n",
            "        in some cases where `step` is not an integer and floating point\n",
            "        round-off affects the length of `out`.\n",
            "    step : integer or real, optional\n",
            "        Spacing between values.  For any output `out`, this is the distance\n",
            "        between two adjacent values, ``out[i+1] - out[i]``.  The default\n",
            "        step size is 1.  If `step` is specified as a position argument,\n",
            "        `start` must also be given.\n",
            "    dtype : dtype\n",
            "        The type of the output array.  If `dtype` is not given, infer the data\n",
            "        type from the other input arguments.\n",
            "    like : array_like\n",
            "        Reference object to allow the creation of arrays which are not\n",
            "        NumPy arrays. If an array-like passed in as ``like`` supports\n",
            "        the ``__array_function__`` protocol, the result will be defined\n",
            "        by it. In this case, it ensures the creation of an array object\n",
            "        compatible with that passed in via this argument.\n",
            "    \n",
            "        .. versionadded:: 1.20.0\n",
            "    \n",
            "    Returns\n",
            "    -------\n",
            "    arange : ndarray\n",
            "        Array of evenly spaced values.\n",
            "    \n",
            "        For floating point arguments, the length of the result is\n",
            "        ``ceil((stop - start)/step)``.  Because of floating point overflow,\n",
            "        this rule may result in the last element of `out` being greater\n",
            "        than `stop`.\n",
            "    \n",
            "    See Also\n",
            "    --------\n",
            "    numpy.linspace : Evenly spaced numbers with careful handling of endpoints.\n",
            "    numpy.ogrid: Arrays of evenly spaced numbers in N-dimensions.\n",
            "    numpy.mgrid: Grid-shaped arrays of evenly spaced numbers in N-dimensions.\n",
            "    \n",
            "    Examples\n",
            "    --------\n",
            "    >>> np.arange(3)\n",
            "    array([0, 1, 2])\n",
            "    >>> np.arange(3.0)\n",
            "    array([ 0.,  1.,  2.])\n",
            "    >>> np.arange(3,7)\n",
            "    array([3, 4, 5, 6])\n",
            "    >>> np.arange(3,7,2)\n",
            "    array([3, 5])\n",
            "\n"
          ]
        }
      ],
      "source": [
        "help(np.arange)"
      ]
    },
    {
      "cell_type": "code",
      "execution_count": null,
      "metadata": {
        "collapsed": true,
        "nbpresent": {
          "id": "f1991d2f-a4e0-461d-a9bf-003abe89b4a4"
        },
        "id": "CXstcK33pO2o",
        "outputId": "47901083-3bbd-498c-e60a-2053aa326227",
        "colab": {
          "base_uri": "https://localhost:8080/"
        }
      },
      "outputs": [
        {
          "output_type": "stream",
          "name": "stdout",
          "text": [
            "(3,)\n"
          ]
        }
      ],
      "source": [
        "a = np.array([1,2,3])\n",
        "print(a.shape)"
      ]
    },
    {
      "cell_type": "code",
      "execution_count": null,
      "metadata": {
        "nbpresent": {
          "id": "abd54cf8-7beb-416b-b7ca-68f1869b56a6"
        },
        "scrolled": true,
        "id": "UNwmDPbqpO2o",
        "outputId": "f38ba57f-31c7-4383-bbdf-6e92af7cb06b",
        "colab": {
          "base_uri": "https://localhost:8080/"
        }
      },
      "outputs": [
        {
          "output_type": "stream",
          "name": "stdout",
          "text": [
            "[[1 2 3]\n",
            " [4 5 6]\n",
            " [7 8 9]]\n"
          ]
        }
      ],
      "source": [
        "x = np.array([[1, 2, 3], \n",
        "              [4, 5, 6], \n",
        "              [7, 8, 9]])\n",
        "print(x)"
      ]
    },
    {
      "cell_type": "code",
      "source": [
        "help(np.where)"
      ],
      "metadata": {
        "id": "jNtc-_BdsF2z",
        "outputId": "77263281-91b0-4737-f0ed-de2c6be7bd3a",
        "colab": {
          "base_uri": "https://localhost:8080/"
        }
      },
      "execution_count": null,
      "outputs": [
        {
          "output_type": "stream",
          "name": "stdout",
          "text": [
            "Help on function where in module numpy:\n",
            "\n",
            "where(...)\n",
            "    where(condition, [x, y])\n",
            "    \n",
            "    Return elements chosen from `x` or `y` depending on `condition`.\n",
            "    \n",
            "    .. note::\n",
            "        When only `condition` is provided, this function is a shorthand for\n",
            "        ``np.asarray(condition).nonzero()``. Using `nonzero` directly should be\n",
            "        preferred, as it behaves correctly for subclasses. The rest of this\n",
            "        documentation covers only the case where all three arguments are\n",
            "        provided.\n",
            "    \n",
            "    Parameters\n",
            "    ----------\n",
            "    condition : array_like, bool\n",
            "        Where True, yield `x`, otherwise yield `y`.\n",
            "    x, y : array_like\n",
            "        Values from which to choose. `x`, `y` and `condition` need to be\n",
            "        broadcastable to some shape.\n",
            "    \n",
            "    Returns\n",
            "    -------\n",
            "    out : ndarray\n",
            "        An array with elements from `x` where `condition` is True, and elements\n",
            "        from `y` elsewhere.\n",
            "    \n",
            "    See Also\n",
            "    --------\n",
            "    choose\n",
            "    nonzero : The function that is called when x and y are omitted\n",
            "    \n",
            "    Notes\n",
            "    -----\n",
            "    If all the arrays are 1-D, `where` is equivalent to::\n",
            "    \n",
            "        [xv if c else yv\n",
            "         for c, xv, yv in zip(condition, x, y)]\n",
            "    \n",
            "    Examples\n",
            "    --------\n",
            "    >>> a = np.arange(10)\n",
            "    >>> a\n",
            "    array([0, 1, 2, 3, 4, 5, 6, 7, 8, 9])\n",
            "    >>> np.where(a < 5, a, 10*a)\n",
            "    array([ 0,  1,  2,  3,  4, 50, 60, 70, 80, 90])\n",
            "    \n",
            "    This can be used on multidimensional arrays too:\n",
            "    \n",
            "    >>> np.where([[True, False], [True, True]],\n",
            "    ...          [[1, 2], [3, 4]],\n",
            "    ...          [[9, 8], [7, 6]])\n",
            "    array([[1, 8],\n",
            "           [3, 4]])\n",
            "    \n",
            "    The shapes of x, y, and the condition are broadcast together:\n",
            "    \n",
            "    >>> x, y = np.ogrid[:3, :4]\n",
            "    >>> np.where(x < y, x, 10 + y)  # both x and 10+y are broadcast\n",
            "    array([[10,  0,  0,  0],\n",
            "           [10, 11,  1,  1],\n",
            "           [10, 11, 12,  2]])\n",
            "    \n",
            "    >>> a = np.array([[0, 1, 2],\n",
            "    ...               [0, 2, 4],\n",
            "    ...               [0, 3, 6]])\n",
            "    >>> np.where(a < 4, a, -1)  # -1 is broadcast\n",
            "    array([[ 0,  1,  2],\n",
            "           [ 0,  2, -1],\n",
            "           [ 0,  3, -1]])\n",
            "\n"
          ]
        }
      ]
    },
    {
      "cell_type": "code",
      "execution_count": null,
      "metadata": {
        "nbpresent": {
          "id": "a2c05033-2a32-4531-b759-1697066acabd"
        },
        "id": "w-4u0Om1pO2p",
        "outputId": "58f3a201-2b9a-4b34-ef89-4206b8abe670",
        "colab": {
          "base_uri": "https://localhost:8080/"
        }
      },
      "outputs": [
        {
          "output_type": "stream",
          "name": "stdout",
          "text": [
            "[[0 0 0]\n",
            " [0 0 6]\n",
            " [7 8 9]]\n"
          ]
        }
      ],
      "source": [
        "print(np.where(x > 5, x, 0))"
      ]
    },
    {
      "cell_type": "markdown",
      "metadata": {
        "nbpresent": {
          "id": "9a6c3b7b-069a-4f2d-aae9-a600957df8c9"
        },
        "id": "XJzxidoipO2p"
      },
      "source": [
        "### Creating arrays in `numpy`"
      ]
    },
    {
      "cell_type": "code",
      "execution_count": null,
      "metadata": {
        "collapsed": true,
        "nbpresent": {
          "id": "196e5078-4ada-44b7-a072-6643cef6efa0"
        },
        "id": "LXIbTxJrpO2p"
      },
      "outputs": [],
      "source": [
        "x = np.array([1, 2, 3])  # 1D array (or vector)"
      ]
    },
    {
      "cell_type": "code",
      "execution_count": null,
      "metadata": {
        "nbpresent": {
          "id": "4ee42201-0e71-4c28-a23b-972c10d038e6"
        },
        "id": "tUI4DWe5pO2q",
        "outputId": "5fb688bb-2281-4ed9-e9ef-d217e02da77c",
        "colab": {
          "base_uri": "https://localhost:8080/"
        }
      },
      "outputs": [
        {
          "output_type": "stream",
          "name": "stdout",
          "text": [
            "[1 2 3]\n"
          ]
        }
      ],
      "source": [
        "print(x)"
      ]
    },
    {
      "cell_type": "code",
      "execution_count": null,
      "metadata": {
        "nbpresent": {
          "id": "3b22d1a9-3efd-45f2-9af4-99b4d509e061"
        },
        "id": "Faifq8jRpO2q",
        "outputId": "8002e4b0-3ae4-47cf-c93d-1865a166bb60",
        "colab": {
          "base_uri": "https://localhost:8080/"
        }
      },
      "outputs": [
        {
          "output_type": "stream",
          "name": "stdout",
          "text": [
            "<class 'numpy.ndarray'>\n"
          ]
        }
      ],
      "source": [
        "print(type(x))"
      ]
    },
    {
      "cell_type": "code",
      "execution_count": null,
      "metadata": {
        "collapsed": true,
        "nbpresent": {
          "id": "53d1fe0c-58c0-493a-8401-98e4575bda6b"
        },
        "id": "Dv4bEuF_pO2r"
      },
      "outputs": [],
      "source": [
        "\n",
        "A = np.array([[1, 2, 3], [4, 5, 6]])  # 2D array (or matrix)"
      ]
    },
    {
      "cell_type": "code",
      "execution_count": null,
      "metadata": {
        "nbpresent": {
          "id": "d175a69b-69fd-4f1c-a86b-a8e8f0542249"
        },
        "id": "5rPGcxbvpO2s",
        "outputId": "2fcc7d86-ff3c-42d0-deb9-35e1d3538282",
        "colab": {
          "base_uri": "https://localhost:8080/"
        }
      },
      "outputs": [
        {
          "output_type": "stream",
          "name": "stdout",
          "text": [
            "[[1 2 3]\n",
            " [4 5 6]]\n"
          ]
        }
      ],
      "source": [
        "print(A)"
      ]
    },
    {
      "cell_type": "code",
      "execution_count": null,
      "metadata": {
        "nbpresent": {
          "id": "eec7044b-04b8-4b0b-acaa-4dbdf977d965"
        },
        "id": "VACVLvcApO2s",
        "outputId": "d3bbf7cf-71be-4e98-b8fd-b62f333ed152",
        "colab": {
          "base_uri": "https://localhost:8080/"
        }
      },
      "outputs": [
        {
          "output_type": "stream",
          "name": "stdout",
          "text": [
            "<class 'numpy.ndarray'>\n"
          ]
        }
      ],
      "source": [
        "print(type(A))"
      ]
    },
    {
      "cell_type": "code",
      "execution_count": null,
      "metadata": {
        "nbpresent": {
          "id": "ecdcf647-8061-46a8-aa40-570db88db525"
        },
        "id": "0SZ0gnyUpO2t",
        "outputId": "dcc48703-2c06-43c0-fc37-dc0ced530332",
        "colab": {
          "base_uri": "https://localhost:8080/"
        }
      },
      "outputs": [
        {
          "output_type": "stream",
          "name": "stdout",
          "text": [
            "(3,)\n"
          ]
        }
      ],
      "source": [
        "print(x.shape)"
      ]
    },
    {
      "cell_type": "code",
      "execution_count": null,
      "metadata": {
        "nbpresent": {
          "id": "ff6e394f-8024-4e23-b37a-993c9098e032"
        },
        "id": "aekuaSuGpO2t",
        "outputId": "261e5524-8a55-484a-be25-d99a06a259d6",
        "colab": {
          "base_uri": "https://localhost:8080/"
        }
      },
      "outputs": [
        {
          "output_type": "stream",
          "name": "stdout",
          "text": [
            "(2, 3)\n",
            "<class 'tuple'>\n"
          ]
        }
      ],
      "source": [
        "print(A.shape)\n",
        "print(type(A.shape))"
      ]
    },
    {
      "cell_type": "code",
      "execution_count": null,
      "metadata": {
        "nbpresent": {
          "id": "eef01605-fd28-4148-a4fc-7a79d2a61e72"
        },
        "id": "713ENv-qpO2u",
        "outputId": "cca722ec-5cdf-4aec-88b7-18db748db3e5",
        "colab": {
          "base_uri": "https://localhost:8080/"
        }
      },
      "outputs": [
        {
          "output_type": "stream",
          "name": "stdout",
          "text": [
            "2\n"
          ]
        }
      ],
      "source": [
        "# number of rows\n",
        "print(A.shape[0])"
      ]
    },
    {
      "cell_type": "code",
      "execution_count": null,
      "metadata": {
        "nbpresent": {
          "id": "5def64a0-0984-4c4a-a981-ee5d573b778a"
        },
        "id": "4TTwtaj8pO2u",
        "outputId": "3c8873dd-cc21-4f2d-fd02-cc1e59634c42",
        "colab": {
          "base_uri": "https://localhost:8080/"
        }
      },
      "outputs": [
        {
          "output_type": "stream",
          "name": "stdout",
          "text": [
            "3\n"
          ]
        }
      ],
      "source": [
        "# number of cols\n",
        "print(A.shape[1])"
      ]
    },
    {
      "cell_type": "markdown",
      "metadata": {
        "nbpresent": {
          "id": "b1a2b4ac-eff2-496c-82ab-07e1e35a67a4"
        },
        "id": "BqWWebjGpO2v"
      },
      "source": [
        "### Reshaping an array"
      ]
    },
    {
      "cell_type": "code",
      "execution_count": null,
      "metadata": {
        "nbpresent": {
          "id": "ca9384b5-ac3c-4646-82f2-ae7d666af843"
        },
        "id": "RePGCvfApO2v",
        "outputId": "068d9c8a-90d0-4aae-8cbb-97feb2ae60a9",
        "colab": {
          "base_uri": "https://localhost:8080/"
        }
      },
      "outputs": [
        {
          "output_type": "stream",
          "name": "stdout",
          "text": [
            "[[1 2 3]\n",
            " [4 5 6]]\n"
          ]
        }
      ],
      "source": [
        "print(A)"
      ]
    },
    {
      "cell_type": "code",
      "execution_count": null,
      "metadata": {
        "nbpresent": {
          "id": "3daeffc0-c91e-49a3-bec6-9acc16e4ffe3"
        },
        "id": "aPTYWFFGpO2v",
        "outputId": "5017471a-e30e-4503-cfe4-a10b89df3a4b",
        "colab": {
          "base_uri": "https://localhost:8080/"
        }
      },
      "outputs": [
        {
          "output_type": "stream",
          "name": "stdout",
          "text": [
            "[[1 2]\n",
            " [3 4]\n",
            " [5 6]]\n"
          ]
        }
      ],
      "source": [
        "print(np.reshape(A, (3, 2)))"
      ]
    },
    {
      "cell_type": "code",
      "execution_count": null,
      "metadata": {
        "nbpresent": {
          "id": "45d7b13e-3ece-452e-8628-30e223eb213e"
        },
        "id": "kdvg7qFFpO2w",
        "outputId": "a49cc70a-26bd-4ae0-c521-c9daa2dc2753",
        "colab": {
          "base_uri": "https://localhost:8080/"
        }
      },
      "outputs": [
        {
          "output_type": "stream",
          "name": "stdout",
          "text": [
            "[[1 2 3 4 5 6]]\n"
          ]
        }
      ],
      "source": [
        "print(np.reshape(A, (1, -1)))  # -1 means the number of columns will be determined automatically"
      ]
    },
    {
      "cell_type": "code",
      "execution_count": null,
      "metadata": {
        "nbpresent": {
          "id": "2dab37cf-2ab2-493c-9703-be87b5497406"
        },
        "id": "Yxy4avIepO2w",
        "outputId": "cdf13706-9ef7-4b90-beb2-2b4b4b8a8f77",
        "colab": {
          "base_uri": "https://localhost:8080/"
        }
      },
      "outputs": [
        {
          "output_type": "stream",
          "name": "stdout",
          "text": [
            "[[1]\n",
            " [2]\n",
            " [3]\n",
            " [4]\n",
            " [5]\n",
            " [6]]\n"
          ]
        }
      ],
      "source": [
        "print(np.reshape(A, (-1, 1)))   # -1 means the number of rows will be determined automatically"
      ]
    },
    {
      "cell_type": "code",
      "execution_count": null,
      "metadata": {
        "nbpresent": {
          "id": "36083dc2-a654-46ac-bfc1-850444e8d55d"
        },
        "id": "U-tTAExSpO2x",
        "outputId": "bafd6135-6344-42fe-fcf4-ba3e5a082e2a",
        "colab": {
          "base_uri": "https://localhost:8080/"
        }
      },
      "outputs": [
        {
          "output_type": "stream",
          "name": "stdout",
          "text": [
            "[1 2 3]\n"
          ]
        }
      ],
      "source": [
        "print(x)"
      ]
    },
    {
      "cell_type": "code",
      "execution_count": null,
      "metadata": {
        "nbpresent": {
          "id": "d4dbe31f-173f-4a5f-a2f0-d492d0aafb8b"
        },
        "scrolled": true,
        "id": "LlHokG0BpO2x",
        "outputId": "9e459377-370f-4f79-fba9-5807ef9ce68c",
        "colab": {
          "base_uri": "https://localhost:8080/"
        }
      },
      "outputs": [
        {
          "output_type": "stream",
          "name": "stdout",
          "text": [
            "[[1]\n",
            " [2]\n",
            " [3]]\n",
            "(3, 1)\n"
          ]
        }
      ],
      "source": [
        "a = x[:, None]\n",
        "print(a)  # convert 1D array to 2D array\n"
      ]
    },
    {
      "cell_type": "code",
      "execution_count": null,
      "metadata": {
        "nbpresent": {
          "id": "d83540d4-8466-48f3-8951-c116a529ac73"
        },
        "id": "OG95C8VypO2x",
        "outputId": "4443f20b-2aa8-4191-bd8d-47e16beda3a8",
        "colab": {
          "base_uri": "https://localhost:8080/"
        }
      },
      "outputs": [
        {
          "output_type": "stream",
          "name": "stdout",
          "text": [
            "[[1]\n",
            " [2]\n",
            " [3]]\n",
            "[[1 2 3]]\n",
            "(1, 3)\n"
          ]
        }
      ],
      "source": [
        "print(x[:, np.newaxis]) # another way to convert 1D array to 2D array\n",
        "print(x[np.newaxis , :])\n",
        "print(x[np.newaxis , :].shape)"
      ]
    },
    {
      "cell_type": "markdown",
      "metadata": {
        "nbpresent": {
          "id": "590e515a-bfb2-4fd1-9cc4-e113e79a27cc"
        },
        "id": "mbPfs-o-pO2y"
      },
      "source": [
        "#### Array dimension"
      ]
    },
    {
      "cell_type": "code",
      "execution_count": null,
      "metadata": {
        "nbpresent": {
          "id": "1f771d3d-0443-4164-8e15-3ba88264b597"
        },
        "id": "yeM0gPLGpO2y",
        "outputId": "1fea36d5-25a9-42c2-891a-efc446cf6d00",
        "colab": {
          "base_uri": "https://localhost:8080/"
        }
      },
      "outputs": [
        {
          "output_type": "stream",
          "name": "stdout",
          "text": [
            "1\n"
          ]
        }
      ],
      "source": [
        "print(x.ndim)"
      ]
    },
    {
      "cell_type": "code",
      "execution_count": null,
      "metadata": {
        "nbpresent": {
          "id": "74d8012a-f84f-4f54-851c-453202209ae9"
        },
        "id": "GlHja4_PpO2y",
        "outputId": "f69d59ca-57d6-4bcd-9ff6-fa8173fad1ac",
        "colab": {
          "base_uri": "https://localhost:8080/"
        }
      },
      "outputs": [
        {
          "output_type": "stream",
          "name": "stdout",
          "text": [
            "2\n"
          ]
        }
      ],
      "source": [
        "print(A.ndim)"
      ]
    },
    {
      "cell_type": "markdown",
      "metadata": {
        "nbpresent": {
          "id": "1e5c2089-2f53-4c18-b028-8d7c2706108f"
        },
        "id": "tLnpd-t0pO2y"
      },
      "source": [
        "#### Datatypes"
      ]
    },
    {
      "cell_type": "code",
      "execution_count": null,
      "metadata": {
        "nbpresent": {
          "id": "4c0a22f4-9e08-4371-9940-06244894f11e"
        },
        "id": "p7fx9FGTpO2z",
        "outputId": "d6b58d62-4127-49e1-fbee-53fe4985c77a",
        "colab": {
          "base_uri": "https://localhost:8080/"
        }
      },
      "outputs": [
        {
          "output_type": "stream",
          "name": "stdout",
          "text": [
            "int64\n"
          ]
        }
      ],
      "source": [
        "print(A.dtype)"
      ]
    },
    {
      "cell_type": "code",
      "execution_count": null,
      "metadata": {
        "collapsed": true,
        "nbpresent": {
          "id": "187d3b7a-56f1-44f3-8c3b-eb90e15aeb25"
        },
        "id": "3Ivq5lcHpO2z"
      },
      "outputs": [],
      "source": [
        "A = np.array([[1, 2, 3], [4, 5, 6]], dtype=np.float32)"
      ]
    },
    {
      "cell_type": "code",
      "execution_count": null,
      "metadata": {
        "nbpresent": {
          "id": "f73c432d-9285-4706-a781-c1a4826513d5"
        },
        "id": "Fdg-XE2tpO2z",
        "outputId": "979960e3-0177-40e9-b525-b8cced368add",
        "colab": {
          "base_uri": "https://localhost:8080/"
        }
      },
      "outputs": [
        {
          "output_type": "stream",
          "name": "stdout",
          "text": [
            "float32\n"
          ]
        }
      ],
      "source": [
        "print(A.dtype)"
      ]
    },
    {
      "cell_type": "code",
      "execution_count": null,
      "metadata": {
        "nbpresent": {
          "id": "58a8c1a4-4906-418f-9bb8-94ad80718dd1"
        },
        "id": "2O8jxEePpO2z",
        "outputId": "e7270c65-9eda-40f5-b63b-124396132a2c",
        "colab": {
          "base_uri": "https://localhost:8080/"
        }
      },
      "outputs": [
        {
          "output_type": "stream",
          "name": "stdout",
          "text": [
            "[[1. 2. 3.]\n",
            " [4. 5. 6.]]\n"
          ]
        }
      ],
      "source": [
        "A = np.array([[1, 2, 3], [4, 5, 6]]).astype(np.float64)\n",
        "print(A)"
      ]
    },
    {
      "cell_type": "code",
      "execution_count": null,
      "metadata": {
        "nbpresent": {
          "id": "7736bbee-2041-4d15-bd1d-b3ff45dc4800"
        },
        "id": "K0IvHveXpO20",
        "outputId": "a98adbc2-1ee2-4e76-fcf1-af73b3f353ec",
        "colab": {
          "base_uri": "https://localhost:8080/"
        }
      },
      "outputs": [
        {
          "output_type": "stream",
          "name": "stdout",
          "text": [
            "float64\n"
          ]
        }
      ],
      "source": [
        "print(A.dtype)"
      ]
    },
    {
      "cell_type": "code",
      "execution_count": null,
      "metadata": {
        "id": "v3DN0eGopO21",
        "outputId": "e09b2072-0cc5-4fef-e574-563be9ccc6a3",
        "colab": {
          "base_uri": "https://localhost:8080/"
        }
      },
      "outputs": [
        {
          "output_type": "stream",
          "name": "stdout",
          "text": [
            "6\n"
          ]
        }
      ],
      "source": [
        "print(A.size)  # number of elements"
      ]
    },
    {
      "cell_type": "code",
      "execution_count": null,
      "metadata": {
        "id": "39qPuy55pO22",
        "outputId": "5781a8a5-8331-4394-b769-b1450a8dd700",
        "colab": {
          "base_uri": "https://localhost:8080/"
        }
      },
      "outputs": [
        {
          "output_type": "stream",
          "name": "stdout",
          "text": [
            "8\n"
          ]
        }
      ],
      "source": [
        "print(A.itemsize)  # size of each element (in bytes)"
      ]
    },
    {
      "cell_type": "markdown",
      "metadata": {
        "id": "MV33lYUdpO22"
      },
      "source": [
        "**Available data types:** \n",
        "- integer: `int8`, `int16`, `int32`, `int64`,\n",
        "- unsigned integer: `uint8`, `uint16`, `uint32`, `uint64`\n",
        "- float: `float16`, `float32`, `float64`\n",
        "- complex: `complex64`, `complex128`\n",
        "\n",
        "Check out [the documentation](http://docs.scipy.org/doc/numpy-1.10.1/user/basics.types.html) for the full list."
      ]
    },
    {
      "cell_type": "markdown",
      "metadata": {
        "nbpresent": {
          "id": "997bcafe-20d2-4a44-a801-92aed27fb8f9"
        },
        "id": "-X4rkqp0pO22"
      },
      "source": [
        "### Trick 2: `<SHIFT> + <TAB>`"
      ]
    },
    {
      "cell_type": "markdown",
      "metadata": {
        "nbpresent": {
          "id": "821f788a-92c7-4cd8-9852-75be31cadd49"
        },
        "id": "3o49NkrtpO23"
      },
      "source": [
        "<img src='http://www.snrazavi.ir/imgs/img2.png' width='80%'/>"
      ]
    },
    {
      "cell_type": "code",
      "execution_count": null,
      "metadata": {
        "collapsed": true,
        "nbpresent": {
          "id": "f7c2fe3d-01f6-4c14-8847-85f031d0ee52"
        },
        "id": "lb0XFO0WpO23"
      },
      "outputs": [],
      "source": [
        "#A = np.array()"
      ]
    },
    {
      "cell_type": "markdown",
      "metadata": {
        "nbpresent": {
          "id": "d3936d17-6897-44c9-a7a7-d4295ffa4346"
        },
        "id": "aLpciWL6pO23"
      },
      "source": [
        "### `np.arange()`"
      ]
    },
    {
      "cell_type": "code",
      "execution_count": null,
      "metadata": {
        "nbpresent": {
          "id": "4c2f26ed-89bb-40fa-8d50-4b4241e7d30e"
        },
        "id": "CI0IMxcYpO23",
        "outputId": "1c99d4a2-53d5-441f-a473-6e1ab89f8fbd",
        "colab": {
          "base_uri": "https://localhost:8080/"
        }
      },
      "outputs": [
        {
          "output_type": "stream",
          "name": "stdout",
          "text": [
            "[ 1  4  7 10 13 16 19]\n"
          ]
        }
      ],
      "source": [
        "x = np.arange(1, 20, step=3)\n",
        "print(x)"
      ]
    },
    {
      "cell_type": "code",
      "execution_count": null,
      "metadata": {
        "collapsed": true,
        "nbpresent": {
          "id": "b5c22a54-cd38-4b33-b5d6-508b01f450be"
        },
        "id": "EUGTvuBgpO24"
      },
      "outputs": [],
      "source": [
        "# np.arange?"
      ]
    },
    {
      "cell_type": "markdown",
      "metadata": {
        "nbpresent": {
          "id": "58e10664-de79-449b-a75d-a43e9c738dec"
        },
        "id": "EH1xKar7pO24"
      },
      "source": [
        "### `np.linspace()`\n",
        "It is generally preferable to use the `linspace` function instead of `arange` when working with floats. The `linspace` function returns an array containing a specific number of points evenly distributed between two values (note that the maximum value is *included*, contrary to `arange`):"
      ]
    },
    {
      "cell_type": "code",
      "execution_count": null,
      "metadata": {
        "nbpresent": {
          "id": "c4594c5b-5954-4231-ae79-1106268276bf"
        },
        "id": "hPXFWaempO24",
        "outputId": "51e452cd-0ec3-4b0b-d4d4-f176a85c6b68",
        "colab": {
          "base_uri": "https://localhost:8080/"
        }
      },
      "outputs": [
        {
          "output_type": "stream",
          "name": "stdout",
          "text": [
            "[1.   1.25 1.5  1.75 2.  ]\n"
          ]
        }
      ],
      "source": [
        "x = np.linspace(1, 2, num=5)\n",
        "print(x)"
      ]
    },
    {
      "cell_type": "code",
      "execution_count": null,
      "metadata": {
        "nbpresent": {
          "id": "485d2d73-505d-4159-881d-ba4605fa522c"
        },
        "id": "08K3dl_PpO25",
        "outputId": "853547dc-d217-457c-9ed9-5a6361c7535b",
        "colab": {
          "base_uri": "https://localhost:8080/"
        }
      },
      "outputs": [
        {
          "output_type": "stream",
          "name": "stdout",
          "text": [
            "[1.  1.1 1.2 1.3 1.4 1.5 1.6 1.7 1.8 1.9 2. ]\n"
          ]
        }
      ],
      "source": [
        "x = np.linspace(1, 2, num=11)\n",
        "print(x)"
      ]
    },
    {
      "cell_type": "markdown",
      "metadata": {
        "nbpresent": {
          "id": "f4cc3a40-ace2-45ef-a83a-9536fddce6c0"
        },
        "id": "4zgKhu93pO28"
      },
      "source": [
        "### Creating specific arrays\n",
        "- `np.zeros`\n",
        "- `np.ones`\n",
        "- `np.full`\n",
        "- `np.eye`"
      ]
    },
    {
      "cell_type": "code",
      "execution_count": null,
      "metadata": {
        "nbpresent": {
          "id": "971dc982-a5e6-44fc-add2-6854edaf4121"
        },
        "id": "HBjNkdNSpO29",
        "outputId": "aa794d56-8d4f-417f-e0c7-64adab991ce2"
      },
      "outputs": [
        {
          "name": "stdout",
          "output_type": "stream",
          "text": [
            "[[ 0.  0.  0.]\n",
            " [ 0.  0.  0.]]\n"
          ]
        }
      ],
      "source": [
        "print(np.zeros((2, 3)))"
      ]
    },
    {
      "cell_type": "code",
      "execution_count": null,
      "metadata": {
        "nbpresent": {
          "id": "d3aee520-7e9d-419e-a088-26452bde7d29"
        },
        "id": "OufuUE8tpO29",
        "outputId": "2bbe7757-7e75-4c76-dbfc-3ca46271d3d6"
      },
      "outputs": [
        {
          "name": "stdout",
          "output_type": "stream",
          "text": [
            "[[0 0 0]\n",
            " [0 0 0]]\n"
          ]
        }
      ],
      "source": [
        "print(np.zeros(shape=(2, 3), dtype=np.int32))"
      ]
    },
    {
      "cell_type": "code",
      "execution_count": null,
      "metadata": {
        "nbpresent": {
          "id": "bad4b0ef-284b-4d36-a4b5-e20ef09fe5d7"
        },
        "id": "V3x__viMpO29",
        "outputId": "79869f1d-523c-46f3-9588-8762b95d6191"
      },
      "outputs": [
        {
          "name": "stdout",
          "output_type": "stream",
          "text": [
            "[[ 1.  1.]\n",
            " [ 1.  1.]\n",
            " [ 1.  1.]]\n"
          ]
        }
      ],
      "source": [
        "print(np.ones(shape=(3, 2)))"
      ]
    },
    {
      "cell_type": "code",
      "execution_count": null,
      "metadata": {
        "nbpresent": {
          "id": "9729c39a-5644-47dd-8e09-d92937bbf74d"
        },
        "id": "XzAtS5NVpO2-",
        "outputId": "ba57fd4a-ffbd-4f95-e253-9ff0cef4ee3e"
      },
      "outputs": [
        {
          "name": "stdout",
          "output_type": "stream",
          "text": [
            "[[ 5.  5.]\n",
            " [ 5.  5.]\n",
            " [ 5.  5.]]\n"
          ]
        }
      ],
      "source": [
        "print(5. * np.ones(shape=(3, 2)))"
      ]
    },
    {
      "cell_type": "code",
      "execution_count": null,
      "metadata": {
        "nbpresent": {
          "id": "74f2a6d4-299c-48ea-ace6-869f1ac66c95"
        },
        "id": "mC0jJdo-pO3A",
        "outputId": "45c55ada-69f2-4173-be97-2065d8201157"
      },
      "outputs": [
        {
          "name": "stdout",
          "output_type": "stream",
          "text": [
            "[[5 5]\n",
            " [5 5]\n",
            " [5 5]]\n"
          ]
        }
      ],
      "source": [
        "print(np.full((3, 2), 5))"
      ]
    },
    {
      "cell_type": "code",
      "execution_count": null,
      "metadata": {
        "nbpresent": {
          "id": "63de882d-8f13-44a7-b28b-c424753db3f2"
        },
        "id": "mTmmuiVppO3A",
        "outputId": "e760ff2a-4a02-4cea-89ae-599c4fdfaae2"
      },
      "outputs": [
        {
          "name": "stdout",
          "output_type": "stream",
          "text": [
            "[[ 1.  0.  0.  0.]\n",
            " [ 0.  1.  0.  0.]\n",
            " [ 0.  0.  1.  0.]\n",
            " [ 0.  0.  0.  1.]]\n"
          ]
        }
      ],
      "source": [
        "print(np.eye(4))"
      ]
    },
    {
      "cell_type": "code",
      "execution_count": null,
      "metadata": {
        "nbpresent": {
          "id": "17bb4e3f-6ddd-4f61-ac3f-2d4650e6a1d5"
        },
        "id": "KCCDJfm1pO3B",
        "outputId": "d818ae7f-27b8-4e70-cafb-531f1792a67e"
      },
      "outputs": [
        {
          "name": "stdout",
          "output_type": "stream",
          "text": [
            "[[1 0 0 0]\n",
            " [0 1 0 0]\n",
            " [0 0 1 0]\n",
            " [0 0 0 1]]\n"
          ]
        }
      ],
      "source": [
        "print(np.eye(4, dtype=np.int32))"
      ]
    },
    {
      "cell_type": "markdown",
      "metadata": {
        "id": "W8MMC_8mpO3B"
      },
      "source": [
        "<div class=\"alert alert-success\">\n",
        "    <b>Question:</b> Create a numpy array like the following one.\n",
        "    <pre>\n",
        "    \n",
        "        [[1, 2, 3],\n",
        "         [4, 5, 6],\n",
        "         [7, 8, 9]]\n",
        "    </pre>\n",
        "</div>"
      ]
    },
    {
      "cell_type": "markdown",
      "metadata": {
        "id": "_qiaxTBGpO3B"
      },
      "source": [
        "**Answer.**"
      ]
    },
    {
      "cell_type": "code",
      "execution_count": null,
      "metadata": {
        "nbpresent": {
          "id": "04bfec12-90d8-4531-8ebf-434ea7bb66a7"
        },
        "id": "sLZxFYBIpO3B",
        "outputId": "b8e6ab36-77e7-4499-aec1-226e9ad9188d",
        "colab": {
          "base_uri": "https://localhost:8080/"
        }
      },
      "outputs": [
        {
          "output_type": "stream",
          "name": "stdout",
          "text": [
            "[[1.0 2.0 3.0]\n",
            " [4.0 5.0 6.0]\n",
            " [7.0 8.0 9.0]]\n"
          ]
        }
      ],
      "source": [
        "print(np.reshape(np.arange(1, 10), (3, 3)))"
      ]
    },
    {
      "cell_type": "markdown",
      "metadata": {
        "id": "hGiBLoxVpO3C"
      },
      "source": [
        "<div class=\"alert alert-success\">\n",
        "    <strong>Question:</strong> Create a numpy array like the following one.\n",
        "    <ul>\n",
        "        <li> Hint: think how to get the required matrix from identity matrix.\n",
        "        </li>\n",
        "    </ul>\n",
        "    <pre>\n",
        "    \n",
        "        [[0, 0, 0, 1],\n",
        "         [0, 0, 1, 0],\n",
        "         [0, 1, 0, 0],\n",
        "         [1, 0, 0, 0]]\n",
        "    </pre>\n",
        "</div>"
      ]
    },
    {
      "cell_type": "markdown",
      "metadata": {
        "id": "hBENfpQjpO3C"
      },
      "source": [
        "**Answer.**"
      ]
    },
    {
      "cell_type": "code",
      "execution_count": null,
      "metadata": {
        "nbpresent": {
          "id": "eb2f0d6f-6fb2-46c5-bee4-7eec051d1bd6"
        },
        "id": "_azT0pnNpO3C",
        "outputId": "66e1c7ea-6eac-4a5c-bdd3-ff9c37a35728"
      },
      "outputs": [
        {
          "name": "stdout",
          "output_type": "stream",
          "text": [
            "[[ 0.  0.  0.  1.]\n",
            " [ 0.  0.  1.  0.]\n",
            " [ 0.  1.  0.  0.]\n",
            " [ 1.  0.  0.  0.]]\n"
          ]
        }
      ],
      "source": [
        "# write your code here\n",
        "print(np.fliplr(np.eye(4)))"
      ]
    },
    {
      "cell_type": "markdown",
      "metadata": {
        "nbpresent": {
          "id": "736276d3-ba02-43b7-9bc5-5d9cf8555766"
        },
        "id": "frOiBothpO3C"
      },
      "source": [
        "### Creating random arrays\n",
        "- In many situations in machine learning, we need to create random arrays.\n",
        "- For example, in a parametric model, we usually need to initialize the set of parameters randomly."
      ]
    },
    {
      "cell_type": "code",
      "execution_count": null,
      "metadata": {
        "nbpresent": {
          "id": "6fe1a005-d2f2-4a22-aa23-cb6be1df6700"
        },
        "id": "mEFFJp_6pO3D",
        "outputId": "63092bcf-cb52-46e0-ede4-002d1bc8eb4a",
        "colab": {
          "base_uri": "https://localhost:8080/"
        }
      },
      "outputs": [
        {
          "output_type": "execute_result",
          "data": {
            "text/plain": [
              "['BitGenerator',\n",
              " 'Generator',\n",
              " 'MT19937',\n",
              " 'PCG64',\n",
              " 'PCG64DXSM',\n",
              " 'Philox',\n",
              " 'RandomState',\n",
              " 'SFC64',\n",
              " 'SeedSequence',\n",
              " '__RandomState_ctor',\n",
              " '__all__',\n",
              " '__builtins__',\n",
              " '__cached__',\n",
              " '__doc__',\n",
              " '__file__',\n",
              " '__loader__',\n",
              " '__name__',\n",
              " '__package__',\n",
              " '__path__',\n",
              " '__spec__',\n",
              " '_bounded_integers',\n",
              " '_common',\n",
              " '_generator',\n",
              " '_mt19937',\n",
              " '_pcg64',\n",
              " '_philox',\n",
              " '_pickle',\n",
              " '_sfc64',\n",
              " 'beta',\n",
              " 'binomial',\n",
              " 'bit_generator',\n",
              " 'bytes',\n",
              " 'chisquare',\n",
              " 'choice',\n",
              " 'default_rng',\n",
              " 'dirichlet',\n",
              " 'exponential',\n",
              " 'f',\n",
              " 'gamma',\n",
              " 'geometric',\n",
              " 'get_state',\n",
              " 'gumbel',\n",
              " 'hypergeometric',\n",
              " 'laplace',\n",
              " 'logistic',\n",
              " 'lognormal',\n",
              " 'logseries',\n",
              " 'mtrand',\n",
              " 'multinomial',\n",
              " 'multivariate_normal',\n",
              " 'negative_binomial',\n",
              " 'noncentral_chisquare',\n",
              " 'noncentral_f',\n",
              " 'normal',\n",
              " 'pareto',\n",
              " 'permutation',\n",
              " 'poisson',\n",
              " 'power',\n",
              " 'rand',\n",
              " 'randint',\n",
              " 'randn',\n",
              " 'random',\n",
              " 'random_integers',\n",
              " 'random_sample',\n",
              " 'ranf',\n",
              " 'rayleigh',\n",
              " 'sample',\n",
              " 'seed',\n",
              " 'set_state',\n",
              " 'shuffle',\n",
              " 'standard_cauchy',\n",
              " 'standard_exponential',\n",
              " 'standard_gamma',\n",
              " 'standard_normal',\n",
              " 'standard_t',\n",
              " 'test',\n",
              " 'triangular',\n",
              " 'uniform',\n",
              " 'vonmises',\n",
              " 'wald',\n",
              " 'weibull',\n",
              " 'zipf']"
            ]
          },
          "metadata": {},
          "execution_count": 20
        }
      ],
      "source": [
        "dir(np.random)"
      ]
    },
    {
      "cell_type": "code",
      "execution_count": null,
      "metadata": {
        "collapsed": true,
        "nbpresent": {
          "id": "a7ca2b7a-8676-49d4-bbd6-619d9f408a44"
        },
        "id": "UIOKLaoopO3D"
      },
      "outputs": [],
      "source": [
        "help(np.random.rand)"
      ]
    },
    {
      "cell_type": "code",
      "execution_count": null,
      "metadata": {
        "nbpresent": {
          "id": "92c4573e-bcf4-465c-a408-3f6cc1c33d0d"
        },
        "id": "Pln5Bx7NpO3E",
        "outputId": "a9c75d8f-b0e9-48f5-fa7f-043a7e1989ed",
        "colab": {
          "base_uri": "https://localhost:8080/"
        }
      },
      "outputs": [
        {
          "output_type": "stream",
          "name": "stdout",
          "text": [
            "[[0.2 0.8]\n",
            " [0.8 0.8]\n",
            " [0.4 0.9]]\n"
          ]
        }
      ],
      "source": [
        "print(np.random.rand(3, 2))"
      ]
    },
    {
      "cell_type": "markdown",
      "metadata": {
        "nbpresent": {
          "id": "33efbd0f-4ff0-4592-8b4c-c00072c6a329"
        },
        "id": "SPsrbO99pO3E"
      },
      "source": [
        "#### Normal distribution $N(\\mu, \\sigma^2)$\n",
        "<img src=\"http://www.snrazavi.ir/imgs/Bell-Curve.png\" width=\"50%\"/>"
      ]
    },
    {
      "cell_type": "code",
      "execution_count": null,
      "metadata": {
        "collapsed": true,
        "nbpresent": {
          "id": "196f27c1-4847-4e36-a670-8b619e24f4b0"
        },
        "id": "hmRgw7v7pO3E"
      },
      "outputs": [],
      "source": [
        "# np.random.randn?"
      ]
    },
    {
      "cell_type": "markdown",
      "metadata": {
        "id": "r-s_szx1pO3E"
      },
      "source": [
        "Creating a 2-by-3 matrix from normal distribution with $\\mu=0.0$ and $\\sigma^2=1.0$."
      ]
    },
    {
      "cell_type": "code",
      "execution_count": null,
      "metadata": {
        "nbpresent": {
          "id": "6cd9e275-e3cd-4260-94d5-21c600babd43"
        },
        "scrolled": true,
        "id": "rZQjroGbpO3F",
        "outputId": "5a1e6098-88d1-415a-c3d0-2f9b0ffaa1f4",
        "colab": {
          "base_uri": "https://localhost:8080/"
        }
      },
      "outputs": [
        {
          "output_type": "stream",
          "name": "stdout",
          "text": [
            "[[-1.0 -0.4 -0.2]\n",
            " [1.1 0.5 0.1]]\n"
          ]
        }
      ],
      "source": [
        "print(np.random.randn(2, 3))"
      ]
    },
    {
      "cell_type": "code",
      "execution_count": null,
      "metadata": {
        "collapsed": true,
        "nbpresent": {
          "id": "04f8c8d7-2c87-4f8a-a195-5ae014c52b86"
        },
        "id": "vEHygX5XpO3F"
      },
      "outputs": [],
      "source": [
        "import matplotlib.pyplot as plt  # a package to draw"
      ]
    },
    {
      "cell_type": "code",
      "execution_count": null,
      "metadata": {
        "nbpresent": {
          "id": "ba4c3b06-9dac-485c-b8d7-07abad44d838"
        },
        "id": "f3QLpoVmpO3F",
        "outputId": "63448446-15be-4bdc-f6bc-7ea914bd1779",
        "colab": {
          "base_uri": "https://localhost:8080/",
          "height": 281
        }
      },
      "outputs": [
        {
          "output_type": "display_data",
          "data": {
            "image/png": "[encoded data removed]",
            "text/plain": [
              "<Figure size 432x288 with 1 Axes>"
            ]
          },
          "metadata": {
            "needs_background": "light"
          }
        }
      ],
      "source": [
        "x = np.random.randn(100000)\n",
        "plt.hist(x)\n",
        "plt.title(\"Histogram of random numbers\");"
      ]
    },
    {
      "cell_type": "code",
      "execution_count": null,
      "metadata": {
        "nbpresent": {
          "id": "c779cbdb-5013-4445-97e3-4d7014f58e5d"
        },
        "scrolled": true,
        "id": "bVM6WMinpO3G",
        "outputId": "50f37a5b-0394-478a-8518-c41eca586d37",
        "colab": {
          "base_uri": "https://localhost:8080/",
          "height": 281
        }
      },
      "outputs": [
        {
          "output_type": "display_data",
          "data": {
            "image/png": "[encoded data removed]",
            "text/plain": [
              "<Figure size 432x288 with 1 Axes>"
            ]
          },
          "metadata": {
            "needs_background": "light"
          }
        }
      ],
      "source": [
        "plt.hist(x, bins=50)\n",
        "plt.title(\"Histogram of normal distribution\");"
      ]
    },
    {
      "cell_type": "code",
      "execution_count": null,
      "metadata": {
        "id": "9Grtbv6kpO3G",
        "outputId": "78ff14cb-08c1-4456-8d45-b1affd895741",
        "colab": {
          "base_uri": "https://localhost:8080/",
          "height": 227
        }
      },
      "outputs": [
        {
          "output_type": "display_data",
          "data": {
            "image/png": "[encoded data removed]",
            "text/plain": [
              "<Figure size 864x216 with 3 Axes>"
            ]
          },
          "metadata": {
            "needs_background": "light"
          }
        }
      ],
      "source": [
        "plt.figure(figsize=(12, 3))\n",
        "# normal dist with mu = 0, sigma^2 = 1\n",
        "plt.subplot(1, 3, 1)\n",
        "x = np.random.randn(100000)\n",
        "plt.hist(x, bins=50)\n",
        "plt.xlim(-10, 10)\n",
        "plt.title(\"Mean = 0 , Variance = 1\");\n",
        "\n",
        "# normal dist with mu = 0, sigma^2 = 0.5\n",
        "plt.subplot(1, 3, 2)\n",
        "x = np.sqrt(0.5) * np.random.randn(100000)\n",
        "plt.hist(x, bins=50)\n",
        "plt.xlim(-10, 10)\n",
        "plt.title(\"$Mean = 0 , Variance = 0.5\");\n",
        "\n",
        "# normal dist with mu = 5, sigma^2 = 2\n",
        "plt.subplot(1, 3, 3)\n",
        "x = np.sqrt(2.) * np.random.randn(100000) + 5.0\n",
        "plt.hist(x, bins=50)\n",
        "plt.xlim(-10, 10)\n",
        "plt.title(\"$Mean = 5 , Variance = 2\");"
      ]
    },
    {
      "cell_type": "markdown",
      "metadata": {
        "nbpresent": {
          "id": "bb4329ab-48fe-4fbb-af9e-5bad6769b638"
        },
        "id": "9vnoMiYApO3H"
      },
      "source": [
        "In general, use the following pattern to create random numbers from $N(\\mu, \\sigma^2)$\n",
        "\n",
        "$$\\sigma * N(0, 1) + \\mu$$"
      ]
    },
    {
      "cell_type": "code",
      "execution_count": null,
      "metadata": {
        "collapsed": true,
        "nbpresent": {
          "id": "299945cb-1edd-44a4-afeb-c2ee1e03e4e5"
        },
        "id": "2rzlRwoRpO3H"
      },
      "outputs": [],
      "source": [
        "# np.random.randint?"
      ]
    },
    {
      "cell_type": "code",
      "execution_count": null,
      "metadata": {
        "nbpresent": {
          "id": "3c7351ed-25be-4f56-a4a5-19cc2c86e870"
        },
        "id": "YeXuwLQ6pO3H",
        "outputId": "6a6bcdaa-c3cd-4d3c-82c3-d968b3e75780",
        "colab": {
          "base_uri": "https://localhost:8080/"
        }
      },
      "outputs": [
        {
          "output_type": "stream",
          "name": "stdout",
          "text": [
            "[[4.0 3.0 0.0 2.0]\n",
            " [3.0 0.0 2.0 2.0]]\n"
          ]
        }
      ],
      "source": [
        "print(np.random.randint(5, size=(2, 4)))  # random int in [2, 5)"
      ]
    },
    {
      "cell_type": "code",
      "execution_count": null,
      "metadata": {
        "nbpresent": {
          "id": "594266b9-de57-4deb-9395-757750f612c8"
        },
        "id": "A20sr6iRpO3I",
        "outputId": "57065f88-dfb3-43e8-cdc0-d6020959187a",
        "colab": {
          "base_uri": "https://localhost:8080/"
        }
      },
      "outputs": [
        {
          "output_type": "stream",
          "name": "stdout",
          "text": [
            "[[1.0 1.0 1.0 0.0 0.0 1.0 0.0 0.0 1.0 0.0 0.0 0.0 1.0 0.0 1.0 0.0 0.0 0.0\n",
            "  0.0 1.0]]\n"
          ]
        }
      ],
      "source": [
        "b = np.random.randint(2, size=(1, 20))  # random int in [0, 2)\n",
        "print(b)"
      ]
    },
    {
      "cell_type": "code",
      "execution_count": null,
      "metadata": {
        "nbpresent": {
          "id": "fc75f47f-3e35-47ad-8e57-e299b7aba6cd"
        },
        "id": "pGQGZ1k8pO3I",
        "outputId": "5e583c57-baae-43cd-a869-f1c290b93bef",
        "colab": {
          "base_uri": "https://localhost:8080/"
        }
      },
      "outputs": [
        {
          "output_type": "stream",
          "name": "stdout",
          "text": [
            "8\n"
          ]
        }
      ],
      "source": [
        "print(np.count_nonzero(b))"
      ]
    },
    {
      "cell_type": "markdown",
      "metadata": {
        "nbpresent": {
          "id": "a5eae43d-2c41-447d-8aeb-97038bd1fd01"
        },
        "id": "NkHdc9s7pO3I"
      },
      "source": [
        "### Some other useful functions from `np.random` package"
      ]
    },
    {
      "cell_type": "code",
      "execution_count": null,
      "metadata": {
        "collapsed": true,
        "nbpresent": {
          "id": "3e8a4724-a524-4e7d-9ad1-907d379e7e8f"
        },
        "id": "50vmn4v5pO3I"
      },
      "outputs": [],
      "source": [
        "# np.random.seed()"
      ]
    },
    {
      "cell_type": "code",
      "execution_count": null,
      "metadata": {
        "collapsed": true,
        "nbpresent": {
          "id": "9ae414f4-0f46-4b2c-91bf-e7159d23b987"
        },
        "id": "IZr3waYopO3J"
      },
      "outputs": [],
      "source": [
        "# np.random.choice?"
      ]
    },
    {
      "cell_type": "code",
      "execution_count": null,
      "metadata": {
        "nbpresent": {
          "id": "6d895191-78a9-4202-97f0-01917d22481f"
        },
        "id": "aIZ3gW7JpO3J",
        "outputId": "bdf1e3a9-ac77-4a7b-be6d-e2aa7ff385bc",
        "colab": {
          "base_uri": "https://localhost:8080/"
        }
      },
      "outputs": [
        {
          "output_type": "stream",
          "name": "stdout",
          "text": [
            "[2.0 3.0 1.0]\n"
          ]
        }
      ],
      "source": [
        "# Choose 3 random numbers in [0, 5) with replacement\n",
        "print(np.random.choice(5, 3))"
      ]
    },
    {
      "cell_type": "code",
      "execution_count": null,
      "metadata": {
        "nbpresent": {
          "id": "ef9248da-28cf-4fe5-828a-cc6f28825a3f"
        },
        "id": "uftUvcebpO3J",
        "outputId": "a5b3dc3d-5eb8-467d-aa9e-1cea29125d06",
        "colab": {
          "base_uri": "https://localhost:8080/"
        }
      },
      "outputs": [
        {
          "output_type": "stream",
          "name": "stdout",
          "text": [
            "[3.0 3.0 0.0]\n"
          ]
        }
      ],
      "source": [
        "# Choose 3 random numbers in [0, 5) with the given probabilities\n",
        "print(np.random.choice(5, 3, p=[0.1, 0, 0.3, 0.6, 0]))"
      ]
    },
    {
      "cell_type": "code",
      "execution_count": null,
      "metadata": {
        "nbpresent": {
          "id": "f530fd8b-4d2b-4e70-add6-7dc589f58a82"
        },
        "id": "ePFClVE1pO3J",
        "outputId": "3a346bd4-2cf2-4a88-85f2-e5dd8d6df15a",
        "colab": {
          "base_uri": "https://localhost:8080/"
        }
      },
      "outputs": [
        {
          "output_type": "stream",
          "name": "stdout",
          "text": [
            "[4.0 0.0 1.0]\n"
          ]
        }
      ],
      "source": [
        "# Choose 3 random numbers in [0, 5) without replacement\n",
        "print(np.random.choice(5, 3, replace=False))"
      ]
    },
    {
      "cell_type": "code",
      "execution_count": null,
      "metadata": {
        "collapsed": true,
        "nbpresent": {
          "id": "a129ff64-1f6c-470b-9f55-1cd80be6a832"
        },
        "id": "CNiqFnj3pO3K",
        "colab": {
          "base_uri": "https://localhost:8080/"
        },
        "outputId": "135e0739-f966-44cd-9d96-540aa8dfa260"
      },
      "outputs": [
        {
          "output_type": "stream",
          "name": "stdout",
          "text": [
            "Help on built-in function permutation:\n",
            "\n",
            "permutation(...) method of numpy.random.mtrand.RandomState instance\n",
            "    permutation(x)\n",
            "    \n",
            "    Randomly permute a sequence, or return a permuted range.\n",
            "    \n",
            "    If `x` is a multi-dimensional array, it is only shuffled along its\n",
            "    first index.\n",
            "    \n",
            "    .. note::\n",
            "        New code should use the ``permutation`` method of a ``default_rng()``\n",
            "        instance instead; please see the :ref:`random-quick-start`.\n",
            "    \n",
            "    Parameters\n",
            "    ----------\n",
            "    x : int or array_like\n",
            "        If `x` is an integer, randomly permute ``np.arange(x)``.\n",
            "        If `x` is an array, make a copy and shuffle the elements\n",
            "        randomly.\n",
            "    \n",
            "    Returns\n",
            "    -------\n",
            "    out : ndarray\n",
            "        Permuted sequence or array range.\n",
            "    \n",
            "    See Also\n",
            "    --------\n",
            "    Generator.permutation: which should be used for new code.\n",
            "    \n",
            "    Examples\n",
            "    --------\n",
            "    >>> np.random.permutation(10)\n",
            "    array([1, 7, 4, 3, 0, 9, 2, 5, 8, 6]) # random\n",
            "    \n",
            "    >>> np.random.permutation([1, 4, 9, 12, 15])\n",
            "    array([15,  1,  9,  4, 12]) # random\n",
            "    \n",
            "    >>> arr = np.arange(9).reshape((3, 3))\n",
            "    >>> np.random.permutation(arr)\n",
            "    array([[6, 7, 8], # random\n",
            "           [0, 1, 2],\n",
            "           [3, 4, 5]])\n",
            "\n"
          ]
        }
      ],
      "source": [
        "help(np.random.permutation)"
      ]
    },
    {
      "cell_type": "code",
      "execution_count": null,
      "metadata": {
        "nbpresent": {
          "id": "7d927932-1aa7-4b62-ab7b-5120c07799a0"
        },
        "id": "ClaTB7h5pO3K",
        "outputId": "51526990-e4f0-41e6-d5d2-b0383d148dc9",
        "colab": {
          "base_uri": "https://localhost:8080/"
        }
      },
      "outputs": [
        {
          "output_type": "stream",
          "name": "stdout",
          "text": [
            "[2.0 5.0 1.0 0.0 7.0 8.0 3.0 4.0 9.0 6.0]\n"
          ]
        }
      ],
      "source": [
        "print(np.random.permutation(10))"
      ]
    },
    {
      "cell_type": "code",
      "execution_count": null,
      "metadata": {
        "collapsed": true,
        "nbpresent": {
          "id": "43f08029-97d5-48b5-adee-b81f5907ed6c"
        },
        "id": "C7npYI2qpO3K"
      },
      "outputs": [],
      "source": [
        "# np.random.shuffle?"
      ]
    },
    {
      "cell_type": "code",
      "execution_count": null,
      "metadata": {
        "nbpresent": {
          "id": "0c2ad7f2-cca9-4dc1-9151-e98a8fa9db6b"
        },
        "id": "bV15gx6KpO3L",
        "outputId": "9c9d256b-8736-4a8e-a437-209eebe786ac",
        "colab": {
          "base_uri": "https://localhost:8080/"
        }
      },
      "outputs": [
        {
          "output_type": "stream",
          "name": "stdout",
          "text": [
            "[0.0 1.0 2.0 3.0 4.0 5.0 6.0 7.0 8.0 9.0]\n"
          ]
        }
      ],
      "source": [
        "x = np.arange(10)\n",
        "print(x)"
      ]
    },
    {
      "cell_type": "code",
      "execution_count": null,
      "metadata": {
        "nbpresent": {
          "id": "01dade1e-1422-4c6e-b618-2ae2485bb595"
        },
        "id": "2MOW7KIipO3N",
        "outputId": "a6c7961c-3210-4bcf-bb93-f85959d6f2c6",
        "colab": {
          "base_uri": "https://localhost:8080/"
        }
      },
      "outputs": [
        {
          "output_type": "stream",
          "name": "stdout",
          "text": [
            "[9.0 0.0 6.0 7.0 1.0 5.0 8.0 2.0 3.0 4.0]\n"
          ]
        }
      ],
      "source": [
        "np.random.shuffle(x)  # note: shuffle is in-place\n",
        "print(x)"
      ]
    },
    {
      "cell_type": "markdown",
      "metadata": {
        "nbpresent": {
          "id": "e7a6798e-fb56-4e24-b057-12ad9ade24ab"
        },
        "id": "k48sUybRpO3N"
      },
      "source": [
        "### Accessing elements"
      ]
    },
    {
      "cell_type": "code",
      "execution_count": null,
      "metadata": {
        "nbpresent": {
          "id": "20361d6e-051b-4aa0-8b6f-a613bdc412b2"
        },
        "id": "RLSg78r8pO3O",
        "outputId": "b8f004ee-fea4-4a20-85f8-34ac9cea1fd1",
        "colab": {
          "base_uri": "https://localhost:8080/"
        }
      },
      "outputs": [
        {
          "output_type": "stream",
          "name": "stdout",
          "text": [
            "7\n",
            "[5.0 6.0 7.0 8.0]\n",
            "[5.0 6.0 7.0 8.0]\n",
            "[3.0 7.0 11.0]\n"
          ]
        }
      ],
      "source": [
        "# Create the following rank 2 array with shape (3, 4)\n",
        "# [[ 1  2  3  4]\n",
        "#  [ 5  6  7  8]\n",
        "#  [ 9 10 11 12]]\n",
        "\n",
        "A = np.array([[1,  2,  3,  4], \n",
        "              [5,  6,  7,  8], \n",
        "              [9, 10, 11, 12]])\n",
        "\n",
        "# a specific element at second row and third col\n",
        "print(A[1, 2])\n",
        "\n",
        "# second row\n",
        "print(A[1])\n",
        "\n",
        "# second row\n",
        "print(A[1, :])\n",
        "\n",
        "# third column\n",
        "print(A[:, 2])"
      ]
    },
    {
      "cell_type": "markdown",
      "metadata": {
        "nbpresent": {
          "id": "c7519fe1-b356-47f4-9a1c-50d5faa29872"
        },
        "id": "PfvJdUs1pO3O"
      },
      "source": [
        "#### Slicing"
      ]
    },
    {
      "cell_type": "code",
      "execution_count": null,
      "metadata": {
        "nbpresent": {
          "id": "570212b2-2d1b-4740-812a-d12e9f70afe8"
        },
        "id": "HVLsgd_EpO3O",
        "outputId": "a4faaad6-6b37-45c6-ac3f-99eb07b4e6b4",
        "colab": {
          "base_uri": "https://localhost:8080/"
        }
      },
      "outputs": [
        {
          "output_type": "stream",
          "name": "stdout",
          "text": [
            "[[2.0 3.0]\n",
            " [6.0 7.0]]\n"
          ]
        }
      ],
      "source": [
        "# Use slicing to pull out the subarray consisting of the first 2 rows\n",
        "# and columns 1 and 2;\n",
        "B = A[:2, 1:3]\n",
        "print(B)"
      ]
    },
    {
      "cell_type": "markdown",
      "metadata": {
        "nbpresent": {
          "id": "987f1217-6c78-4905-b7e4-5712b8c97367"
        },
        "id": "gu6v8kSSpO3P"
      },
      "source": [
        "## Reading CIFAR-10 data\n",
        "- 60,000 images from 10 different classes\n",
        "- Each image is 32-by-32 pixexls"
      ]
    },
    {
      "cell_type": "markdown",
      "metadata": {
        "nbpresent": {
          "id": "24ca7d7c-48a0-415e-b03e-cbdaaa365454"
        },
        "id": "Ygy6aFt4pO3P"
      },
      "source": [
        "<img src='http://www.snrazavi.ir/imgs/cifar10.png' width='50%'/>"
      ]
    },
    {
      "cell_type": "markdown",
      "metadata": {
        "collapsed": true,
        "nbpresent": {
          "id": "aa56517f-0489-42ba-baea-3bce798fdd2f"
        },
        "id": "MbFzIm7EpO3Q"
      },
      "source": [
        "Downlod CIFAR-10 dataset <a href='https://www.cs.toronto.edu/~kriz/cifar.html'>here</a>"
      ]
    },
    {
      "cell_type": "code",
      "execution_count": null,
      "metadata": {
        "collapsed": true,
        "nbpresent": {
          "id": "4801762f-8616-4fe4-ab4d-f93e303a043a"
        },
        "id": "j18TCA4bpO3Q"
      },
      "outputs": [],
      "source": [
        "import tensorflow as tf\n",
        "(X_train, y_train), (X_test, y_test) = keras.datasets.cifar10.load_data()\n"
      ]
    },
    {
      "cell_type": "code",
      "execution_count": null,
      "metadata": {
        "nbpresent": {
          "id": "834bf76e-fede-4026-9cf7-10fb0fc90653"
        },
        "id": "lCOQdPndpO3Q",
        "outputId": "c1c53276-0a4f-486f-dc94-6c132348bb2d",
        "colab": {
          "base_uri": "https://localhost:8080/"
        }
      },
      "outputs": [
        {
          "output_type": "stream",
          "name": "stdout",
          "text": [
            "(50000, 32, 32, 3)\n",
            "(50000, 1)\n"
          ]
        }
      ],
      "source": [
        "print(X_train.shape)\n",
        "print(y_train.shape)"
      ]
    },
    {
      "cell_type": "code",
      "execution_count": null,
      "metadata": {
        "nbpresent": {
          "id": "c1e662b9-9762-4e04-9dc3-f87fe30b36e7"
        },
        "id": "VyElgKL4pO3R",
        "outputId": "8e69a328-7131-4ad0-db89-315532bbbc6f",
        "colab": {
          "base_uri": "https://localhost:8080/"
        }
      },
      "outputs": [
        {
          "output_type": "stream",
          "name": "stdout",
          "text": [
            "[[6]\n",
            " [9]\n",
            " [9]\n",
            " [4]\n",
            " [1]\n",
            " [1]\n",
            " [2]\n",
            " [7]\n",
            " [8]\n",
            " [3]]\n"
          ]
        }
      ],
      "source": [
        "print(y_train[:10])"
      ]
    },
    {
      "cell_type": "code",
      "source": [
        "plt.imshow(X_train[1])"
      ],
      "metadata": {
        "colab": {
          "base_uri": "https://localhost:8080/",
          "height": 284
        },
        "id": "Ju44TsFCggWd",
        "outputId": "de95a855-0003-4efb-e17f-495ff03358e3"
      },
      "execution_count": null,
      "outputs": [
        {
          "output_type": "execute_result",
          "data": {
            "text/plain": [
              "<matplotlib.image.AxesImage at 0x7fe2d780cd10>"
            ]
          },
          "metadata": {},
          "execution_count": 24
        },
        {
          "output_type": "display_data",
          "data": {
            "image/png": "[encoded data removed]",
            "text/plain": [
              "<Figure size 432x288 with 1 Axes>"
            ]
          },
          "metadata": {
            "needs_background": "light"
          }
        }
      ]
    },
    {
      "cell_type": "code",
      "execution_count": null,
      "metadata": {
        "nbpresent": {
          "id": "648711e3-5eb5-4bd0-a6a4-0799d075e0e1"
        },
        "id": "g5Ez1ExEpO3R",
        "outputId": "3511a482-8d04-45a1-fb28-9d32ef7af303",
        "colab": {
          "base_uri": "https://localhost:8080/",
          "height": 104
        }
      },
      "outputs": [
        {
          "output_type": "display_data",
          "data": {
            "image/png": "[encoded data removed]",
            "text/plain": [
              "<Figure size 864x144 with 10 Axes>"
            ]
          },
          "metadata": {
            "needs_background": "light"
          }
        }
      ],
      "source": [
        "plt.figure(figsize=(12, 2))\n",
        "\n",
        "for i in range(10):\n",
        "    plt.subplot(1, 10, i + 1)\n",
        "    plt.imshow(X_train[i].astype('uint8'), interpolation='spline16')\n",
        "    plt.title('%d' % y_train[i])\n",
        "    plt.axis('off')"
      ]
    },
    {
      "cell_type": "code",
      "execution_count": null,
      "metadata": {
        "nbpresent": {
          "id": "03b44c5d-6c69-4058-8757-9d23dc13f03a"
        },
        "scrolled": true,
        "id": "wlA8TteXpO3R",
        "outputId": "8e167c27-0cd2-4d6e-ffd0-03ed1f20ec62",
        "colab": {
          "base_uri": "https://localhost:8080/"
        }
      },
      "outputs": [
        {
          "output_type": "stream",
          "name": "stdout",
          "text": [
            "(10000, 32, 32, 3)\n",
            "(10000, 1)\n"
          ]
        }
      ],
      "source": [
        "print(X_test.shape)\n",
        "print(y_test.shape)"
      ]
    },
    {
      "cell_type": "markdown",
      "metadata": {
        "nbpresent": {
          "id": "20114f81-ca9d-4c25-b31c-72f01443a333"
        },
        "id": "KhP31Va7pO3S"
      },
      "source": [
        "### Visualize data"
      ]
    },
    {
      "cell_type": "code",
      "execution_count": null,
      "metadata": {
        "collapsed": true,
        "nbpresent": {
          "id": "a1d513cd-a340-4718-b640-fe9911ac8658"
        },
        "id": "WzkfsGzMpO3S"
      },
      "outputs": [],
      "source": [
        "class_names = ['airplane', 'automobile', 'bird', 'cat', 'deer', 'dog', 'frog', 'horse', 'ship', 'track']"
      ]
    },
    {
      "cell_type": "code",
      "execution_count": null,
      "metadata": {
        "nbpresent": {
          "id": "601303ff-5905-41a9-90a1-65a49ff022da"
        },
        "id": "515-ieuZpO3S",
        "outputId": "cf23e0c9-077d-489c-d72c-fbd700945fe1",
        "colab": {
          "base_uri": "https://localhost:8080/",
          "height": 373
        }
      },
      "outputs": [
        {
          "output_type": "display_data",
          "data": {
            "image/png": "[encoded data removed]",
            "text/plain": [
              "<Figure size 864x432 with 70 Axes>"
            ]
          },
          "metadata": {
            "needs_background": "light"
          }
        }
      ],
      "source": [
        "plt.figure(figsize=(12, 6))\n",
        "samples_per_class = 7\n",
        "num_classes = len(class_names)\n",
        "for c, class_name in enumerate(class_names):\n",
        "    idxes = np.flatnonzero(y_train == c)\n",
        "    samples_idxes = np.random.choice(idxes, samples_per_class, replace=False)\n",
        "    for i, idx in enumerate(samples_idxes):\n",
        "        plt_idx = i * num_classes + c + 1\n",
        "        plt.subplot(samples_per_class, num_classes, plt_idx)\n",
        "        plt.imshow(X_train[idx].astype(np.uint8), interpolation='spline16')\n",
        "        plt.axis('off')\n",
        "        if i == 0:\n",
        "            plt.title(class_names[c])"
      ]
    },
    {
      "cell_type": "markdown",
      "metadata": {
        "nbpresent": {
          "id": "1dce4a4c-f980-4c2d-96af-af96e923e1b1"
        },
        "id": "YeExYHIFpO3U"
      },
      "source": [
        "## Operations on `numpy` arrays"
      ]
    },
    {
      "cell_type": "code",
      "execution_count": null,
      "metadata": {
        "nbpresent": {
          "id": "63ba8ee2-0d03-4066-b808-ed9541c7b31b"
        },
        "id": "FlQxpAdLpO3U",
        "outputId": "338b1849-2b41-4aec-bc8a-bdab6e98b92b",
        "colab": {
          "base_uri": "https://localhost:8080/"
        }
      },
      "outputs": [
        {
          "output_type": "stream",
          "name": "stdout",
          "text": [
            "[[1.0 2.0]\n",
            " [3.0 4.0]]\n",
            "\n",
            "[[5.0 6.0]\n",
            " [7.0 8.0]]\n"
          ]
        }
      ],
      "source": [
        "x = np.array([[1, 2], [3, 4]], dtype=np.float64)\n",
        "y = np.array([[5, 6], [7, 8]], dtype=np.float64)\n",
        "\n",
        "print(x)\n",
        "print()\n",
        "print(y)"
      ]
    },
    {
      "cell_type": "code",
      "execution_count": null,
      "metadata": {
        "nbpresent": {
          "id": "978c4423-a8cd-429d-9dc8-7f58675eb897"
        },
        "id": "tqVf0KHppO3U",
        "outputId": "623a478b-222a-428e-993f-adc81a7aa975",
        "colab": {
          "base_uri": "https://localhost:8080/"
        }
      },
      "outputs": [
        {
          "output_type": "stream",
          "name": "stdout",
          "text": [
            "[[6.0 8.0]\n",
            " [10.0 12.0]]\n",
            "\n",
            "[[6.0 8.0]\n",
            " [10.0 12.0]]\n"
          ]
        }
      ],
      "source": [
        "# Elementwise sum; both produce the array\n",
        "print(x + y)\n",
        "print()\n",
        "print(np.add(x, y))"
      ]
    },
    {
      "cell_type": "code",
      "execution_count": null,
      "metadata": {
        "nbpresent": {
          "id": "f4c3caf9-7708-4475-9318-14a1ac97d378"
        },
        "id": "Rbjgvm4cpO3V",
        "outputId": "13b1b020-fbf4-48c4-fd48-7452feb6a357",
        "colab": {
          "base_uri": "https://localhost:8080/"
        }
      },
      "outputs": [
        {
          "output_type": "stream",
          "name": "stdout",
          "text": [
            "[[-4.0 -4.0]\n",
            " [-4.0 -4.0]]\n",
            "\n",
            "[[-4.0 -4.0]\n",
            " [-4.0 -4.0]]\n"
          ]
        }
      ],
      "source": [
        "# Elementwise difference; both produce the array\n",
        "print(x - y)\n",
        "print()\n",
        "print(np.subtract(x, y))"
      ]
    },
    {
      "cell_type": "code",
      "execution_count": null,
      "metadata": {
        "nbpresent": {
          "id": "56165948-2330-4d84-a54e-4d9160bc26e8"
        },
        "id": "WDHzI8-UpO3W",
        "outputId": "4fa7f5bf-ea2b-46d9-b55f-b9434bf4b451",
        "colab": {
          "base_uri": "https://localhost:8080/"
        }
      },
      "outputs": [
        {
          "output_type": "stream",
          "name": "stdout",
          "text": [
            "[[5.0 12.0]\n",
            " [21.0 32.0]]\n",
            "\n",
            "[[5.0 12.0]\n",
            " [21.0 32.0]]\n"
          ]
        }
      ],
      "source": [
        "# Elementwise product; both produce the array\n",
        "print(x * y)\n",
        "print()\n",
        "print(np.multiply(x, y))"
      ]
    },
    {
      "cell_type": "code",
      "execution_count": null,
      "metadata": {
        "nbpresent": {
          "id": "6f62c09d-becd-43ef-b5f5-2fc5c936b275"
        },
        "id": "vMe381ExpO3W",
        "outputId": "feb26d9e-e257-481e-e9c7-834a8d394c5d",
        "colab": {
          "base_uri": "https://localhost:8080/"
        }
      },
      "outputs": [
        {
          "output_type": "stream",
          "name": "stdout",
          "text": [
            "[[0.2 0.3]\n",
            " [0.4 0.5]]\n",
            "\n",
            "[[0.2 0.3]\n",
            " [0.4 0.5]]\n"
          ]
        }
      ],
      "source": [
        "# Elementwise division; both produce the array\n",
        "print(x / y)\n",
        "print()\n",
        "print(np.divide(x, y))"
      ]
    },
    {
      "cell_type": "code",
      "execution_count": null,
      "metadata": {
        "nbpresent": {
          "id": "b4d206b8-8c06-4610-a3ea-e8527bcd61f8"
        },
        "scrolled": true,
        "id": "uBunhROipO39",
        "outputId": "5ba5c37a-cb29-4bca-ad7c-a046ceb1727c",
        "colab": {
          "base_uri": "https://localhost:8080/"
        }
      },
      "outputs": [
        {
          "output_type": "stream",
          "name": "stdout",
          "text": [
            "[[1.0 1.4]\n",
            " [1.7 2.0]]\n"
          ]
        }
      ],
      "source": [
        "# Elementwise square root; produces the array\n",
        "print(np.sqrt(x))"
      ]
    },
    {
      "cell_type": "markdown",
      "metadata": {
        "nbpresent": {
          "id": "374c20d9-d202-4bec-b6a7-5ed87d513794"
        },
        "id": "kzHNtarGpO3-"
      },
      "source": [
        "### Matrix multiplication in `numpy`\n",
        "* Note that unlike MATLAB, * is elementwise multiplication, not matrix multiplication.\n",
        "\n",
        "* We instead use the dot function to compute:\n",
        " * inner products of vectors, \n",
        " * multiply a vector by a matrix, and \n",
        " * multiply matrices. \n",
        " \n",
        "dot is available both as a function in the numpy module and as an instance method of array objects:"
      ]
    },
    {
      "cell_type": "code",
      "execution_count": null,
      "metadata": {
        "collapsed": true,
        "nbpresent": {
          "id": "9e26b847-5fe6-4299-ad8b-c0decc0d353d"
        },
        "id": "nuP0_ha-pO3-"
      },
      "outputs": [],
      "source": [
        "v = np.array([ 9, 10])\n",
        "w = np.array([11, 12])"
      ]
    },
    {
      "cell_type": "code",
      "execution_count": null,
      "metadata": {
        "nbpresent": {
          "id": "e84af131-c04a-408c-876e-c61a1bf283e6"
        },
        "id": "t2IAlGMjpO3-",
        "outputId": "caa9aea7-619d-4094-f889-e969007092d0",
        "colab": {
          "base_uri": "https://localhost:8080/"
        }
      },
      "outputs": [
        {
          "output_type": "stream",
          "name": "stdout",
          "text": [
            "219\n",
            "\n",
            "219\n"
          ]
        }
      ],
      "source": [
        "# Inner product of vectors\n",
        "print(v.dot(w))\n",
        "print()\n",
        "print(np.dot(v, w))"
      ]
    },
    {
      "cell_type": "code",
      "execution_count": null,
      "metadata": {
        "nbpresent": {
          "id": "49e5666f-6fd5-46ea-924a-fb49463a79ca"
        },
        "id": "oVD1rIICpO3_",
        "outputId": "a45526f4-05b2-42da-b249-64d7ed312962",
        "colab": {
          "base_uri": "https://localhost:8080/"
        }
      },
      "outputs": [
        {
          "output_type": "stream",
          "name": "stdout",
          "text": [
            "[29.0 67.0]\n",
            "\n",
            "[29.0 67.0]\n"
          ]
        }
      ],
      "source": [
        "# Matrix / vector product\n",
        "x = np.array([[1, 2], [3, 4]], dtype=np.float64)\n",
        "print(x.dot(v))\n",
        "print()\n",
        "print(np.dot(x, v))"
      ]
    },
    {
      "cell_type": "code",
      "execution_count": null,
      "metadata": {
        "nbpresent": {
          "id": "2d743cff-e6cc-431c-8be2-6e4219ffc1ff"
        },
        "scrolled": true,
        "id": "dbuLm1XkpO3_",
        "outputId": "90f41799-0bda-4bcf-afae-0fc5008dfed4",
        "colab": {
          "base_uri": "https://localhost:8080/"
        }
      },
      "outputs": [
        {
          "output_type": "stream",
          "name": "stdout",
          "text": [
            "[[19.0 22.0]\n",
            " [43.0 50.0]]\n",
            "\n",
            "[[19.0 22.0]\n",
            " [43.0 50.0]]\n"
          ]
        }
      ],
      "source": [
        "# Matrix / matrix product; both produce the rank 2 array\n",
        "print(x.dot(y))\n",
        "print()\n",
        "print(np.dot(x, y))"
      ]
    },
    {
      "cell_type": "markdown",
      "metadata": {
        "nbpresent": {
          "id": "097f6ca9-503e-4b26-b34e-3a6676fa1e3a"
        },
        "id": "Z_1-8MIPpO4A"
      },
      "source": [
        "#### Transpose"
      ]
    },
    {
      "cell_type": "code",
      "execution_count": null,
      "metadata": {
        "nbpresent": {
          "id": "87d32903-1775-4215-97bb-e3baac89a0ad"
        },
        "scrolled": true,
        "id": "GksbEWCWpO4A",
        "outputId": "d8dbe168-05cd-492f-9737-af1caa81da9a",
        "colab": {
          "base_uri": "https://localhost:8080/"
        }
      },
      "outputs": [
        {
          "output_type": "stream",
          "name": "stdout",
          "text": [
            "[[1.0 2.0]\n",
            " [3.0 4.0]]\n",
            "\n",
            "[[1.0 3.0]\n",
            " [2.0 4.0]]\n"
          ]
        }
      ],
      "source": [
        "print(x)\n",
        "print()\n",
        "print(x.T)  # Transpose"
      ]
    },
    {
      "cell_type": "code",
      "execution_count": null,
      "metadata": {
        "nbpresent": {
          "id": "84d90fd8-ce45-466f-912a-966917cc536a"
        },
        "id": "IbOW2vH_pO4C",
        "outputId": "a1b5a7a4-e225-4411-935c-124f8061b770",
        "colab": {
          "base_uri": "https://localhost:8080/"
        }
      },
      "outputs": [
        {
          "output_type": "stream",
          "name": "stdout",
          "text": [
            "[[1.0 2.0 3.0]]\n",
            "\n",
            "[[1.0]\n",
            " [2.0]\n",
            " [3.0]]\n",
            "\n",
            "[[1.0]\n",
            " [2.0]\n",
            " [3.0]]\n"
          ]
        }
      ],
      "source": [
        "v = np.array([[1, 2, 3]])\n",
        "print(v)\n",
        "print()\n",
        "print(v.T)\n",
        "print()\n",
        "print(v.transpose())"
      ]
    },
    {
      "cell_type": "markdown",
      "metadata": {
        "nbpresent": {
          "id": "ab6e567a-2e02-4d72-9f4a-609d50354e5f"
        },
        "id": "UCfqq2_wpO4D"
      },
      "source": [
        "### Other useful functions (Mathematical and Statistical)"
      ]
    },
    {
      "cell_type": "code",
      "execution_count": null,
      "metadata": {
        "id": "G9TfCXDIpO4D",
        "outputId": "78aa9a81-937d-44a9-8a05-b1180ed3f468",
        "colab": {
          "base_uri": "https://localhost:8080/"
        }
      },
      "outputs": [
        {
          "output_type": "stream",
          "name": "stdout",
          "text": [
            "[[1.0 2.0]\n",
            " [3.0 4.0]]\n"
          ]
        }
      ],
      "source": [
        "x = np.array([[1, 2], \n",
        "              [3, 4]])\n",
        "print(x)"
      ]
    },
    {
      "cell_type": "code",
      "execution_count": null,
      "metadata": {
        "id": "LefmRYevpO4E",
        "outputId": "d77637a5-4f6e-4bed-c9b6-a3a2e33f8c43",
        "colab": {
          "base_uri": "https://localhost:8080/"
        }
      },
      "outputs": [
        {
          "output_type": "stream",
          "name": "stdout",
          "text": [
            "min = 1\n",
            "max = 4\n",
            "sum = 10\n",
            "prod = 24\n",
            "mean = 2.5\n",
            "std = 1.118033988749895\n",
            "var = 1.25\n"
          ]
        }
      ],
      "source": [
        "for func in [x.min, x.max, x.sum, x.prod, x.mean, x.std, x.var]:\n",
        "    print(\"{} = {}\".format(func.__name__ , func()))"
      ]
    },
    {
      "cell_type": "code",
      "execution_count": null,
      "metadata": {
        "nbpresent": {
          "id": "48c1faa6-070a-4773-aee0-088678b2a03b"
        },
        "id": "3bNmcRMXpO4E",
        "outputId": "dd86a499-852b-40cd-f377-d08444432954",
        "colab": {
          "base_uri": "https://localhost:8080/"
        }
      },
      "outputs": [
        {
          "output_type": "stream",
          "name": "stdout",
          "text": [
            "10\n",
            "[4.0 6.0]\n",
            "[3.0 7.0]\n"
          ]
        }
      ],
      "source": [
        "x = np.array([[1, 2], \n",
        "              [3, 4]])\n",
        "\n",
        "print(np.sum(x))          # Compute sum of all elements\n",
        "print(np.sum(x, axis=0))  # Compute sum of each column\n",
        "print(np.sum(x, axis=1))  # Compute sum of each row"
      ]
    },
    {
      "cell_type": "code",
      "execution_count": null,
      "metadata": {
        "id": "jQqqaqg6pO4E",
        "outputId": "e8f77fe3-905a-450a-c421-6f37b9d52bb6",
        "colab": {
          "base_uri": "https://localhost:8080/"
        }
      },
      "outputs": [
        {
          "output_type": "stream",
          "name": "stdout",
          "text": [
            "10\n"
          ]
        }
      ],
      "source": [
        "print(np.sum(x, axis=(0, 1)))"
      ]
    },
    {
      "cell_type": "code",
      "execution_count": null,
      "metadata": {
        "nbpresent": {
          "id": "8da284a1-ec42-480b-83ad-329aa95255d6"
        },
        "id": "C577bEd_pO4F",
        "outputId": "942f3378-9ca1-4ec8-e40b-2b11463a5a08",
        "colab": {
          "base_uri": "https://localhost:8080/"
        }
      },
      "outputs": [
        {
          "output_type": "stream",
          "name": "stdout",
          "text": [
            "2.5\n",
            "[2.0 3.0]\n",
            "[1.5 3.5]\n"
          ]
        }
      ],
      "source": [
        "print(np.mean(x))          # Compute mean of all elements\n",
        "print(np.mean(x, axis=0))  # Compute mean of each column\n",
        "print(np.mean(x, axis=1))  # Compute mean of each row"
      ]
    },
    {
      "cell_type": "code",
      "execution_count": null,
      "metadata": {
        "nbpresent": {
          "id": "a3b4da3b-a196-4aae-813a-dd6695c806e4"
        },
        "id": "j14xejBLpO4F",
        "outputId": "99255925-1b7f-4db8-aeef-bbd643f44a4b",
        "colab": {
          "base_uri": "https://localhost:8080/"
        }
      },
      "outputs": [
        {
          "output_type": "stream",
          "name": "stdout",
          "text": [
            "1.118033988749895\n",
            "[1.0 1.0]\n",
            "[0.5 0.5]\n"
          ]
        }
      ],
      "source": [
        "print(np.std(x))          # Compute std of all elements\n",
        "print(np.std(x, axis=0))  # Compute std of each column\n",
        "print(np.std(x, axis=1))  # Compute std of each row"
      ]
    },
    {
      "cell_type": "markdown",
      "metadata": {
        "nbpresent": {
          "id": "a01ad7d0-be59-4e03-b1ee-09ad68292ddd"
        },
        "id": "Qwc9HWtPpO4G"
      },
      "source": [
        "## Broadcasting\n",
        "In general, when NumPy expects arrays of the same shape but finds that this is not the case, it applies the so-called *broadcasting* rules:"
      ]
    },
    {
      "cell_type": "markdown",
      "metadata": {
        "nbpresent": {
          "id": "8dc2c056-2b55-43f1-8018-1c52911de122"
        },
        "id": "GXG93d48pO4G"
      },
      "source": [
        "<img src=\"http://www.snrazavi.ir/imgs/broadcasting.png\" width=\"40%\"/>"
      ]
    },
    {
      "cell_type": "markdown",
      "metadata": {
        "id": "ZjdyyHbOpO4H"
      },
      "source": [
        "### First rule: dimenstion\n",
        "*If the arrays do not have the same rank, then a 1 will be prepended to the smaller ranking arrays until their ranks match.*"
      ]
    },
    {
      "cell_type": "code",
      "execution_count": null,
      "metadata": {
        "id": "mbWMQP5LpO4H",
        "outputId": "60a10ae2-8aaf-46f7-fdb6-71200f1b0338",
        "colab": {
          "base_uri": "https://localhost:8080/"
        }
      },
      "outputs": [
        {
          "output_type": "stream",
          "name": "stdout",
          "text": [
            "[[[0 1 2 3 4]]]\n"
          ]
        }
      ],
      "source": [
        "x = np.arange(5).reshape(1, 1, 5)   # A 3D array (tensor)\n",
        "print(x)"
      ]
    },
    {
      "cell_type": "code",
      "execution_count": null,
      "metadata": {
        "id": "pxKkVsEjpO4H",
        "outputId": "f09fa4e9-02c5-492a-a9db-015abd5b91f7",
        "colab": {
          "base_uri": "https://localhost:8080/"
        }
      },
      "outputs": [
        {
          "output_type": "stream",
          "name": "stdout",
          "text": [
            "[10 20 30 40 50]\n"
          ]
        }
      ],
      "source": [
        "y = np.array([10, 20, 30, 40, 50])\n",
        "print(y)\n",
        "# y : (5,) => (1,1,5)"
      ]
    },
    {
      "cell_type": "code",
      "source": [
        "print(x.ndim)\n",
        "print(y.ndim)"
      ],
      "metadata": {
        "colab": {
          "base_uri": "https://localhost:8080/"
        },
        "id": "L2DYzVis7h-2",
        "outputId": "aa2b19c9-90f8-477a-8ac6-a97f942de0ab"
      },
      "execution_count": null,
      "outputs": [
        {
          "output_type": "stream",
          "name": "stdout",
          "text": [
            "3\n",
            "1\n"
          ]
        }
      ]
    },
    {
      "cell_type": "code",
      "execution_count": null,
      "metadata": {
        "id": "qk9i6k0HpO4I",
        "outputId": "95aa090d-69ab-4972-9c66-ed3bfb187c95",
        "colab": {
          "base_uri": "https://localhost:8080/"
        }
      },
      "outputs": [
        {
          "output_type": "stream",
          "name": "stdout",
          "text": [
            "[[[10 21 32 43 54]]]\n"
          ]
        }
      ],
      "source": [
        "# Adding x and y\n",
        "print(x + y)"
      ]
    },
    {
      "cell_type": "markdown",
      "metadata": {
        "id": "Oq00yhwOpO4I"
      },
      "source": [
        "### Second rule\n",
        "*Arrays with a 1 along a particular dimension act as if they had the size of the array with the largest shape along that dimension. The value of the array element is repeated along that dimension.*"
      ]
    },
    {
      "cell_type": "code",
      "execution_count": null,
      "metadata": {
        "id": "3tUhKJVkpO4J",
        "outputId": "6880303e-da90-4817-c6d1-c2b5fe74ebf0"
      },
      "outputs": [
        {
          "name": "stdout",
          "output_type": "stream",
          "text": [
            "[[0 1 2]\n",
            " [3 4 5]]\n"
          ]
        }
      ],
      "source": [
        "x = np.arange(6).reshape(2, 3) # a 2-by-3 array\n",
        "print(x)"
      ]
    },
    {
      "cell_type": "code",
      "execution_count": null,
      "metadata": {
        "id": "bWNsZh1OpO4J",
        "outputId": "f0a2cec1-c4ff-46de-b2b7-d9a807ea48c3"
      },
      "outputs": [
        {
          "name": "stdout",
          "output_type": "stream",
          "text": [
            "[[100]\n",
            " [200]]\n"
          ]
        }
      ],
      "source": [
        "y = np.array([[100], [200]])  # a 2-by-1 array\n",
        "print(y)"
      ]
    },
    {
      "cell_type": "code",
      "execution_count": null,
      "metadata": {
        "id": "a_bHnukzpO4J",
        "outputId": "333d9887-154a-4c51-c797-5e953af839ab"
      },
      "outputs": [
        {
          "name": "stdout",
          "output_type": "stream",
          "text": [
            "[[100 101 102]\n",
            " [203 204 205]]\n"
          ]
        }
      ],
      "source": [
        "print(x + y)  # same as: x + [[100, 100, 100], [200, 200, 200]]"
      ]
    },
    {
      "cell_type": "markdown",
      "metadata": {
        "id": "PRVcQIMspO4K"
      },
      "source": [
        "#### Combining rules 1 & 2:"
      ]
    },
    {
      "cell_type": "code",
      "execution_count": null,
      "metadata": {
        "id": "QEMYexx9pO4K",
        "outputId": "4c6f4e11-37c2-41b0-b093-de55edb7ca9d"
      },
      "outputs": [
        {
          "name": "stdout",
          "output_type": "stream",
          "text": [
            "[[0 1 2]\n",
            " [3 4 5]]\n"
          ]
        }
      ],
      "source": [
        "x = np.arange(6).reshape(2, 3)  # shape x is (2, 3)\n",
        "print(x)"
      ]
    },
    {
      "cell_type": "code",
      "execution_count": null,
      "metadata": {
        "id": "cMu2MsORpO4K",
        "outputId": "8b426338-8673-4011-a1e1-b291de08e3de"
      },
      "outputs": [
        {
          "name": "stdout",
          "output_type": "stream",
          "text": [
            "[100 200 300]\n"
          ]
        }
      ],
      "source": [
        "y = np.array([100, 200, 300])  # shape y is (3,)\n",
        "print(y)"
      ]
    },
    {
      "cell_type": "code",
      "execution_count": null,
      "metadata": {
        "id": "DUFtDORjpO4L",
        "outputId": "3753ffb0-4883-413e-8d58-4a19a78faaab"
      },
      "outputs": [
        {
          "name": "stdout",
          "output_type": "stream",
          "text": [
            "[[100 201 302]\n",
            " [103 204 305]]\n"
          ]
        }
      ],
      "source": [
        "print(x + y)"
      ]
    },
    {
      "cell_type": "code",
      "execution_count": null,
      "metadata": {
        "id": "ZacsZAFxpO4L",
        "outputId": "da2f9996-ea33-4415-f4b2-d11b5e5eb7b0"
      },
      "outputs": [
        {
          "name": "stdout",
          "output_type": "stream",
          "text": [
            "[1000]\n"
          ]
        }
      ],
      "source": [
        "z = np.array([1000])  # shape of z is (1,)\n",
        "print(z)"
      ]
    },
    {
      "cell_type": "code",
      "execution_count": null,
      "metadata": {
        "id": "-HYaG9AwpO4M",
        "outputId": "25f7a2a5-de7b-45c2-b8b5-7e3a5486329b"
      },
      "outputs": [
        {
          "name": "stdout",
          "output_type": "stream",
          "text": [
            "[[1000 1001 1002]\n",
            " [1003 1004 1005]]\n"
          ]
        }
      ],
      "source": [
        "print(x + z)"
      ]
    },
    {
      "cell_type": "code",
      "execution_count": null,
      "metadata": {
        "id": "Q1noXZvMpO4M",
        "outputId": "84859d9a-5acc-45dd-e1ea-29032a4d0203"
      },
      "outputs": [
        {
          "name": "stdout",
          "output_type": "stream",
          "text": [
            "[[1000 1001 1002]\n",
            " [1003 1004 1005]]\n"
          ]
        }
      ],
      "source": [
        "# or more simply\n",
        "print(x + 1000)"
      ]
    },
    {
      "cell_type": "markdown",
      "metadata": {
        "id": "LSloVcQPpO4N"
      },
      "source": [
        "### Third rule:\n",
        "*After rules 1 & 2, the sizes of all arrays must match.*"
      ]
    },
    {
      "cell_type": "code",
      "execution_count": 42,
      "metadata": {
        "nbpresent": {
          "id": "5bc6f152-10a9-4de2-a3bb-9a70e6eb56e0"
        },
        "id": "1x3jEnAbpO4N",
        "outputId": "4e696a7d-dfc1-4b1a-fc67-14d0acd63364",
        "colab": {
          "base_uri": "https://localhost:8080/"
        }
      },
      "outputs": [
        {
          "output_type": "stream",
          "name": "stdout",
          "text": [
            "0.15664100646972656\n",
            "[[ 2  2  4]\n",
            " [ 5  5  7]\n",
            " [ 8  8 10]\n",
            " [11 11 13]]\n"
          ]
        }
      ],
      "source": [
        "# We will add the vector v to each row of the matrix x,\n",
        "# storing the result in the matrix y\n",
        "import numpy as np\n",
        "x = np.array([[ 1,  2,  3], \n",
        "              [ 4,  5,  6], \n",
        "              [ 7,  8,  9], \n",
        "              [10, 11, 12]])\n",
        "\n",
        "v = np.array([1, 0, 1])\n",
        "\n",
        "y = np.empty_like(x)   # Create an empty matrix with the same shape as x\n",
        "import time\n",
        "start_time = time.time()\n",
        "# Add the vector v to each row of the matrix x with an explicit loop\n",
        "for i in range(4):\n",
        "    y[i, :] = x[i, :] + v\n",
        "\n",
        "print((time.time() - start_time)*1000)\n",
        "print(y)"
      ]
    },
    {
      "cell_type": "code",
      "execution_count": 43,
      "metadata": {
        "nbpresent": {
          "id": "25740716-9c36-4061-ad4b-0da677faa24a"
        },
        "id": "OZ4wofclpO4O",
        "outputId": "70727539-1962-4897-dff4-10a87c4301c0",
        "colab": {
          "base_uri": "https://localhost:8080/"
        }
      },
      "outputs": [
        {
          "output_type": "stream",
          "name": "stdout",
          "text": [
            "0.1125335693359375\n",
            "[[ 2  2  4]\n",
            " [ 5  5  7]\n",
            " [ 8  8 10]\n",
            " [11 11 13]]\n"
          ]
        }
      ],
      "source": [
        "# A much more simple and more efficient way\n",
        "import time\n",
        "start_time = time.time()\n",
        "y = x + v\n",
        "print((time.time() - start_time)*1000)\n",
        "print(y)"
      ]
    },
    {
      "cell_type": "markdown",
      "metadata": {
        "id": "TIT1-QLypO4O"
      },
      "source": [
        "## Conditional Operators\n",
        "The conditional operators also apply elementwise:"
      ]
    },
    {
      "cell_type": "code",
      "execution_count": null,
      "metadata": {
        "id": "7H_mQoowpO4P",
        "outputId": "8ffe7726-ef64-4718-caa3-d35e0c598d21",
        "colab": {
          "base_uri": "https://localhost:8080/"
        }
      },
      "outputs": [
        {
          "output_type": "stream",
          "name": "stdout",
          "text": [
            "[False  True  True False]\n"
          ]
        }
      ],
      "source": [
        "x = np.array([20, -5, 30, 40])\n",
        "print(x < [15, 16, 35, 36])"
      ]
    },
    {
      "cell_type": "code",
      "execution_count": null,
      "metadata": {
        "id": "KXkPTSZ0pO4Q",
        "outputId": "e4e28a10-5325-4ef1-dc34-09650eb0364f",
        "colab": {
          "base_uri": "https://localhost:8080/"
        }
      },
      "outputs": [
        {
          "output_type": "stream",
          "name": "stdout",
          "text": [
            "[ True  True False False]\n"
          ]
        }
      ],
      "source": [
        "print(x < 25)  # using BROADCASTING"
      ]
    },
    {
      "cell_type": "code",
      "execution_count": null,
      "metadata": {
        "id": "EeUD2H-ApO4Q",
        "outputId": "4f52e0ff-4794-476e-e4a6-6d31b11a7a43",
        "colab": {
          "base_uri": "https://localhost:8080/"
        }
      },
      "outputs": [
        {
          "output_type": "stream",
          "name": "stdout",
          "text": [
            "[20 -5]\n"
          ]
        }
      ],
      "source": [
        "# Boolean indexing\n",
        "print(x[x < 25])"
      ]
    },
    {
      "cell_type": "markdown",
      "metadata": {
        "id": "Z8ih4IX2pO4Q"
      },
      "source": [
        "## Stacking arrays"
      ]
    },
    {
      "cell_type": "code",
      "execution_count": null,
      "metadata": {
        "id": "53DG56AwpO4Q",
        "outputId": "178b204c-bfde-47e7-bd45-5d1c61850ca3",
        "colab": {
          "base_uri": "https://localhost:8080/"
        }
      },
      "outputs": [
        {
          "output_type": "stream",
          "name": "stdout",
          "text": [
            "[[1. 1. 1. 1.]\n",
            " [1. 1. 1. 1.]\n",
            " [1. 1. 1. 1.]]\n"
          ]
        }
      ],
      "source": [
        "A = np.full((3, 4), 1.0)\n",
        "print(A)"
      ]
    },
    {
      "cell_type": "code",
      "execution_count": null,
      "metadata": {
        "id": "euFa46KopO4T",
        "outputId": "0ee78dea-212a-4f17-9c13-c22bbd4eebda",
        "colab": {
          "base_uri": "https://localhost:8080/"
        }
      },
      "outputs": [
        {
          "output_type": "stream",
          "name": "stdout",
          "text": [
            "[[2. 2. 2. 2.]\n",
            " [2. 2. 2. 2.]\n",
            " [2. 2. 2. 2.]\n",
            " [2. 2. 2. 2.]]\n"
          ]
        }
      ],
      "source": [
        "B = np.full((4, 4), 2.0)\n",
        "print(B)"
      ]
    },
    {
      "cell_type": "code",
      "execution_count": null,
      "metadata": {
        "id": "-FT5XW-HpO4U",
        "outputId": "168177f7-1005-4071-8204-1ebb456763f4",
        "colab": {
          "base_uri": "https://localhost:8080/"
        }
      },
      "outputs": [
        {
          "output_type": "stream",
          "name": "stdout",
          "text": [
            "[[3. 3. 3. 3.]\n",
            " [3. 3. 3. 3.]\n",
            " [3. 3. 3. 3.]]\n"
          ]
        }
      ],
      "source": [
        "C = np.full((3, 4), 3.0)\n",
        "print(C)"
      ]
    },
    {
      "cell_type": "markdown",
      "metadata": {
        "id": "ZuEt-XSYpO4U"
      },
      "source": [
        "### `np.vstack`"
      ]
    },
    {
      "cell_type": "code",
      "execution_count": null,
      "metadata": {
        "id": "F8zISBwKpO4U",
        "outputId": "b4508fb0-ee76-4baf-e548-583442609543"
      },
      "outputs": [
        {
          "name": "stdout",
          "output_type": "stream",
          "text": [
            "[[ 1.  1.  1.  1.]\n",
            " [ 1.  1.  1.  1.]\n",
            " [ 1.  1.  1.  1.]\n",
            " [ 2.  2.  2.  2.]\n",
            " [ 2.  2.  2.  2.]\n",
            " [ 2.  2.  2.  2.]\n",
            " [ 2.  2.  2.  2.]\n",
            " [ 3.  3.  3.  3.]\n",
            " [ 3.  3.  3.  3.]\n",
            " [ 3.  3.  3.  3.]]\n"
          ]
        }
      ],
      "source": [
        "print(np.vstack((A, B, C)))"
      ]
    },
    {
      "cell_type": "markdown",
      "metadata": {
        "id": "7uy20D8dpO4V"
      },
      "source": [
        "### `np.hstack`"
      ]
    },
    {
      "cell_type": "code",
      "execution_count": null,
      "metadata": {
        "id": "TMOqRWSxpO4V",
        "outputId": "1a79a077-5b22-47ba-eb17-09c4c6412946"
      },
      "outputs": [
        {
          "name": "stdout",
          "output_type": "stream",
          "text": [
            "[[ 1.  1.  1.  1.  3.  3.  3.  3.]\n",
            " [ 1.  1.  1.  1.  3.  3.  3.  3.]\n",
            " [ 1.  1.  1.  1.  3.  3.  3.  3.]]\n"
          ]
        }
      ],
      "source": [
        "print(np.hstack((A, C)))"
      ]
    },
    {
      "cell_type": "markdown",
      "metadata": {
        "id": "tN3Xkxy4pO4W"
      },
      "source": [
        "## `concatenate`\n",
        "The `concatenate` function stacks arrays along **any given existing axis**."
      ]
    },
    {
      "cell_type": "code",
      "execution_count": null,
      "metadata": {
        "scrolled": true,
        "id": "69VQNbkMpO4W",
        "outputId": "e1652123-27da-4567-ceec-75ad3bdab5e1",
        "colab": {
          "base_uri": "https://localhost:8080/"
        }
      },
      "outputs": [
        {
          "output_type": "stream",
          "name": "stdout",
          "text": [
            "[[1. 1. 1. 1.]\n",
            " [1. 1. 1. 1.]\n",
            " [1. 1. 1. 1.]\n",
            " [2. 2. 2. 2.]\n",
            " [2. 2. 2. 2.]\n",
            " [2. 2. 2. 2.]\n",
            " [2. 2. 2. 2.]\n",
            " [3. 3. 3. 3.]\n",
            " [3. 3. 3. 3.]\n",
            " [3. 3. 3. 3.]]\n"
          ]
        }
      ],
      "source": [
        "D = np.concatenate((A, B, C), axis=0)  # same as vstack\n",
        "print(D)"
      ]
    },
    {
      "cell_type": "markdown",
      "metadata": {
        "id": "imGpx7q8pO4W"
      },
      "source": [
        "## `stack`\n",
        "- The `stack` function stacks arrays along **a new axis**. \n",
        "- All arrays have to have the **same shape**."
      ]
    },
    {
      "cell_type": "code",
      "execution_count": null,
      "metadata": {
        "id": "srNKkRvDpO4X",
        "outputId": "b4dd7451-7180-43a6-8415-c8f7aa1f2c4a",
        "colab": {
          "base_uri": "https://localhost:8080/"
        }
      },
      "outputs": [
        {
          "output_type": "stream",
          "name": "stdout",
          "text": [
            "[[[1. 1. 1. 1.]\n",
            "  [1. 1. 1. 1.]\n",
            "  [1. 1. 1. 1.]]\n",
            "\n",
            " [[3. 3. 3. 3.]\n",
            "  [3. 3. 3. 3.]\n",
            "  [3. 3. 3. 3.]]]\n",
            "(2, 3, 4)\n"
          ]
        }
      ],
      "source": [
        "D = np.stack((A, C))\n",
        "print(D)\n",
        "print(D.shape)"
      ]
    },
    {
      "cell_type": "markdown",
      "metadata": {
        "id": "eejPTDIypO4a"
      },
      "source": [
        "Note that A and C are 2 dimensional, but the result D is a 3 dimensional array."
      ]
    },
    {
      "cell_type": "markdown",
      "metadata": {
        "id": "3tzfOU86pO4e"
      },
      "source": [
        "# Transposing arrays\n",
        "The `transpose` method creates a new view on an `ndarray`'s data, with axes permuted in the given order.\n",
        "\n",
        "For example, let's create a 3D array:"
      ]
    },
    {
      "cell_type": "code",
      "execution_count": null,
      "metadata": {
        "id": "UznWoPytpO4g",
        "outputId": "a7dc64bc-6dd4-40e7-c79a-f1061410640c",
        "colab": {
          "base_uri": "https://localhost:8080/"
        }
      },
      "outputs": [
        {
          "output_type": "stream",
          "name": "stdout",
          "text": [
            "[[[ 0  1  2]\n",
            "  [ 3  4  5]]\n",
            "\n",
            " [[ 6  7  8]\n",
            "  [ 9 10 11]]\n",
            "\n",
            " [[12 13 14]\n",
            "  [15 16 17]]\n",
            "\n",
            " [[18 19 20]\n",
            "  [21 22 23]]]\n"
          ]
        }
      ],
      "source": [
        "A = np.arange(24).reshape(4, 2, 3)\n",
        "print(A)"
      ]
    },
    {
      "cell_type": "markdown",
      "metadata": {
        "id": "zLa7esv2pO4g"
      },
      "source": [
        "Now let's create an `ndarray` such that the axes `0, 1, 2` (depth, height, width) are re-ordered to `1, 2, 0` (depth→width, height→depth, width→height):"
      ]
    },
    {
      "cell_type": "markdown",
      "source": [
        "Batch size in keras and pytorch"
      ],
      "metadata": {
        "id": "UAv2ardgavrU"
      }
    },
    {
      "cell_type": "code",
      "execution_count": null,
      "metadata": {
        "id": "Ddd6xnlOpO4h",
        "outputId": "e19b8634-5492-49d8-fbe8-65d9d666649f",
        "colab": {
          "base_uri": "https://localhost:8080/"
        }
      },
      "outputs": [
        {
          "output_type": "stream",
          "name": "stdout",
          "text": [
            "[[[ 0  6 12 18]\n",
            "  [ 1  7 13 19]\n",
            "  [ 2  8 14 20]]\n",
            "\n",
            " [[ 3  9 15 21]\n",
            "  [ 4 10 16 22]\n",
            "  [ 5 11 17 23]]]\n"
          ]
        }
      ],
      "source": [
        "B = A.transpose((1, 2, 0))\n",
        "print(B)"
      ]
    },
    {
      "cell_type": "markdown",
      "metadata": {
        "id": "VvzzDSVgpO4h"
      },
      "source": [
        "By default, `transpose` reverses the order of the dimensions:"
      ]
    },
    {
      "cell_type": "code",
      "execution_count": null,
      "metadata": {
        "id": "DIIXdl5ypO4h",
        "outputId": "c0ab4459-136f-4fd0-8381-85404f01d480",
        "colab": {
          "base_uri": "https://localhost:8080/"
        }
      },
      "outputs": [
        {
          "output_type": "stream",
          "name": "stdout",
          "text": [
            "[[[ 0  6 12 18]\n",
            "  [ 3  9 15 21]]\n",
            "\n",
            " [[ 1  7 13 19]\n",
            "  [ 4 10 16 22]]\n",
            "\n",
            " [[ 2  8 14 20]\n",
            "  [ 5 11 17 23]]]\n"
          ]
        }
      ],
      "source": [
        "B = A.transpose()  # A is (4, 2, 3) and B is (3, 2, 4)\n",
        "print(B)"
      ]
    },
    {
      "cell_type": "markdown",
      "metadata": {
        "collapsed": true,
        "nbpresent": {
          "id": "47a1600d-c7f2-4cc8-9bdc-0556797a2e30"
        },
        "id": "9M-oZvyYpO4o"
      },
      "source": [
        "## Matplotlib"
      ]
    },
    {
      "cell_type": "code",
      "execution_count": null,
      "metadata": {
        "collapsed": true,
        "nbpresent": {
          "id": "bf47e898-a656-4020-abb9-179299e26446"
        },
        "id": "6-e-j6xwpO4o"
      },
      "outputs": [],
      "source": [
        "import matplotlib.pyplot as plt"
      ]
    },
    {
      "cell_type": "markdown",
      "metadata": {
        "nbpresent": {
          "id": "c7ace296-ac54-4989-80eb-e778531b0289"
        },
        "id": "N26BkuDPpO4o"
      },
      "source": [
        "By running this special iPython command, we will be displaying plots inline:"
      ]
    },
    {
      "cell_type": "code",
      "execution_count": null,
      "metadata": {
        "collapsed": true,
        "nbpresent": {
          "id": "4134ec96-e30f-464f-bbc0-6de6f26cea14"
        },
        "id": "e7b3bbq5pO4o"
      },
      "outputs": [],
      "source": [
        "%matplotlib inline"
      ]
    },
    {
      "cell_type": "markdown",
      "metadata": {
        "nbpresent": {
          "id": "5b20e033-474b-4596-948b-33695bbb0d71"
        },
        "id": "kyhy8DWipO4p"
      },
      "source": [
        "### Plotting"
      ]
    },
    {
      "cell_type": "markdown",
      "metadata": {
        "nbpresent": {
          "id": "dede842c-3b8e-4247-ba1a-f9a3cc53b892"
        },
        "id": "LbeZnSlxpO4p"
      },
      "source": [
        "The most important function in `matplotlib` is **plot**, which allows you to plot 2D data. \n",
        "\n",
        "Here is a simple example:"
      ]
    },
    {
      "cell_type": "code",
      "execution_count": null,
      "metadata": {
        "nbpresent": {
          "id": "0f31668a-e78f-46a2-9600-e1c61bdebe89"
        },
        "id": "S6IRwGgRpO4p",
        "outputId": "7e6a83f7-eede-4fba-85f8-258b81065374"
      },
      "outputs": [
        {
          "data": {
            "image/png": "[encoded data removed]",
            "text/plain": [
              "<matplotlib.figure.Figure at 0x25f80205fd0>"
            ]
          },
          "metadata": {},
          "output_type": "display_data"
        }
      ],
      "source": [
        "# Compute the x and y coordinates for points on a sine curve\n",
        "x = np.arange(0, 3 * np.pi, 0.1)\n",
        "y1 = np.sin(x)\n",
        "\n",
        "# Plot the points using matplotlib\n",
        "plt.plot(x, y1);"
      ]
    },
    {
      "cell_type": "code",
      "execution_count": null,
      "metadata": {
        "nbpresent": {
          "id": "219a5bde-d5ed-4228-a8cb-b42373e016e1"
        },
        "id": "O61Kccy2pO4p",
        "outputId": "04530a38-53d4-4112-a59c-0dab955c44d7"
      },
      "outputs": [
        {
          "data": {
            "image/png": "[encoded data removed]",
            "text/plain": [
              "<matplotlib.figure.Figure at 0x25f81fd6ef0>"
            ]
          },
          "metadata": {},
          "output_type": "display_data"
        }
      ],
      "source": [
        "y2 = np.cos(x)\n",
        "\n",
        "# Plot the points using matplotlib\n",
        "plt.plot(x, y1)\n",
        "plt.plot(x, y2)\n",
        "plt.xlabel('x')\n",
        "plt.ylabel('y')\n",
        "plt.title('Sine and Cosine')\n",
        "plt.legend(['Sin', 'Cos']);"
      ]
    },
    {
      "cell_type": "code",
      "execution_count": null,
      "metadata": {
        "nbpresent": {
          "id": "7c809eec-9824-40a9-a157-0a8fad7f26c8"
        },
        "id": "0xl8_fRvpO4q",
        "outputId": "cffe49de-07bc-4229-ef5e-dd09076ee39b"
      },
      "outputs": [
        {
          "data": {
            "image/png": "[encoded data removed]",
            "text/plain": [
              "<matplotlib.figure.Figure at 0x25f82028fd0>"
            ]
          },
          "metadata": {},
          "output_type": "display_data"
        }
      ],
      "source": [
        "plt.plot(x, y1, 'rx', x, y2, 'k:')\n",
        "plt.legend(['sin', 'cos']);"
      ]
    },
    {
      "cell_type": "markdown",
      "metadata": {
        "nbpresent": {
          "id": "4fd24a11-6d6b-4493-bda0-6359ced0166d"
        },
        "id": "f6PlvjILpO4y"
      },
      "source": [
        "## Subplots\n",
        "- You can plot different things in the same figure using the subplot function.\n",
        "- These subplots are organized in a grid. \n",
        "- To create a subplot, just call the `subplot` function, and specify the number of rows and columns in the figure, and the index of the subplot you want to draw on (starting from 1, then left to right, and top to bottom). \n",
        "- Note that pyplot keeps track of the currently active subplot (which you can get a reference to by calling `plt.gca()`), so when you call the `plot` function, it draws on the *active* subplot."
      ]
    },
    {
      "cell_type": "markdown",
      "metadata": {
        "id": "7Zd3mtEzpO4z"
      },
      "source": [
        "<img src='https://github.com/snrazavi/Machine-Learning-in-Python-Workshop/blob/master/MLiP-week01and02/imgs/subplot.jpg?raw=1' width=500>"
      ]
    },
    {
      "cell_type": "code",
      "execution_count": null,
      "metadata": {
        "nbpresent": {
          "id": "df2baa7b-4ca8-4d72-9924-03ae8f91535c"
        },
        "scrolled": false,
        "id": "8732TCjTpO40",
        "outputId": "5501f28a-406f-4acf-9c77-cafe538dae51"
      },
      "outputs": [
        {
          "data": {
            "image/png": "[encoded data removed]",
            "text/plain": [
              "<matplotlib.figure.Figure at 0x25f82269550>"
            ]
          },
          "metadata": {},
          "output_type": "display_data"
        }
      ],
      "source": [
        "# Compute the x and y coordinates for points on sine and cosine curves\n",
        "x = np.arange(0, 3 * np.pi, 0.1)\n",
        "y1 = np.sin(x)\n",
        "y2 = np.cos(x)\n",
        "\n",
        "# Set up a subplot grid that has height 2 and width 1,\n",
        "# and set the first such subplot as active.\n",
        "plt.subplot(2, 1, 1)\n",
        "\n",
        "# Make the first plot\n",
        "plt.plot(x, y1)\n",
        "plt.title('Sin')\n",
        "\n",
        "# Set the second subplot as active, and make the second plot.\n",
        "plt.subplot(2, 1, 2)\n",
        "plt.plot(x, y2)\n",
        "plt.title('Cos')\n",
        "\n",
        "# Show the figure.\n",
        "plt.show()"
      ]
    },
    {
      "cell_type": "code",
      "execution_count": null,
      "metadata": {
        "scrolled": true,
        "id": "MrT2vUDgpO40",
        "outputId": "2af5feec-e1f8-440d-f28b-deb44d7a16ba"
      },
      "outputs": [
        {
          "data": {
            "image/png": "[encoded data removed]",
            "text/plain": [
              "<matplotlib.figure.Figure at 0x25f82339198>"
            ]
          },
          "metadata": {},
          "output_type": "display_data"
        }
      ],
      "source": [
        "x = np.linspace(-1.4, 1.4, 30)\n",
        "plt.subplot(2, 2, 1)  # 2 rows, 2 columns, 1st subplot = top left\n",
        "plt.plot(x, x)\n",
        "plt.subplot(2, 2, 2)  # 2 rows, 2 columns, 2nd subplot = top right\n",
        "plt.plot(x, x**2)\n",
        "plt.subplot(2, 2, 3)  # 2 rows, 2 columns, 3rd subplot = bottow left\n",
        "plt.plot(x, x**3)\n",
        "plt.subplot(2, 2, 4)  # 2 rows, 2 columns, 4th subplot = bottom right\n",
        "plt.plot(x, x**4)\n",
        "plt.show()"
      ]
    },
    {
      "cell_type": "markdown",
      "metadata": {
        "nbpresent": {
          "id": "fb9960a1-bb4b-4ae1-82b6-1b74bde56ffb"
        },
        "id": "sA2CEUvxpO41"
      },
      "source": [
        "You can read much more about the `subplot` function in the [documentation](http://matplotlib.org/api/pyplot_api.html#matplotlib.pyplot.subplot)."
      ]
    },
    {
      "cell_type": "markdown",
      "metadata": {
        "id": "XAxHpqSQpO41"
      },
      "source": [
        "### Saving a figure"
      ]
    },
    {
      "cell_type": "code",
      "execution_count": null,
      "metadata": {
        "id": "R5lt53sHpO42",
        "outputId": "d744d48d-52b2-44fb-9c5f-dfa464a77024"
      },
      "outputs": [
        {
          "data": {
            "image/png": "[encoded data removed]",
            "text/plain": [
              "<matplotlib.figure.Figure at 0x25f8234fac8>"
            ]
          },
          "metadata": {},
          "output_type": "display_data"
        }
      ],
      "source": [
        "x = np.linspace(-2, 2, 500)\n",
        "y = x ** 2\n",
        "plt.plot(x, y, 'r--')\n",
        "plt.xlabel('$x$')\n",
        "plt.ylabel('$y = x^2$')\n",
        "plt.title('Square Function')\n",
        "# save the figure\n",
        "plt.savefig('x2.png')"
      ]
    },
    {
      "cell_type": "markdown",
      "metadata": {
        "nbpresent": {
          "id": "fb9960a1-bb4b-4ae1-82b6-1b74bde56ffb"
        },
        "id": "l_Kz1ONhpO45"
      },
      "source": [
        "You can read much more about the `matplotlib` in the [documentation](http://matplotlib.org)."
      ]
    },
    {
      "cell_type": "markdown",
      "source": [
        "###Pandas"
      ],
      "metadata": {
        "id": "So8LF3qRcqj-"
      }
    },
    {
      "cell_type": "code",
      "source": [
        "import pandas as pd"
      ],
      "metadata": {
        "id": "rcrd20v5csWT"
      },
      "execution_count": null,
      "outputs": []
    },
    {
      "cell_type": "code",
      "source": [
        "dataset = pd.read_csv('')\n",
        "dataset.head()"
      ],
      "metadata": {
        "id": "GucgXI5Ncurq"
      },
      "execution_count": null,
      "outputs": []
    }
  ],
  "metadata": {
    "anaconda-cloud": {},
    "kernelspec": {
      "display_name": "Python 3",
      "language": "python",
      "name": "python3"
    },
    "language_info": {
      "codemirror_mode": {
        "name": "ipython",
        "version": 3
      },
      "file_extension": ".py",
      "mimetype": "text/x-python",
      "name": "python",
      "nbconvert_exporter": "python",
      "pygments_lexer": "ipython3",
      "version": "3.6.5"
    },
    "nbpresent": {
      "slides": {
        "010f9cb8-327e-47bc-a936-290dd91f9f6d": {
          "id": "010f9cb8-327e-47bc-a936-290dd91f9f6d",
          "prev": "d768900c-152e-4916-b503-547e3a0e7bf6",
          "regions": {
            "8588e52e-7f25-4278-9349-f4950414e7ea": {
              "attrs": {
                "height": 0.8,
                "width": 0.8,
                "x": 0.1,
                "y": 0.1
              },
              "content": {
                "cell": "2dab37cf-2ab2-493c-9703-be87b5497406",
                "part": "whole"
              },
              "id": "8588e52e-7f25-4278-9349-f4950414e7ea"
            }
          }
        },
        "060afd82-cf44-485e-b9a8-5177373506b2": {
          "id": "060afd82-cf44-485e-b9a8-5177373506b2",
          "prev": "5f0677e0-0b1d-464d-81cc-83bae28c320f",
          "regions": {
            "72b2642e-b3a3-4fe0-82a8-8b75697d4842": {
              "attrs": {
                "height": 0.8,
                "width": 0.8,
                "x": 0.1,
                "y": 0.1
              },
              "content": {
                "cell": "5def64a0-0984-4c4a-a981-ee5d573b778a",
                "part": "whole"
              },
              "id": "72b2642e-b3a3-4fe0-82a8-8b75697d4842"
            }
          }
        },
        "083d43f3-e113-4bd2-9ac1-fef898f95f35": {
          "id": "083d43f3-e113-4bd2-9ac1-fef898f95f35",
          "prev": "060afd82-cf44-485e-b9a8-5177373506b2",
          "regions": {
            "fc025830-744f-4128-940f-a9ee8a5bc79b": {
              "attrs": {
                "height": 0.8,
                "width": 0.8,
                "x": 0.1,
                "y": 0.1
              },
              "content": {
                "cell": "b1a2b4ac-eff2-496c-82ab-07e1e35a67a4",
                "part": "whole"
              },
              "id": "fc025830-744f-4128-940f-a9ee8a5bc79b"
            }
          }
        },
        "09d427f6-0674-4732-947c-a8e797578b96": {
          "id": "09d427f6-0674-4732-947c-a8e797578b96",
          "prev": "8a15c1a8-6582-486c-89b2-ac17f3c7053e",
          "regions": {
            "9ad9c8d6-ff82-48cd-8fc2-c8afee961c32": {
              "attrs": {
                "height": 0.8,
                "width": 0.8,
                "x": 0.1,
                "y": 0.1
              },
              "content": {
                "cell": "77f2bbb9-90b0-4844-80dc-dad55394fea0",
                "part": "whole"
              },
              "id": "9ad9c8d6-ff82-48cd-8fc2-c8afee961c32"
            }
          }
        },
        "0beac995-3577-4887-a868-f58c246e5445": {
          "id": "0beac995-3577-4887-a868-f58c246e5445",
          "prev": "1b98ffac-4b91-41d9-b85b-1563b7e66cda",
          "regions": {
            "cd4e5894-eb79-4771-81dc-820b4a2c74e3": {
              "attrs": {
                "height": 0.8,
                "width": 0.8,
                "x": 0.1,
                "y": 0.1
              },
              "content": {
                "cell": "6fe1a005-d2f2-4a22-aa23-cb6be1df6700",
                "part": "whole"
              },
              "id": "cd4e5894-eb79-4771-81dc-820b4a2c74e3"
            }
          }
        },
        "0e5d07c9-b39c-49b7-b9ef-d6c5f67ec657": {
          "id": "0e5d07c9-b39c-49b7-b9ef-d6c5f67ec657",
          "prev": "58ae3376-c361-4d50-b54e-e401cf5dd754",
          "regions": {
            "5a996e7d-6a04-4e06-b75b-337723657b52": {
              "attrs": {
                "height": 0.8,
                "width": 0.8,
                "x": 0.1,
                "y": 0.1
              },
              "content": {
                "cell": "1612df79-2e46-4cd3-95f0-d67fc5938404",
                "part": "whole"
              },
              "id": "5a996e7d-6a04-4e06-b75b-337723657b52"
            }
          }
        },
        "12c47d6f-742e-4d32-96ff-d95823ecb948": {
          "id": "12c47d6f-742e-4d32-96ff-d95823ecb948",
          "prev": "de79e7bf-c56d-4faf-9042-b0af513ddc48",
          "regions": {
            "abf0bd6d-ee97-4edc-a3c4-69334e1f96ed": {
              "attrs": {
                "height": 0.8,
                "width": 0.8,
                "x": 0.1,
                "y": 0.1
              },
              "content": {
                "cell": "053c9668-b01a-46cb-9594-fa01d1bd2f84",
                "part": "whole"
              },
              "id": "abf0bd6d-ee97-4edc-a3c4-69334e1f96ed"
            }
          }
        },
        "12e4b9fc-c422-4155-ba94-0537b44affc3": {
          "id": "12e4b9fc-c422-4155-ba94-0537b44affc3",
          "prev": "6d076b58-e281-466a-aae6-7226b91059a6",
          "regions": {
            "cb8f5d39-9001-4450-b726-6bb27313f0af": {
              "attrs": {
                "height": 0.8,
                "width": 0.8,
                "x": 0.1,
                "y": 0.1
              },
              "content": {
                "cell": "6d895191-78a9-4202-97f0-01917d22481f",
                "part": "whole"
              },
              "id": "cb8f5d39-9001-4450-b726-6bb27313f0af"
            }
          }
        },
        "17601d51-6ebf-4a94-bee0-979d6ef52b3a": {
          "id": "17601d51-6ebf-4a94-bee0-979d6ef52b3a",
          "prev": "6329d7a8-a15a-4cdc-b7a6-439b0d94df34",
          "regions": {
            "6cff3675-4d23-4a96-9808-f2e40ff86fff": {
              "attrs": {
                "height": 0.8,
                "width": 0.8,
                "x": 0.1,
                "y": 0.1
              },
              "content": {
                "cell": "2f68a9ff-30f1-4bdb-b643-bc9976fc40b6",
                "part": "whole"
              },
              "id": "6cff3675-4d23-4a96-9808-f2e40ff86fff"
            }
          }
        },
        "17c6ab49-7943-463f-9b1a-256c49e2f1bf": {
          "id": "17c6ab49-7943-463f-9b1a-256c49e2f1bf",
          "prev": "56e0e0d7-2497-4fca-9e58-db8da3c7fc19",
          "regions": {
            "86e1218a-54f4-4ffa-91e5-dfce1a6aaf49": {
              "attrs": {
                "height": 0.8,
                "width": 0.8,
                "x": 0.1,
                "y": 0.1
              },
              "content": {
                "cell": "65691f6e-4359-4195-adec-07e322d890ba",
                "part": "whole"
              },
              "id": "86e1218a-54f4-4ffa-91e5-dfce1a6aaf49"
            }
          }
        },
        "17ee9e09-1e74-42f9-9a51-e4b5dee31b5f": {
          "id": "17ee9e09-1e74-42f9-9a51-e4b5dee31b5f",
          "prev": "a7e4b0fb-c09a-4028-aa44-976970864ef5",
          "regions": {
            "548414d6-c09d-4fcd-a971-0d83c38eea3b": {
              "attrs": {
                "height": 0.8,
                "width": 0.8,
                "x": 0.1,
                "y": 0.1
              },
              "content": {
                "cell": "63de882d-8f13-44a7-b28b-c424753db3f2",
                "part": "whole"
              },
              "id": "548414d6-c09d-4fcd-a971-0d83c38eea3b"
            }
          }
        },
        "18341619-66ea-46da-bf20-3629e0b95208": {
          "id": "18341619-66ea-46da-bf20-3629e0b95208",
          "prev": "3020800d-7165-4e2c-895e-3e9759018b47",
          "regions": {
            "cd5b19dd-12bd-4755-a5a7-1b91bf2e1d85": {
              "attrs": {
                "height": 0.8,
                "width": 0.8,
                "x": 0.1,
                "y": 0.1
              },
              "content": {
                "cell": "43f08029-97d5-48b5-adee-b81f5907ed6c",
                "part": "whole"
              },
              "id": "cd5b19dd-12bd-4755-a5a7-1b91bf2e1d85"
            }
          }
        },
        "1b98ffac-4b91-41d9-b85b-1563b7e66cda": {
          "id": "1b98ffac-4b91-41d9-b85b-1563b7e66cda",
          "prev": "55964cba-1d33-41d6-8405-d4b05a1bac64",
          "regions": {
            "21c677c8-1256-4d34-9276-65be7d8de143": {
              "attrs": {
                "height": 0.8,
                "width": 0.8,
                "x": 0.1,
                "y": 0.1
              },
              "content": {
                "cell": "736276d3-ba02-43b7-9bc5-5d9cf8555766",
                "part": "whole"
              },
              "id": "21c677c8-1256-4d34-9276-65be7d8de143"
            }
          }
        },
        "1cad1823-7036-4589-9479-c30ab9c71a46": {
          "id": "1cad1823-7036-4589-9479-c30ab9c71a46",
          "prev": "a6af18f8-3c70-4ca7-9b8d-3f48bdeeaf8b",
          "regions": {
            "b8a0263d-6eec-4cbc-a6d1-5c5c15f6bcf6": {
              "attrs": {
                "height": 0.8,
                "width": 0.8,
                "x": 0.1,
                "y": 0.1
              },
              "content": {
                "cell": "df2baa7b-4ca8-4d72-9924-03ae8f91535c",
                "part": "whole"
              },
              "id": "b8a0263d-6eec-4cbc-a6d1-5c5c15f6bcf6"
            }
          }
        },
        "1f625a17-3c73-4324-9cfd-e57f76f3eb4a": {
          "id": "1f625a17-3c73-4324-9cfd-e57f76f3eb4a",
          "prev": "f53536cd-a8b4-4de1-a965-7edfdbf8c00e",
          "regions": {
            "a3b9fb76-a641-4890-948e-b1df984771f2": {
              "attrs": {
                "height": 0.8,
                "width": 0.8,
                "x": 0.1,
                "y": 0.1
              },
              "content": {
                "cell": "33b1e136-e1ba-490e-a894-a7754ce65777",
                "part": "whole"
              },
              "id": "a3b9fb76-a641-4890-948e-b1df984771f2"
            }
          }
        },
        "213586a9-118b-4bef-970a-df7cb00ca5b4": {
          "id": "213586a9-118b-4bef-970a-df7cb00ca5b4",
          "prev": "b75fc9ee-29f7-4bf2-802f-a787b7828958",
          "regions": {
            "6be3f2b8-0428-4c4c-8649-e906ebb35416": {
              "attrs": {
                "height": 0.8,
                "width": 0.8,
                "x": 0.1,
                "y": 0.1
              },
              "content": {
                "cell": "a5eae43d-2c41-447d-8aeb-97038bd1fd01",
                "part": "whole"
              },
              "id": "6be3f2b8-0428-4c4c-8649-e906ebb35416"
            }
          }
        },
        "24977802-140d-462c-af0c-7bd9a3667431": {
          "id": "24977802-140d-462c-af0c-7bd9a3667431",
          "prev": "09d427f6-0674-4732-947c-a8e797578b96",
          "regions": {
            "dc794b24-1424-4b6e-a55a-fd0b37d8f327": {
              "attrs": {
                "height": 0.8,
                "width": 0.8,
                "x": 0.1,
                "y": 0.1
              },
              "content": {
                "cell": "47a1600d-c7f2-4cc8-9bdc-0556797a2e30",
                "part": "whole"
              },
              "id": "dc794b24-1424-4b6e-a55a-fd0b37d8f327"
            }
          }
        },
        "24e318ee-9a59-4361-8513-78a9afd81577": {
          "id": "24e318ee-9a59-4361-8513-78a9afd81577",
          "prev": "f77cf59a-6e0f-4bec-9e99-98d82aa85509",
          "regions": {
            "55975d5f-8240-4692-9ce4-988c2e5b54e5": {
              "attrs": {
                "height": 0.8,
                "width": 0.8,
                "x": 0.1,
                "y": 0.1
              },
              "content": {
                "cell": "648711e3-5eb5-4bd0-a6a4-0799d075e0e1",
                "part": "whole"
              },
              "id": "55975d5f-8240-4692-9ce4-988c2e5b54e5"
            }
          }
        },
        "251cfe6e-ee1a-40d7-98e6-86f79932f62b": {
          "id": "251cfe6e-ee1a-40d7-98e6-86f79932f62b",
          "prev": "ed505b63-9461-4354-8041-852fbeefb6e4",
          "regions": {
            "9d9203d4-fb40-4740-ba5e-4db3938b60b3": {
              "attrs": {
                "height": 0.8,
                "width": 0.8,
                "x": 0.1,
                "y": 0.1
              },
              "content": {
                "cell": "24ca7d7c-48a0-415e-b03e-cbdaaa365454",
                "part": "whole"
              },
              "id": "9d9203d4-fb40-4740-ba5e-4db3938b60b3"
            }
          }
        },
        "2528d89e-c689-4ef0-9ab2-484105503738": {
          "id": "2528d89e-c689-4ef0-9ab2-484105503738",
          "prev": "df8ff3d1-32ac-4d31-aa9c-2dfcd0b5fb9e",
          "regions": {
            "0a67efc3-b02f-42e7-bb86-2bd4c3eca332": {
              "attrs": {
                "height": 0.8,
                "width": 0.8,
                "x": 0.1,
                "y": 0.1
              },
              "content": {
                "cell": "20114f81-ca9d-4c25-b31c-72f01443a333",
                "part": "whole"
              },
              "id": "0a67efc3-b02f-42e7-bb86-2bd4c3eca332"
            }
          }
        },
        "2580744b-4bc9-409b-ba24-5f88634347d2": {
          "id": "2580744b-4bc9-409b-ba24-5f88634347d2",
          "prev": "912b3bcc-5c17-44ee-81b0-d89e51cbbaad",
          "regions": {
            "78b1ffff-5869-4a25-ab57-71f929c34012": {
              "attrs": {
                "height": 0.8,
                "width": 0.8,
                "x": 0.1,
                "y": 0.1
              },
              "content": {
                "cell": "dede842c-3b8e-4247-ba1a-f9a3cc53b892",
                "part": "whole"
              },
              "id": "78b1ffff-5869-4a25-ab57-71f929c34012"
            }
          }
        },
        "269c65a7-d812-42f2-95dd-6596fc60c5b0": {
          "id": "269c65a7-d812-42f2-95dd-6596fc60c5b0",
          "prev": "3bfcd42c-0147-48a8-bfad-ec58a8aef249",
          "regions": {
            "ae177b6f-1638-4aaa-9f5a-7a7e7c2d9006": {
              "attrs": {
                "height": 0.8,
                "width": 0.8,
                "x": 0.1,
                "y": 0.1
              },
              "content": {
                "cell": "33efbd0f-4ff0-4592-8b4c-c00072c6a329",
                "part": "whole"
              },
              "id": "ae177b6f-1638-4aaa-9f5a-7a7e7c2d9006"
            }
          }
        },
        "29ba3c4e-8479-4d6d-bbd8-bb2d3ac2a114": {
          "id": "29ba3c4e-8479-4d6d-bbd8-bb2d3ac2a114",
          "prev": "9c6b5a32-b50a-4931-95a4-aeeed52961e6",
          "regions": {
            "cc8e8f4a-0535-4fa1-80e9-94642d7f349a": {
              "attrs": {
                "height": 0.8,
                "width": 0.8,
                "x": 0.1,
                "y": 0.1
              },
              "content": {
                "cell": "4c0a22f4-9e08-4371-9940-06244894f11e",
                "part": "whole"
              },
              "id": "cc8e8f4a-0535-4fa1-80e9-94642d7f349a"
            }
          }
        },
        "2f47faf4-03f0-4fdc-985a-0d6d62cc79f2": {
          "id": "2f47faf4-03f0-4fdc-985a-0d6d62cc79f2",
          "prev": "a97ff32a-aca9-4e03-b231-e50eb5310f7f",
          "regions": {
            "bcca8b3c-e28d-4783-8bed-17df165a98ec": {
              "attrs": {
                "height": 0.8,
                "width": 0.8,
                "x": 0.1,
                "y": 0.1
              },
              "content": {
                "cell": "632de4ec-6241-4c38-8983-a519885931a1",
                "part": "whole"
              },
              "id": "bcca8b3c-e28d-4783-8bed-17df165a98ec"
            }
          }
        },
        "2fbb97e5-395f-46fe-89c2-672f666b0e0f": {
          "id": "2fbb97e5-395f-46fe-89c2-672f666b0e0f",
          "prev": "2528d89e-c689-4ef0-9ab2-484105503738",
          "regions": {
            "84f06f83-10d3-46d8-acd4-6e1785da9a53": {
              "attrs": {
                "height": 0.8,
                "width": 0.8,
                "x": 0.1,
                "y": 0.1
              },
              "content": {
                "cell": "a1d513cd-a340-4718-b640-fe9911ac8658",
                "part": "whole"
              },
              "id": "84f06f83-10d3-46d8-acd4-6e1785da9a53"
            }
          }
        },
        "3020800d-7165-4e2c-895e-3e9759018b47": {
          "id": "3020800d-7165-4e2c-895e-3e9759018b47",
          "prev": "cd8c3575-bfac-4064-9e1e-d8433dcc8793",
          "regions": {
            "2e2b5b43-aadb-44a2-9f7c-21b789aeb73f": {
              "attrs": {
                "height": 0.8,
                "width": 0.8,
                "x": 0.1,
                "y": 0.1
              },
              "content": {
                "cell": "7d927932-1aa7-4b62-ab7b-5120c07799a0",
                "part": "whole"
              },
              "id": "2e2b5b43-aadb-44a2-9f7c-21b789aeb73f"
            }
          }
        },
        "31241d59-4d2b-4d8c-b1c4-ff173a76f09b": {
          "id": "31241d59-4d2b-4d8c-b1c4-ff173a76f09b",
          "prev": "1f625a17-3c73-4324-9cfd-e57f76f3eb4a",
          "regions": {
            "59713599-e706-4e0a-84e2-1cc5132045a7": {
              "attrs": {
                "height": 0.8,
                "width": 0.8,
                "x": 0.1,
                "y": 0.1
              },
              "content": {
                "cell": "6a261ebc-adb1-43af-8ef0-ca27486881c3",
                "part": "whole"
              },
              "id": "59713599-e706-4e0a-84e2-1cc5132045a7"
            }
          }
        },
        "3550fd0b-903b-4df8-ba6e-406c80c10e2e": {
          "id": "3550fd0b-903b-4df8-ba6e-406c80c10e2e",
          "prev": "4bbb67f5-7ac6-45c6-8a31-4e96dd2a7bed",
          "regions": {
            "3c382a97-2315-444d-847d-c90ff708f8a1": {
              "attrs": {
                "height": 0.8,
                "width": 0.8,
                "x": 0.1,
                "y": 0.1
              },
              "content": {
                "cell": "b0c33c2b-2ec9-4f48-a90d-efc15a9e352d",
                "part": "whole"
              },
              "id": "3c382a97-2315-444d-847d-c90ff708f8a1"
            }
          }
        },
        "37453ebd-b9a9-4f6a-86a8-66caf752750e": {
          "id": "37453ebd-b9a9-4f6a-86a8-66caf752750e",
          "prev": "641a9528-13aa-496a-8905-f38ab32ffdeb",
          "regions": {
            "a48156f7-469d-4fd8-a800-2093c7d1d78c": {
              "attrs": {
                "height": 0.8,
                "width": 0.8,
                "x": 0.1,
                "y": 0.1
              },
              "content": {
                "cell": "299945cb-1edd-44a4-afeb-c2ee1e03e4e5",
                "part": "whole"
              },
              "id": "a48156f7-469d-4fd8-a800-2093c7d1d78c"
            }
          }
        },
        "3814c857-5e13-41bf-8196-ced9ee29297e": {
          "id": "3814c857-5e13-41bf-8196-ced9ee29297e",
          "prev": "8c25f72b-2d5a-4794-bab0-bed80a4cf6b5",
          "regions": {
            "7b3b9163-bc95-404f-8125-786cc4cbb55a": {
              "attrs": {
                "height": 0.8,
                "width": 0.8,
                "x": 0.1,
                "y": 0.1
              },
              "content": {
                "cell": "f1991d2f-a4e0-461d-a9bf-003abe89b4a4",
                "part": "whole"
              },
              "id": "7b3b9163-bc95-404f-8125-786cc4cbb55a"
            }
          }
        },
        "39605fd1-3b82-4319-b364-a6261355ad78": {
          "id": "39605fd1-3b82-4319-b364-a6261355ad78",
          "prev": "9971435a-8c32-4719-a57f-794ad2e1a42c",
          "regions": {
            "7d52ffe6-e8c7-46fd-a4f5-0025988a7c17": {
              "attrs": {
                "height": 0.8,
                "width": 0.8,
                "x": 0.1,
                "y": 0.1
              },
              "content": {
                "cell": "a2c05033-2a32-4531-b759-1697066acabd",
                "part": "whole"
              },
              "id": "7d52ffe6-e8c7-46fd-a4f5-0025988a7c17"
            }
          }
        },
        "3ab32462-69bc-45da-b368-82227fce23c0": {
          "id": "3ab32462-69bc-45da-b368-82227fce23c0",
          "prev": null,
          "regions": {
            "c6c129c6-38dc-46ec-a401-f0cbc3cfbcbb": {
              "attrs": {
                "height": 0.8,
                "width": 0.8,
                "x": 0.1,
                "y": 0.1
              },
              "content": {
                "cell": "fc61b57d-2c81-4562-a2a0-bdaae6c99859",
                "part": "whole"
              },
              "id": "c6c129c6-38dc-46ec-a401-f0cbc3cfbcbb"
            }
          },
          "theme": null
        },
        "3bfcd42c-0147-48a8-bfad-ec58a8aef249": {
          "id": "3bfcd42c-0147-48a8-bfad-ec58a8aef249",
          "prev": "da011c6b-98a2-4f43-bb37-60022b5e7a15",
          "regions": {
            "c0b9a5aa-8def-4f4b-88d7-17ec1a6c89f3": {
              "attrs": {
                "height": 0.8,
                "width": 0.8,
                "x": 0.1,
                "y": 0.1
              },
              "content": {
                "cell": "92c4573e-bcf4-465c-a408-3f6cc1c33d0d",
                "part": "whole"
              },
              "id": "c0b9a5aa-8def-4f4b-88d7-17ec1a6c89f3"
            }
          }
        },
        "3fbe4dab-436c-4a00-9dcb-df6d72e80a43": {
          "id": "3fbe4dab-436c-4a00-9dcb-df6d72e80a43",
          "prev": "a432ba80-7ae1-45c2-a632-0b5c119045bf",
          "regions": {
            "10dfe036-fe0c-47f1-b603-ce0f438497ed": {
              "attrs": {
                "height": 0.8,
                "width": 0.8,
                "x": 0.1,
                "y": 0.1
              },
              "content": {
                "cell": "eec7044b-04b8-4b0b-acaa-4dbdf977d965",
                "part": "whole"
              },
              "id": "10dfe036-fe0c-47f1-b603-ce0f438497ed"
            }
          }
        },
        "41bcd6fe-2aa4-4f02-afcb-bc0ab3ef7d95": {
          "id": "41bcd6fe-2aa4-4f02-afcb-bc0ab3ef7d95",
          "prev": "ee5bdee3-7cef-4829-a6c2-051a0aa120d9",
          "regions": {
            "329bfb5f-e513-4aff-8cdc-8b2900bbb949": {
              "attrs": {
                "height": 0.8,
                "width": 0.8,
                "x": 0.1,
                "y": 0.1
              },
              "content": {
                "cell": "a30e0ff6-fc2d-4d38-9ab4-83dd4e13ae9a",
                "part": "whole"
              },
              "id": "329bfb5f-e513-4aff-8cdc-8b2900bbb949"
            }
          }
        },
        "444169a5-a623-49e0-8d1e-854286bd9f30": {
          "id": "444169a5-a623-49e0-8d1e-854286bd9f30",
          "prev": "c8bbad41-b442-40aa-8bba-1b752ddb21ef",
          "regions": {
            "9a7c44c5-9958-4a53-a382-2ef82f561db6": {
              "attrs": {
                "height": 0.8,
                "width": 0.8,
                "x": 0.1,
                "y": 0.1
              },
              "content": {
                "cell": "f4cc3a40-ace2-45ef-a83a-9536fddce6c0",
                "part": "whole"
              },
              "id": "9a7c44c5-9958-4a53-a382-2ef82f561db6"
            }
          }
        },
        "45a08520-ce3e-4eef-8a24-8395b5427784": {
          "id": "45a08520-ce3e-4eef-8a24-8395b5427784",
          "prev": "adc727c3-fe16-4ec2-a47f-1b384fb6caee",
          "regions": {
            "9fd0215c-1c96-4636-8d76-e85382715083": {
              "attrs": {
                "height": 0.8,
                "width": 0.8,
                "x": 0.1,
                "y": 0.1
              },
              "content": {
                "cell": "c7ace296-ac54-4989-80eb-e778531b0289",
                "part": "whole"
              },
              "id": "9fd0215c-1c96-4636-8d76-e85382715083"
            }
          }
        },
        "47efde76-ee97-432a-8631-30a8bfe03062": {
          "id": "47efde76-ee97-432a-8631-30a8bfe03062",
          "prev": "083d43f3-e113-4bd2-9ac1-fef898f95f35",
          "regions": {
            "7bc3285c-e5be-4dd8-98c9-96fd9674f179": {
              "attrs": {
                "height": 0.8,
                "width": 0.8,
                "x": 0.1,
                "y": 0.1
              },
              "content": {
                "cell": "ca9384b5-ac3c-4646-82f2-ae7d666af843",
                "part": "whole"
              },
              "id": "7bc3285c-e5be-4dd8-98c9-96fd9674f179"
            }
          }
        },
        "497f88d5-18bd-4f4f-a625-d96a954b9bd0": {
          "id": "497f88d5-18bd-4f4f-a625-d96a954b9bd0",
          "prev": "829029d0-bcba-497f-ae9a-16747aaec51c",
          "regions": {
            "2f446921-c211-4e4f-8e2d-6405c659ff2d": {
              "attrs": {
                "height": 0.8,
                "width": 0.8,
                "x": 0.1,
                "y": 0.1
              },
              "content": {
                "cell": "58a8c1a4-4906-418f-9bb8-94ad80718dd1",
                "part": "whole"
              },
              "id": "2f446921-c211-4e4f-8e2d-6405c659ff2d"
            }
          }
        },
        "4b0cc1dc-ab07-4da1-89b9-3cca36bf9515": {
          "id": "4b0cc1dc-ab07-4da1-89b9-3cca36bf9515",
          "prev": "37453ebd-b9a9-4f6a-86a8-66caf752750e",
          "regions": {
            "4d0839ff-8e2f-481e-a2b5-ccce3052238e": {
              "attrs": {
                "height": 0.8,
                "width": 0.8,
                "x": 0.1,
                "y": 0.1
              },
              "content": {
                "cell": "3c7351ed-25be-4f56-a4a5-19cc2c86e870",
                "part": "whole"
              },
              "id": "4d0839ff-8e2f-481e-a2b5-ccce3052238e"
            }
          }
        },
        "4bbb67f5-7ac6-45c6-8a31-4e96dd2a7bed": {
          "id": "4bbb67f5-7ac6-45c6-8a31-4e96dd2a7bed",
          "prev": "a9a2d58f-e961-4b95-beea-0d660764151d",
          "regions": {
            "809e5dfe-7bc7-44a4-be37-8b8c9742dbf7": {
              "attrs": {
                "height": 0.8,
                "width": 0.8,
                "x": 0.1,
                "y": 0.1
              },
              "content": {
                "cell": "a5ee9718-521f-4d96-86dd-14ee2f70b9ec",
                "part": "whole"
              },
              "id": "809e5dfe-7bc7-44a4-be37-8b8c9742dbf7"
            }
          }
        },
        "4c9f2465-32fe-4db1-93cb-ecf4dfdc7475": {
          "id": "4c9f2465-32fe-4db1-93cb-ecf4dfdc7475",
          "prev": "aeaba77b-d71d-4929-a582-ddfc326f912b",
          "regions": {
            "2ac584e1-62c9-420a-9aae-5cc4f9457bca": {
              "attrs": {
                "height": 0.8,
                "width": 0.8,
                "x": 0.1,
                "y": 0.1
              },
              "content": {
                "cell": "0101addc-83d2-49f6-9401-94f4f0070261",
                "part": "whole"
              },
              "id": "2ac584e1-62c9-420a-9aae-5cc4f9457bca"
            }
          }
        },
        "4deb62a7-340d-4b60-9cfd-211316099672": {
          "id": "4deb62a7-340d-4b60-9cfd-211316099672",
          "prev": "af117963-3289-4298-858d-02a44c4d6559",
          "regions": {
            "29b25614-2c24-448a-a650-f518c3cbdadf": {
              "attrs": {
                "height": 0.8,
                "width": 0.8,
                "x": 0.1,
                "y": 0.1
              },
              "content": {
                "cell": "94e7c578-bb8f-46e8-a250-7d3d938de9e8",
                "part": "whole"
              },
              "id": "29b25614-2c24-448a-a650-f518c3cbdadf"
            }
          }
        },
        "4e4c7c53-ca4b-441e-a122-d03a50c6699f": {
          "id": "4e4c7c53-ca4b-441e-a122-d03a50c6699f",
          "prev": "9637d5e1-44fd-4873-bb94-41d1729e51d3",
          "regions": {
            "4c94e1bb-d41d-4aab-bb22-a539c5363e26": {
              "attrs": {
                "height": 0.8,
                "width": 0.8,
                "x": 0.1,
                "y": 0.1
              },
              "content": {
                "cell": "56165948-2330-4d84-a54e-4d9160bc26e8",
                "part": "whole"
              },
              "id": "4c94e1bb-d41d-4aab-bb22-a539c5363e26"
            }
          }
        },
        "5268bce8-c107-4455-a9ed-1d6f09c36ca0": {
          "id": "5268bce8-c107-4455-a9ed-1d6f09c36ca0",
          "prev": "9b0ccf08-f3dd-4a58-8bd7-9de3383c6e4c",
          "regions": {
            "4feeabbb-06cd-44d1-a5f2-29b50bc18afd": {
              "attrs": {
                "height": 0.8,
                "width": 0.8,
                "x": 0.1,
                "y": 0.1
              },
              "content": {
                "cell": "c779cbdb-5013-4445-97e3-4d7014f58e5d",
                "part": "whole"
              },
              "id": "4feeabbb-06cd-44d1-a5f2-29b50bc18afd"
            }
          }
        },
        "54b10fd1-b6aa-4966-b426-21dafa05ec5b": {
          "id": "54b10fd1-b6aa-4966-b426-21dafa05ec5b",
          "prev": "251cfe6e-ee1a-40d7-98e6-86f79932f62b",
          "regions": {
            "3c82283b-9453-4cd3-9bde-4754f8e0c7eb": {
              "attrs": {
                "height": 0.8,
                "width": 0.8,
                "x": 0.1,
                "y": 0.1
              },
              "content": {
                "cell": "aa56517f-0489-42ba-baea-3bce798fdd2f",
                "part": "whole"
              },
              "id": "3c82283b-9453-4cd3-9bde-4754f8e0c7eb"
            }
          }
        },
        "5516ed8c-bf77-438f-9893-56de29379e95": {
          "id": "5516ed8c-bf77-438f-9893-56de29379e95",
          "prev": "66598012-43e1-4322-aa78-04eaf10f26d4",
          "regions": {
            "68efe984-3ddb-4682-8c1a-e04a8ef34e25": {
              "attrs": {
                "height": 0.8,
                "width": 0.8,
                "x": 0.1,
                "y": 0.1
              },
              "content": {
                "cell": "3b22d1a9-3efd-45f2-9af4-99b4d509e061",
                "part": "whole"
              },
              "id": "68efe984-3ddb-4682-8c1a-e04a8ef34e25"
            }
          }
        },
        "55964cba-1d33-41d6-8405-d4b05a1bac64": {
          "id": "55964cba-1d33-41d6-8405-d4b05a1bac64",
          "prev": "12c47d6f-742e-4d32-96ff-d95823ecb948",
          "regions": {
            "8e5feb31-0e92-4811-9c58-38f5d232db92": {
              "attrs": {
                "height": 0.8,
                "width": 0.8,
                "x": 0.1,
                "y": 0.1
              },
              "content": {
                "cell": "eb2f0d6f-6fb2-46c5-bee4-7eec051d1bd6",
                "part": "whole"
              },
              "id": "8e5feb31-0e92-4811-9c58-38f5d232db92"
            }
          }
        },
        "56e0e0d7-2497-4fca-9e58-db8da3c7fc19": {
          "id": "56e0e0d7-2497-4fca-9e58-db8da3c7fc19",
          "prev": "c069a6ab-ff0a-465c-a285-aa8c4316f7bf",
          "regions": {
            "a09693f1-c2d5-4de9-9ec1-0ed6589fe579": {
              "attrs": {
                "height": 0.8,
                "width": 0.8,
                "x": 0.1,
                "y": 0.1
              },
              "content": {
                "cell": "25740716-9c36-4061-ad4b-0da677faa24a",
                "part": "whole"
              },
              "id": "a09693f1-c2d5-4de9-9ec1-0ed6589fe579"
            }
          }
        },
        "579df7dc-7735-4a4d-89dc-cc2a3135f685": {
          "id": "579df7dc-7735-4a4d-89dc-cc2a3135f685",
          "prev": "82d7e578-2d52-4c6e-b8e0-b946880a7965",
          "regions": {
            "da1ecd1a-5d57-4df7-8c82-e238b44376f8": {
              "attrs": {
                "height": 0.8,
                "width": 0.8,
                "x": 0.1,
                "y": 0.1
              },
              "content": {
                "cell": "4801762f-8616-4fe4-ab4d-f93e303a043a",
                "part": "whole"
              },
              "id": "da1ecd1a-5d57-4df7-8c82-e238b44376f8"
            }
          }
        },
        "583e8082-26d4-4ead-96de-411cbee0d2c8": {
          "id": "583e8082-26d4-4ead-96de-411cbee0d2c8",
          "prev": "b282176d-6e90-4c06-ad61-ddfd41471027",
          "regions": {
            "87e6d8be-6713-4609-90be-fcbeb9156734": {
              "attrs": {
                "height": 0.8,
                "width": 0.8,
                "x": 0.1,
                "y": 0.1
              },
              "content": {
                "cell": "01dade1e-1422-4c6e-b618-2ae2485bb595",
                "part": "whole"
              },
              "id": "87e6d8be-6713-4609-90be-fcbeb9156734"
            }
          }
        },
        "584353f1-904d-4bff-b041-2623c8279ad3": {
          "id": "584353f1-904d-4bff-b041-2623c8279ad3",
          "prev": "b1abd270-9698-4c47-ac1d-2710f78a1876",
          "regions": {
            "491c7aba-aa0c-42b2-98f2-ea75b42da315": {
              "attrs": {
                "height": 0.8,
                "width": 0.8,
                "x": 0.1,
                "y": 0.1
              },
              "content": {
                "cell": "9462d9ab-5069-4240-9b53-720a4bf4afd9",
                "part": "whole"
              },
              "id": "491c7aba-aa0c-42b2-98f2-ea75b42da315"
            }
          }
        },
        "5843f9a6-e6e0-4013-b1e6-d0dd78f3fbb2": {
          "id": "5843f9a6-e6e0-4013-b1e6-d0dd78f3fbb2",
          "prev": "4deb62a7-340d-4b60-9cfd-211316099672",
          "regions": {
            "99f4da27-df4f-452f-80fb-ae43fe331ce8": {
              "attrs": {
                "height": 0.8,
                "width": 0.8,
                "x": 0.1,
                "y": 0.1
              },
              "content": {
                "cell": "98d11100-25ba-4dcc-8714-16d247d6b77f",
                "part": "whole"
              },
              "id": "99f4da27-df4f-452f-80fb-ae43fe331ce8"
            }
          }
        },
        "58ae3376-c361-4d50-b54e-e401cf5dd754": {
          "id": "58ae3376-c361-4d50-b54e-e401cf5dd754",
          "prev": "3ab32462-69bc-45da-b368-82227fce23c0",
          "regions": {
            "152bf359-58cb-41ca-9d3c-239930365e23": {
              "attrs": {
                "height": 0.8,
                "width": 0.8,
                "x": 0.1,
                "y": 0.1
              },
              "content": {
                "cell": "c5512b0c-cc4b-46ae-91ba-7dc1ea179fa4",
                "part": "whole"
              },
              "id": "152bf359-58cb-41ca-9d3c-239930365e23"
            }
          }
        },
        "5bb0cf08-61a2-4347-a3c2-d4b79c35e80d": {
          "id": "5bb0cf08-61a2-4347-a3c2-d4b79c35e80d",
          "prev": "7ad025bb-f565-4eac-bbef-bf71412fcb62",
          "regions": {
            "75974496-0233-4879-b30e-c223bae9dffa": {
              "attrs": {
                "height": 0.8,
                "width": 0.8,
                "x": 0.1,
                "y": 0.1
              },
              "content": {
                "cell": "74d8012a-f84f-4f54-851c-453202209ae9",
                "part": "whole"
              },
              "id": "75974496-0233-4879-b30e-c223bae9dffa"
            }
          }
        },
        "5cd4433e-960b-4c80-9b4c-37b9775af3bd": {
          "id": "5cd4433e-960b-4c80-9b4c-37b9775af3bd",
          "prev": "74b2ee5c-ef40-4cc6-bf31-ccdef8485cb1",
          "regions": {
            "306fbcd9-33ee-496f-901b-8b858bae1776": {
              "attrs": {
                "height": 0.8,
                "width": 0.8,
                "x": 0.1,
                "y": 0.1
              },
              "content": {
                "cell": "20361d6e-051b-4aa0-8b6f-a613bdc412b2",
                "part": "whole"
              },
              "id": "306fbcd9-33ee-496f-901b-8b858bae1776"
            }
          }
        },
        "5dc053b4-2d39-4a5e-88b5-e365bcb7c45a": {
          "id": "5dc053b4-2d39-4a5e-88b5-e365bcb7c45a",
          "prev": "8f2bd7eb-7d5e-4c7a-947e-1d312b593c37",
          "regions": {
            "61d7f70b-58fe-4d26-882e-2c5f25d12971": {
              "attrs": {
                "height": 0.8,
                "width": 0.8,
                "x": 0.1,
                "y": 0.1
              },
              "content": {
                "cell": "6cd9e275-e3cd-4260-94d5-21c600babd43",
                "part": "whole"
              },
              "id": "61d7f70b-58fe-4d26-882e-2c5f25d12971"
            }
          }
        },
        "5e2c1e71-c497-4282-b5a0-46f6df65b851": {
          "id": "5e2c1e71-c497-4282-b5a0-46f6df65b851",
          "prev": "ef2bd37f-9f50-4ae4-995b-b6a48ba03478",
          "regions": {
            "64c2084d-b23e-44dc-846e-79d14ac9d4ec": {
              "attrs": {
                "height": 0.8,
                "width": 0.8,
                "x": 0.1,
                "y": 0.1
              },
              "content": {
                "cell": "48c1faa6-070a-4773-aee0-088678b2a03b",
                "part": "whole"
              },
              "id": "64c2084d-b23e-44dc-846e-79d14ac9d4ec"
            }
          }
        },
        "5f0677e0-0b1d-464d-81cc-83bae28c320f": {
          "id": "5f0677e0-0b1d-464d-81cc-83bae28c320f",
          "prev": "b46c9e82-9394-44af-b6c1-38908d269b24",
          "regions": {
            "574439e2-e07b-4a46-a0ec-1cfb54b1a6fe": {
              "attrs": {
                "height": 0.8,
                "width": 0.8,
                "x": 0.1,
                "y": 0.1
              },
              "content": {
                "cell": "eef01605-fd28-4148-a4fc-7a79d2a61e72",
                "part": "whole"
              },
              "id": "574439e2-e07b-4a46-a0ec-1cfb54b1a6fe"
            }
          }
        },
        "5f884ccf-9f2e-45f8-830d-e3d20ba10eed": {
          "id": "5f884ccf-9f2e-45f8-830d-e3d20ba10eed",
          "prev": "6c288d5d-48f4-4408-b371-eae1b377f7d1",
          "regions": {
            "d60ea1c8-6e52-4565-bbfc-ff87883ce457": {
              "attrs": {
                "height": 0.8,
                "width": 0.8,
                "x": 0.1,
                "y": 0.1
              },
              "content": {
                "cell": "097f6ca9-503e-4b26-b34e-3a6676fa1e3a",
                "part": "whole"
              },
              "id": "d60ea1c8-6e52-4565-bbfc-ff87883ce457"
            }
          }
        },
        "5f9bd3e4-cd7b-42fd-8950-61c6d6b4d26a": {
          "id": "5f9bd3e4-cd7b-42fd-8950-61c6d6b4d26a",
          "prev": "5cd4433e-960b-4c80-9b4c-37b9775af3bd",
          "regions": {
            "d98d37bc-4d55-4b13-b007-d999a1c4fbee": {
              "attrs": {
                "height": 0.8,
                "width": 0.8,
                "x": 0.1,
                "y": 0.1
              },
              "content": {
                "cell": "c7519fe1-b356-47f4-9a1c-50d5faa29872",
                "part": "whole"
              },
              "id": "d98d37bc-4d55-4b13-b007-d999a1c4fbee"
            }
          }
        },
        "61beee52-8c6a-42e9-8bbb-2666418b0f6c": {
          "id": "61beee52-8c6a-42e9-8bbb-2666418b0f6c",
          "prev": "fe3723b2-8fdb-4762-8bf3-3e1129ecb119",
          "regions": {
            "595cd01d-6a11-46a3-9aae-b6862f8821c4": {
              "attrs": {
                "height": 0.8,
                "width": 0.8,
                "x": 0.1,
                "y": 0.1
              },
              "content": {
                "cell": "978c4423-a8cd-429d-9dc8-7f58675eb897",
                "part": "whole"
              },
              "id": "595cd01d-6a11-46a3-9aae-b6862f8821c4"
            }
          }
        },
        "6266b1d4-acc0-4660-b50f-ff006011f811": {
          "id": "6266b1d4-acc0-4660-b50f-ff006011f811",
          "prev": "6fd5f0c7-a375-48bc-b271-2d6e470edc53",
          "regions": {
            "9f1b84e0-60f4-40e4-8fb4-b78b8df89154": {
              "attrs": {
                "height": 0.8,
                "width": 0.8,
                "x": 0.1,
                "y": 0.1
              },
              "content": {
                "cell": "485d2d73-505d-4159-881d-ba4605fa522c",
                "part": "whole"
              },
              "id": "9f1b84e0-60f4-40e4-8fb4-b78b8df89154"
            }
          }
        },
        "6329d7a8-a15a-4cdc-b7a6-439b0d94df34": {
          "id": "6329d7a8-a15a-4cdc-b7a6-439b0d94df34",
          "prev": "31241d59-4d2b-4d8c-b1c4-ff173a76f09b",
          "regions": {
            "be756510-faf3-4988-b5e9-67a3f8cd8769": {
              "attrs": {
                "height": 0.8,
                "width": 0.8,
                "x": 0.1,
                "y": 0.1
              },
              "content": {
                "cell": "5099136b-5444-4370-8206-cb0d28d86f53",
                "part": "whole"
              },
              "id": "be756510-faf3-4988-b5e9-67a3f8cd8769"
            }
          }
        },
        "6413c58c-df38-4ee6-bdbe-3992be37b0ec": {
          "id": "6413c58c-df38-4ee6-bdbe-3992be37b0ec",
          "prev": "88e81f12-0bbf-49e7-a3ee-f465f42182a7",
          "regions": {
            "b98af62f-eb31-4952-98c3-2fb58b7d5757": {
              "attrs": {
                "height": 0.8,
                "width": 0.8,
                "x": 0.1,
                "y": 0.1
              },
              "content": {
                "cell": "d4dbe31f-173f-4a5f-a2f0-d492d0aafb8b",
                "part": "whole"
              },
              "id": "b98af62f-eb31-4952-98c3-2fb58b7d5757"
            }
          }
        },
        "641a9528-13aa-496a-8905-f38ab32ffdeb": {
          "id": "641a9528-13aa-496a-8905-f38ab32ffdeb",
          "prev": "dbbc6094-5904-4465-be10-5c1c020001d7",
          "regions": {
            "67c5c0af-e6c8-4c84-a32f-7a7f51ee131e": {
              "attrs": {
                "height": 0.8,
                "width": 0.8,
                "x": 0.1,
                "y": 0.1
              },
              "content": {
                "cell": "bb4329ab-48fe-4fbb-af9e-5bad6769b638",
                "part": "whole"
              },
              "id": "67c5c0af-e6c8-4c84-a32f-7a7f51ee131e"
            }
          }
        },
        "66598012-43e1-4322-aa78-04eaf10f26d4": {
          "id": "66598012-43e1-4322-aa78-04eaf10f26d4",
          "prev": "cc0b6ea1-7d13-4abc-92ea-023137b1c71c",
          "regions": {
            "13e65b29-61c0-46ca-8719-2917680286ac": {
              "attrs": {
                "height": 0.8,
                "width": 0.8,
                "x": 0.1,
                "y": 0.1
              },
              "content": {
                "cell": "4ee42201-0e71-4c28-a23b-972c10d038e6",
                "part": "whole"
              },
              "id": "13e65b29-61c0-46ca-8719-2917680286ac"
            }
          }
        },
        "67f512cb-8670-4ed1-9f05-55c8e3a73bfb": {
          "id": "67f512cb-8670-4ed1-9f05-55c8e3a73bfb",
          "prev": "579df7dc-7735-4a4d-89dc-cc2a3135f685",
          "regions": {
            "12bdc292-ba58-4c8d-9cbe-7cb94f2131ee": {
              "attrs": {
                "height": 0.8,
                "width": 0.8,
                "x": 0.1,
                "y": 0.1
              },
              "content": {
                "cell": "834bf76e-fede-4026-9cf7-10fb0fc90653",
                "part": "whole"
              },
              "id": "12bdc292-ba58-4c8d-9cbe-7cb94f2131ee"
            }
          }
        },
        "69d1c469-0ffc-49b9-869e-9bcda2f6e6bc": {
          "id": "69d1c469-0ffc-49b9-869e-9bcda2f6e6bc",
          "prev": "7952e4dd-f83e-4a72-a15d-76d5fb5fd91b",
          "regions": {
            "879c8f99-9368-45e8-9895-b1e65a18d12e": {
              "attrs": {
                "height": 0.8,
                "width": 0.8,
                "x": 0.1,
                "y": 0.1
              },
              "content": {
                "cell": "6ee47037-07b3-40c0-92df-1dd2c54bff8c",
                "part": "whole"
              },
              "id": "879c8f99-9368-45e8-9895-b1e65a18d12e"
            }
          }
        },
        "6c288d5d-48f4-4408-b371-eae1b377f7d1": {
          "id": "6c288d5d-48f4-4408-b371-eae1b377f7d1",
          "prev": "bdef4a38-79c0-42ac-a422-4f227461df53",
          "regions": {
            "c4366163-cb32-467c-b63c-86e732fc5283": {
              "attrs": {
                "height": 0.8,
                "width": 0.8,
                "x": 0.1,
                "y": 0.1
              },
              "content": {
                "cell": "2d743cff-e6cc-431c-8be2-6e4219ffc1ff",
                "part": "whole"
              },
              "id": "c4366163-cb32-467c-b63c-86e732fc5283"
            }
          }
        },
        "6d076b58-e281-466a-aae6-7226b91059a6": {
          "id": "6d076b58-e281-466a-aae6-7226b91059a6",
          "prev": "b4b9fc9f-089c-4488-ab45-462bf0ea0c6d",
          "regions": {
            "5a6aff73-368a-46ea-a94c-6e420a3c95b8": {
              "attrs": {
                "height": 0.8,
                "width": 0.8,
                "x": 0.1,
                "y": 0.1
              },
              "content": {
                "cell": "9ae414f4-0f46-4b2c-91bf-e7159d23b987",
                "part": "whole"
              },
              "id": "5a6aff73-368a-46ea-a94c-6e420a3c95b8"
            }
          }
        },
        "6d5d1656-1968-4167-9afa-7a812e94a97f": {
          "id": "6d5d1656-1968-4167-9afa-7a812e94a97f",
          "prev": "8f73ed00-0895-4a9d-8c32-ae9b2e0603b7",
          "regions": {
            "12ea9d51-9234-40f3-8538-8e91aae3a3d2": {
              "attrs": {
                "height": 0.8,
                "width": 0.8,
                "x": 0.1,
                "y": 0.1
              },
              "content": {
                "cell": "8dc2c056-2b55-43f1-8018-1c52911de122",
                "part": "whole"
              },
              "id": "12ea9d51-9234-40f3-8538-8e91aae3a3d2"
            }
          }
        },
        "6fd5f0c7-a375-48bc-b271-2d6e470edc53": {
          "id": "6fd5f0c7-a375-48bc-b271-2d6e470edc53",
          "prev": "cb6f4ef4-804f-43b5-9e6d-4f36832a342b",
          "regions": {
            "8e00f580-5218-43fd-aef6-af8b7dfef47a": {
              "attrs": {
                "height": 0.8,
                "width": 0.8,
                "x": 0.1,
                "y": 0.1
              },
              "content": {
                "cell": "c4594c5b-5954-4231-ae79-1106268276bf",
                "part": "whole"
              },
              "id": "8e00f580-5218-43fd-aef6-af8b7dfef47a"
            }
          }
        },
        "73ffa001-ed50-456e-ac41-1b887ec044f7": {
          "id": "73ffa001-ed50-456e-ac41-1b887ec044f7",
          "prev": "7487773e-a161-46d7-b663-76390b96cbf0",
          "regions": {
            "df97215a-e8ee-43c1-8b8a-16943670f332": {
              "attrs": {
                "height": 0.8,
                "width": 0.8,
                "x": 0.1,
                "y": 0.1
              },
              "content": {
                "cell": "b4d206b8-8c06-4610-a3ea-e8527bcd61f8",
                "part": "whole"
              },
              "id": "df97215a-e8ee-43c1-8b8a-16943670f332"
            }
          }
        },
        "7487773e-a161-46d7-b663-76390b96cbf0": {
          "id": "7487773e-a161-46d7-b663-76390b96cbf0",
          "prev": "4e4c7c53-ca4b-441e-a122-d03a50c6699f",
          "regions": {
            "411805b2-e7ef-4b85-aba8-630111188bc4": {
              "attrs": {
                "height": 0.8,
                "width": 0.8,
                "x": 0.1,
                "y": 0.1
              },
              "content": {
                "cell": "6f62c09d-becd-43ef-b5f5-2fc5c936b275",
                "part": "whole"
              },
              "id": "411805b2-e7ef-4b85-aba8-630111188bc4"
            }
          }
        },
        "74b2ee5c-ef40-4cc6-bf31-ccdef8485cb1": {
          "id": "74b2ee5c-ef40-4cc6-bf31-ccdef8485cb1",
          "prev": "583e8082-26d4-4ead-96de-411cbee0d2c8",
          "regions": {
            "c2720025-d622-4226-84cc-2e03c31a3a69": {
              "attrs": {
                "height": 0.8,
                "width": 0.8,
                "x": 0.1,
                "y": 0.1
              },
              "content": {
                "cell": "e7a6798e-fb56-4e24-b057-12ad9ade24ab",
                "part": "whole"
              },
              "id": "c2720025-d622-4226-84cc-2e03c31a3a69"
            }
          }
        },
        "76bb3d5d-f5db-491e-809e-cf33299a6253": {
          "id": "76bb3d5d-f5db-491e-809e-cf33299a6253",
          "prev": "5f884ccf-9f2e-45f8-830d-e3d20ba10eed",
          "regions": {
            "b49413bc-d567-470d-85e5-b341283e305b": {
              "attrs": {
                "height": 0.8,
                "width": 0.8,
                "x": 0.1,
                "y": 0.1
              },
              "content": {
                "cell": "87d32903-1775-4215-97bb-e3baac89a0ad",
                "part": "whole"
              },
              "id": "b49413bc-d567-470d-85e5-b341283e305b"
            }
          }
        },
        "7952e4dd-f83e-4a72-a15d-76d5fb5fd91b": {
          "id": "7952e4dd-f83e-4a72-a15d-76d5fb5fd91b",
          "prev": "b4aa6338-5c44-415a-a8f6-eb93b4fa3208",
          "regions": {
            "9129be05-ae46-432d-a4aa-f71b326cda0c": {
              "attrs": {
                "height": 0.8,
                "width": 0.8,
                "x": 0.1,
                "y": 0.1
              },
              "content": {
                "cell": "57f5fbe3-0b3b-4d5d-a6a4-e7e43fd7aa2e",
                "part": "whole"
              },
              "id": "9129be05-ae46-432d-a4aa-f71b326cda0c"
            }
          }
        },
        "7ad025bb-f565-4eac-bbef-bf71412fcb62": {
          "id": "7ad025bb-f565-4eac-bbef-bf71412fcb62",
          "prev": "ea25c8ec-0807-4b9a-9f85-a2f9a71aeb98",
          "regions": {
            "52ba6c84-0ca3-4140-bf01-e53a92c60b4f": {
              "attrs": {
                "height": 0.8,
                "width": 0.8,
                "x": 0.1,
                "y": 0.1
              },
              "content": {
                "cell": "1f771d3d-0443-4164-8e15-3ba88264b597",
                "part": "whole"
              },
              "id": "52ba6c84-0ca3-4140-bf01-e53a92c60b4f"
            }
          }
        },
        "7e0886ef-5a85-43e4-b124-85e297368250": {
          "id": "7e0886ef-5a85-43e4-b124-85e297368250",
          "prev": "444169a5-a623-49e0-8d1e-854286bd9f30",
          "regions": {
            "06588f6e-9808-45ae-9748-54a904fe1a48": {
              "attrs": {
                "height": 0.8,
                "width": 0.8,
                "x": 0.1,
                "y": 0.1
              },
              "content": {
                "cell": "9ae6f17b-c0c6-48dd-9414-935e62ac3154",
                "part": "whole"
              },
              "id": "06588f6e-9808-45ae-9748-54a904fe1a48"
            }
          }
        },
        "81e74e04-170d-4db4-b990-5340d796a322": {
          "id": "81e74e04-170d-4db4-b990-5340d796a322",
          "prev": "17601d51-6ebf-4a94-bee0-979d6ef52b3a",
          "regions": {
            "492dbac2-4607-4096-8421-7f1edebef720": {
              "attrs": {
                "height": 0.8,
                "width": 0.8,
                "x": 0.1,
                "y": 0.1
              },
              "content": {
                "cell": "1eba000b-cbc2-4515-8b80-01b7ef897b0b",
                "part": "whole"
              },
              "id": "492dbac2-4607-4096-8421-7f1edebef720"
            }
          }
        },
        "82839564-308f-4739-b5ea-b4d0fb2d6eb2": {
          "id": "82839564-308f-4739-b5ea-b4d0fb2d6eb2",
          "prev": "9bba5125-8462-4fe0-b4ec-2ed0f984d29f",
          "regions": {
            "f8c31681-7e47-4e46-ac3c-1a2d79ce619a": {
              "attrs": {
                "height": 0.8,
                "width": 0.8,
                "x": 0.1,
                "y": 0.1
              },
              "content": {
                "cell": "d3936d17-6897-44c9-a7a7-d4295ffa4346",
                "part": "whole"
              },
              "id": "f8c31681-7e47-4e46-ac3c-1a2d79ce619a"
            }
          }
        },
        "829029d0-bcba-497f-ae9a-16747aaec51c": {
          "id": "829029d0-bcba-497f-ae9a-16747aaec51c",
          "prev": "eb4e04b1-ade7-48cd-9be3-94dd2554629a",
          "regions": {
            "eb941513-2e1e-41b5-a6a9-dc5113fb50b9": {
              "attrs": {
                "height": 0.8,
                "width": 0.8,
                "x": 0.1,
                "y": 0.1
              },
              "content": {
                "cell": "f73c432d-9285-4706-a781-c1a4826513d5",
                "part": "whole"
              },
              "id": "eb941513-2e1e-41b5-a6a9-dc5113fb50b9"
            }
          }
        },
        "82d7e578-2d52-4c6e-b8e0-b946880a7965": {
          "id": "82d7e578-2d52-4c6e-b8e0-b946880a7965",
          "prev": "54b10fd1-b6aa-4966-b426-21dafa05ec5b",
          "regions": {
            "b58650e6-13dd-4be3-b703-9ec070e31346": {
              "attrs": {
                "height": 0.8,
                "width": 0.8,
                "x": 0.1,
                "y": 0.1
              },
              "content": {
                "cell": "6fc3d2dc-19e7-4409-84e4-6c04c71c41b5",
                "part": "whole"
              },
              "id": "b58650e6-13dd-4be3-b703-9ec070e31346"
            }
          }
        },
        "88e81f12-0bbf-49e7-a3ee-f465f42182a7": {
          "id": "88e81f12-0bbf-49e7-a3ee-f465f42182a7",
          "prev": "010f9cb8-327e-47bc-a936-290dd91f9f6d",
          "regions": {
            "b6f5b0bc-09b2-415b-8a93-0f6dcbbf9919": {
              "attrs": {
                "height": 0.8,
                "width": 0.8,
                "x": 0.1,
                "y": 0.1
              },
              "content": {
                "cell": "36083dc2-a654-46ac-bfc1-850444e8d55d",
                "part": "whole"
              },
              "id": "b6f5b0bc-09b2-415b-8a93-0f6dcbbf9919"
            }
          }
        },
        "8a15c1a8-6582-486c-89b2-ac17f3c7053e": {
          "id": "8a15c1a8-6582-486c-89b2-ac17f3c7053e",
          "prev": "17c6ab49-7943-463f-9b1a-256c49e2f1bf",
          "regions": {
            "dedd1749-74cf-4c48-9799-b7a399f17628": {
              "attrs": {
                "height": 0.8,
                "width": 0.8,
                "x": 0.1,
                "y": 0.1
              },
              "content": {
                "cell": "a0a88e92-528c-4b7e-8df9-5176f2ea681e",
                "part": "whole"
              },
              "id": "dedd1749-74cf-4c48-9799-b7a399f17628"
            }
          }
        },
        "8aa13ef5-69ec-42fd-9c7b-09b4e60474b6": {
          "id": "8aa13ef5-69ec-42fd-9c7b-09b4e60474b6",
          "prev": "4b0cc1dc-ab07-4da1-89b9-3cca36bf9515",
          "regions": {
            "dc248edb-55af-488b-8864-1d376560667d": {
              "attrs": {
                "height": 0.8,
                "width": 0.8,
                "x": 0.1,
                "y": 0.1
              },
              "content": {
                "cell": "594266b9-de57-4deb-9395-757750f612c8",
                "part": "whole"
              },
              "id": "dc248edb-55af-488b-8864-1d376560667d"
            }
          }
        },
        "8b724dc8-ef6b-48a7-9259-e4ef0a33d0e5": {
          "id": "8b724dc8-ef6b-48a7-9259-e4ef0a33d0e5",
          "prev": "da36db0c-8ca9-4902-8c25-39c58714199d",
          "regions": {
            "a96ad967-f3dc-4621-bcb3-c479ac086aad": {
              "attrs": {
                "height": 0.8,
                "width": 0.8,
                "x": 0.1,
                "y": 0.1
              },
              "content": {
                "cell": "f530fd8b-4d2b-4e70-add6-7dc589f58a82",
                "part": "whole"
              },
              "id": "a96ad967-f3dc-4621-bcb3-c479ac086aad"
            }
          }
        },
        "8bdb30da-de1a-4a63-a859-0aa27b9ebd71": {
          "id": "8bdb30da-de1a-4a63-a859-0aa27b9ebd71",
          "prev": "5f9bd3e4-cd7b-42fd-8950-61c6d6b4d26a",
          "regions": {
            "494a2628-5f39-42c4-8bf0-18f33657d49a": {
              "attrs": {
                "height": 0.8,
                "width": 0.8,
                "x": 0.1,
                "y": 0.1
              },
              "content": {
                "cell": "570212b2-2d1b-4740-812a-d12e9f70afe8",
                "part": "whole"
              },
              "id": "494a2628-5f39-42c4-8bf0-18f33657d49a"
            }
          }
        },
        "8c25f72b-2d5a-4794-bab0-bed80a4cf6b5": {
          "id": "8c25f72b-2d5a-4794-bab0-bed80a4cf6b5",
          "prev": "4c9f2465-32fe-4db1-93cb-ecf4dfdc7475",
          "regions": {
            "3f2f01f8-0ebe-4e90-8670-49ffba20c1e4": {
              "attrs": {
                "height": 0.8,
                "width": 0.8,
                "x": 0.1,
                "y": 0.1
              },
              "content": {
                "cell": "ddca807e-be71-4be2-b1ee-144bcc5b6625",
                "part": "whole"
              },
              "id": "3f2f01f8-0ebe-4e90-8670-49ffba20c1e4"
            }
          }
        },
        "8f2bd7eb-7d5e-4c7a-947e-1d312b593c37": {
          "id": "8f2bd7eb-7d5e-4c7a-947e-1d312b593c37",
          "prev": "269c65a7-d812-42f2-95dd-6596fc60c5b0",
          "regions": {
            "5b4cfbd5-8bb1-4951-a111-6026d1511969": {
              "attrs": {
                "height": 0.8,
                "width": 0.8,
                "x": 0.1,
                "y": 0.1
              },
              "content": {
                "cell": "196f27c1-4847-4e36-a670-8b619e24f4b0",
                "part": "whole"
              },
              "id": "5b4cfbd5-8bb1-4951-a111-6026d1511969"
            }
          }
        },
        "8f73ed00-0895-4a9d-8c32-ae9b2e0603b7": {
          "id": "8f73ed00-0895-4a9d-8c32-ae9b2e0603b7",
          "prev": "b2c557d4-1cd4-4dd1-8e86-db9db1c3f6e9",
          "regions": {
            "c2af9c53-204b-47dc-bec4-7c9a00a01c8c": {
              "attrs": {
                "height": 0.8,
                "width": 0.8,
                "x": 0.1,
                "y": 0.1
              },
              "content": {
                "cell": "a01ad7d0-be59-4e03-b1ee-09ad68292ddd",
                "part": "whole"
              },
              "id": "c2af9c53-204b-47dc-bec4-7c9a00a01c8c"
            }
          }
        },
        "912b3bcc-5c17-44ee-81b0-d89e51cbbaad": {
          "id": "912b3bcc-5c17-44ee-81b0-d89e51cbbaad",
          "prev": "a418da60-0082-4b1f-b02f-8f38c136188e",
          "regions": {
            "2fa15aa9-ba12-4c86-8d52-042190906ce6": {
              "attrs": {
                "height": 0.8,
                "width": 0.8,
                "x": 0.1,
                "y": 0.1
              },
              "content": {
                "cell": "5b20e033-474b-4596-948b-33695bbb0d71",
                "part": "whole"
              },
              "id": "2fa15aa9-ba12-4c86-8d52-042190906ce6"
            }
          }
        },
        "929062eb-3031-4e50-aa44-a116bff3f767": {
          "id": "929062eb-3031-4e50-aa44-a116bff3f767",
          "prev": "ca6316b6-afe2-4402-8b66-a30a517dad5e",
          "regions": {
            "9307a639-c52d-4000-a229-ba2c9ea135bb": {
              "attrs": {
                "height": 0.8,
                "width": 0.8,
                "x": 0.1,
                "y": 0.1
              },
              "content": {
                "cell": "1dce4a4c-f980-4c2d-96af-af96e923e1b1",
                "part": "whole"
              },
              "id": "9307a639-c52d-4000-a229-ba2c9ea135bb"
            }
          }
        },
        "9372039c-6d65-4ec8-87ee-307f556fe135": {
          "id": "9372039c-6d65-4ec8-87ee-307f556fe135",
          "prev": "3fbe4dab-436c-4a00-9dcb-df6d72e80a43",
          "regions": {
            "f27ec3fe-0c38-451c-a880-d9d7faecb6b1": {
              "attrs": {
                "height": 0.8,
                "width": 0.8,
                "x": 0.1,
                "y": 0.1
              },
              "content": {
                "cell": "ecdcf647-8061-46a8-aa40-570db88db525",
                "part": "whole"
              },
              "id": "f27ec3fe-0c38-451c-a880-d9d7faecb6b1"
            }
          }
        },
        "9637d5e1-44fd-4873-bb94-41d1729e51d3": {
          "id": "9637d5e1-44fd-4873-bb94-41d1729e51d3",
          "prev": "61beee52-8c6a-42e9-8bbb-2666418b0f6c",
          "regions": {
            "4bfe55ae-0915-43a2-b2a5-761658cc8f62": {
              "attrs": {
                "height": 0.8,
                "width": 0.8,
                "x": 0.1,
                "y": 0.1
              },
              "content": {
                "cell": "f4c3caf9-7708-4475-9318-14a1ac97d378",
                "part": "whole"
              },
              "id": "4bfe55ae-0915-43a2-b2a5-761658cc8f62"
            }
          }
        },
        "9971435a-8c32-4719-a57f-794ad2e1a42c": {
          "id": "9971435a-8c32-4719-a57f-794ad2e1a42c",
          "prev": "3814c857-5e13-41bf-8196-ced9ee29297e",
          "regions": {
            "440fd18d-d952-4f15-a3d8-269daa53ef6d": {
              "attrs": {
                "height": 0.8,
                "width": 0.8,
                "x": 0.1,
                "y": 0.1
              },
              "content": {
                "cell": "abd54cf8-7beb-416b-b7ca-68f1869b56a6",
                "part": "whole"
              },
              "id": "440fd18d-d952-4f15-a3d8-269daa53ef6d"
            }
          }
        },
        "9b0ccf08-f3dd-4a58-8bd7-9de3383c6e4c": {
          "id": "9b0ccf08-f3dd-4a58-8bd7-9de3383c6e4c",
          "prev": "bfe0f269-d5b2-4ccc-a927-a0c0cb6e6750",
          "regions": {
            "2ef93a4c-473f-4b18-96b9-c682deea0bcf": {
              "attrs": {
                "height": 0.8,
                "width": 0.8,
                "x": 0.1,
                "y": 0.1
              },
              "content": {
                "cell": "ba4c3b06-9dac-485c-b8d7-07abad44d838",
                "part": "whole"
              },
              "id": "2ef93a4c-473f-4b18-96b9-c682deea0bcf"
            }
          }
        },
        "9b1d7466-a095-484f-9ac0-a28473d70178": {
          "id": "9b1d7466-a095-484f-9ac0-a28473d70178",
          "prev": "3550fd0b-903b-4df8-ba6e-406c80c10e2e",
          "regions": {
            "ae587d4f-ac21-4166-9a84-516c1eabe43e": {
              "attrs": {
                "height": 0.8,
                "width": 0.8,
                "x": 0.1,
                "y": 0.1
              },
              "content": {
                "cell": "f82b1721-19a5-4540-b71a-c8f1ecbc7d84",
                "part": "whole"
              },
              "id": "ae587d4f-ac21-4166-9a84-516c1eabe43e"
            }
          }
        },
        "9bba5125-8462-4fe0-b4ec-2ed0f984d29f": {
          "id": "9bba5125-8462-4fe0-b4ec-2ed0f984d29f",
          "prev": "d11e4c4f-73a3-4213-80dc-43d0e9ba26fe",
          "regions": {
            "e11689ef-34b9-4493-9323-d0b1c86427c3": {
              "attrs": {
                "height": 0.8,
                "width": 0.8,
                "x": 0.1,
                "y": 0.1
              },
              "content": {
                "cell": "f7c2fe3d-01f6-4c14-8847-85f031d0ee52",
                "part": "whole"
              },
              "id": "e11689ef-34b9-4493-9323-d0b1c86427c3"
            }
          }
        },
        "9c6b5a32-b50a-4931-95a4-aeeed52961e6": {
          "id": "9c6b5a32-b50a-4931-95a4-aeeed52961e6",
          "prev": "5bb0cf08-61a2-4347-a3c2-d4b79c35e80d",
          "regions": {
            "4e0c4485-c787-4414-89b6-adc3e922e794": {
              "attrs": {
                "height": 0.8,
                "width": 0.8,
                "x": 0.1,
                "y": 0.1
              },
              "content": {
                "cell": "1e5c2089-2f53-4c18-b028-8d7c2706108f",
                "part": "whole"
              },
              "id": "4e0c4485-c787-4414-89b6-adc3e922e794"
            }
          }
        },
        "a418da60-0082-4b1f-b02f-8f38c136188e": {
          "id": "a418da60-0082-4b1f-b02f-8f38c136188e",
          "prev": "45a08520-ce3e-4eef-8a24-8395b5427784",
          "regions": {
            "cc6ad471-6018-4b18-8d69-c47d25b88a84": {
              "attrs": {
                "height": 0.8,
                "width": 0.8,
                "x": 0.1,
                "y": 0.1
              },
              "content": {
                "cell": "4134ec96-e30f-464f-bbc0-6de6f26cea14",
                "part": "whole"
              },
              "id": "cc6ad471-6018-4b18-8d69-c47d25b88a84"
            }
          }
        },
        "a432ba80-7ae1-45c2-a632-0b5c119045bf": {
          "id": "a432ba80-7ae1-45c2-a632-0b5c119045bf",
          "prev": "fcb579de-03d0-4cfc-884a-f31f316804b7",
          "regions": {
            "f528590f-5917-4e3f-9223-347f265518a8": {
              "attrs": {
                "height": 0.8,
                "width": 0.8,
                "x": 0.1,
                "y": 0.1
              },
              "content": {
                "cell": "d175a69b-69fd-4f1c-a86b-a8e8f0542249",
                "part": "whole"
              },
              "id": "f528590f-5917-4e3f-9223-347f265518a8"
            }
          }
        },
        "a6af18f8-3c70-4ca7-9b8d-3f48bdeeaf8b": {
          "id": "a6af18f8-3c70-4ca7-9b8d-3f48bdeeaf8b",
          "prev": "f75d8a62-6dc7-4ded-a0d0-caa2c4c4b754",
          "regions": {
            "8294eed0-f588-4dd2-9e16-900ec55801f0": {
              "attrs": {
                "height": 0.8,
                "width": 0.8,
                "x": 0.1,
                "y": 0.1
              },
              "content": {
                "cell": "4fd24a11-6d6b-4493-bda0-6359ced0166d",
                "part": "whole"
              },
              "id": "8294eed0-f588-4dd2-9e16-900ec55801f0"
            }
          }
        },
        "a7301d9c-3a0b-4d47-83fd-1475ceee282c": {
          "id": "a7301d9c-3a0b-4d47-83fd-1475ceee282c",
          "prev": "39605fd1-3b82-4319-b364-a6261355ad78",
          "regions": {
            "b9d6dd5f-ae57-4f57-abeb-83719dfc07aa": {
              "attrs": {
                "height": 0.8,
                "width": 0.8,
                "x": 0.1,
                "y": 0.1
              },
              "content": {
                "cell": "9a6c3b7b-069a-4f2d-aae9-a600957df8c9",
                "part": "whole"
              },
              "id": "b9d6dd5f-ae57-4f57-abeb-83719dfc07aa"
            }
          }
        },
        "a7e4b0fb-c09a-4028-aa44-976970864ef5": {
          "id": "a7e4b0fb-c09a-4028-aa44-976970864ef5",
          "prev": "e80f48ac-72a4-401b-81d9-c5cc27b39ec7",
          "regions": {
            "3c962420-8276-4114-be55-dd3843ae6da8": {
              "attrs": {
                "height": 0.8,
                "width": 0.8,
                "x": 0.1,
                "y": 0.1
              },
              "content": {
                "cell": "74f2a6d4-299c-48ea-ace6-869f1ac66c95",
                "part": "whole"
              },
              "id": "3c962420-8276-4114-be55-dd3843ae6da8"
            }
          }
        },
        "a83adb15-8348-499b-9271-8c27deb39e83": {
          "id": "a83adb15-8348-499b-9271-8c27deb39e83",
          "prev": "47efde76-ee97-432a-8631-30a8bfe03062",
          "regions": {
            "9a8e583d-dd74-4297-b1cc-9bf56eca3bc1": {
              "attrs": {
                "height": 0.8,
                "width": 0.8,
                "x": 0.1,
                "y": 0.1
              },
              "content": {
                "cell": "3daeffc0-c91e-49a3-bec6-9acc16e4ffe3",
                "part": "whole"
              },
              "id": "9a8e583d-dd74-4297-b1cc-9bf56eca3bc1"
            }
          }
        },
        "a97ff32a-aca9-4e03-b231-e50eb5310f7f": {
          "id": "a97ff32a-aca9-4e03-b231-e50eb5310f7f",
          "prev": "17ee9e09-1e74-42f9-9a51-e4b5dee31b5f",
          "regions": {
            "e9bbd5f6-4efb-4975-8386-273b25a438c7": {
              "attrs": {
                "height": 0.8,
                "width": 0.8,
                "x": 0.1,
                "y": 0.1
              },
              "content": {
                "cell": "17bb4e3f-6ddd-4f61-ac3f-2d4650e6a1d5",
                "part": "whole"
              },
              "id": "e9bbd5f6-4efb-4975-8386-273b25a438c7"
            }
          }
        },
        "a9a2d58f-e961-4b95-beea-0d660764151d": {
          "id": "a9a2d58f-e961-4b95-beea-0d660764151d",
          "prev": "584353f1-904d-4bff-b041-2623c8279ad3",
          "regions": {
            "4ef750db-12ea-4f2a-9a52-6f62b568fc05": {
              "attrs": {
                "height": 0.8,
                "width": 0.8,
                "x": 0.1,
                "y": 0.1
              },
              "content": {
                "cell": "3d099b8f-7132-44b6-8f8e-fdbd1c95c9fc",
                "part": "whole"
              },
              "id": "4ef750db-12ea-4f2a-9a52-6f62b568fc05"
            }
          }
        },
        "aca0dee2-6aa7-4347-b44c-69f5135586a8": {
          "id": "aca0dee2-6aa7-4347-b44c-69f5135586a8",
          "prev": "c6c91e5e-af38-4838-8536-ad4e039f1266",
          "regions": {
            "1053300d-efe7-4e39-ac0c-9a5e7aa2290a": {
              "attrs": {
                "height": 0.8,
                "width": 0.8,
                "x": 0.1,
                "y": 0.1
              },
              "content": {
                "cell": "b5c22a54-cd38-4b33-b5d6-508b01f450be",
                "part": "whole"
              },
              "id": "1053300d-efe7-4e39-ac0c-9a5e7aa2290a"
            }
          }
        },
        "adc727c3-fe16-4ec2-a47f-1b384fb6caee": {
          "id": "adc727c3-fe16-4ec2-a47f-1b384fb6caee",
          "prev": "24977802-140d-462c-af0c-7bd9a3667431",
          "regions": {
            "91b65a60-dedb-4858-a8f9-d35f48f4d6ca": {
              "attrs": {
                "height": 0.8,
                "width": 0.8,
                "x": 0.1,
                "y": 0.1
              },
              "content": {
                "cell": "bf47e898-a656-4020-abb9-179299e26446",
                "part": "whole"
              },
              "id": "91b65a60-dedb-4858-a8f9-d35f48f4d6ca"
            }
          }
        },
        "aeaba77b-d71d-4929-a582-ddfc326f912b": {
          "id": "aeaba77b-d71d-4929-a582-ddfc326f912b",
          "prev": "69d1c469-0ffc-49b9-869e-9bcda2f6e6bc",
          "regions": {
            "b71cb717-52f7-4bf8-8108-d4949f8c94fb": {
              "attrs": {
                "height": 0.8,
                "width": 0.8,
                "x": 0.1,
                "y": 0.1
              },
              "content": {
                "cell": "f1ffafbb-0ddd-4bdd-bc61-3c774b35436c",
                "part": "whole"
              },
              "id": "b71cb717-52f7-4bf8-8108-d4949f8c94fb"
            }
          }
        },
        "af117963-3289-4298-858d-02a44c4d6559": {
          "id": "af117963-3289-4298-858d-02a44c4d6559",
          "prev": "6266b1d4-acc0-4660-b50f-ff006011f811",
          "regions": {
            "33f18bd4-dc52-4c0d-b2e0-dcc86f047644": {
              "attrs": {
                "height": 0.8,
                "width": 0.8,
                "x": 0.1,
                "y": 0.1
              },
              "content": {
                "cell": "ab66d9fe-1f27-4df8-ae30-9de1e78f75c4",
                "part": "whole"
              },
              "id": "33f18bd4-dc52-4c0d-b2e0-dcc86f047644"
            }
          }
        },
        "afcbd269-c783-4bf8-9882-976bd888fdde": {
          "id": "afcbd269-c783-4bf8-9882-976bd888fdde",
          "prev": "1cad1823-7036-4589-9479-c30ab9c71a46",
          "regions": {
            "861b2464-d03a-4061-b8de-66cb9ec22a4d": {
              "attrs": {
                "height": 0.8,
                "width": 0.8,
                "x": 0.1,
                "y": 0.1
              },
              "content": {
                "cell": "fb9960a1-bb4b-4ae1-82b6-1b74bde56ffb",
                "part": "whole"
              },
              "id": "861b2464-d03a-4061-b8de-66cb9ec22a4d"
            }
          }
        },
        "b027d93f-c7c6-415e-a05f-3ba51a217b85": {
          "id": "b027d93f-c7c6-415e-a05f-3ba51a217b85",
          "prev": "e9975ae1-e01b-476f-a4ed-6fdc70ab3b57",
          "regions": {
            "ed8055de-c3fc-4aab-ab1f-06b576c44ced": {
              "attrs": {
                "height": 0.8,
                "width": 0.8,
                "x": 0.1,
                "y": 0.1
              },
              "content": {
                "cell": "9e26b847-5fe6-4299-ad8b-c0decc0d353d",
                "part": "whole"
              },
              "id": "ed8055de-c3fc-4aab-ab1f-06b576c44ced"
            }
          }
        },
        "b1abd270-9698-4c47-ac1d-2710f78a1876": {
          "id": "b1abd270-9698-4c47-ac1d-2710f78a1876",
          "prev": "5843f9a6-e6e0-4013-b1e6-d0dd78f3fbb2",
          "regions": {
            "5258a2ed-ce97-429e-a49a-08198dbca0ae": {
              "attrs": {
                "height": 0.8,
                "width": 0.8,
                "x": 0.1,
                "y": 0.1
              },
              "content": {
                "cell": "6c69b1fc-b4dd-4e60-a2d0-9860cc5683cd",
                "part": "whole"
              },
              "id": "5258a2ed-ce97-429e-a49a-08198dbca0ae"
            }
          }
        },
        "b282176d-6e90-4c06-ad61-ddfd41471027": {
          "id": "b282176d-6e90-4c06-ad61-ddfd41471027",
          "prev": "18341619-66ea-46da-bf20-3629e0b95208",
          "regions": {
            "e000ab6e-2c26-456d-9e61-7c9f0a747db9": {
              "attrs": {
                "height": 0.8,
                "width": 0.8,
                "x": 0.1,
                "y": 0.1
              },
              "content": {
                "cell": "0c2ad7f2-cca9-4dc1-9151-e98a8fa9db6b",
                "part": "whole"
              },
              "id": "e000ab6e-2c26-456d-9e61-7c9f0a747db9"
            }
          }
        },
        "b2c557d4-1cd4-4dd1-8e86-db9db1c3f6e9": {
          "id": "b2c557d4-1cd4-4dd1-8e86-db9db1c3f6e9",
          "prev": "bb826d98-c3a4-4536-abb6-6b1230fcdaf0",
          "regions": {
            "2a34c6ce-5fcf-4471-b4e9-000ffe3b3438": {
              "attrs": {
                "height": 0.8,
                "width": 0.8,
                "x": 0.1,
                "y": 0.1
              },
              "content": {
                "cell": "a3b4da3b-a196-4aae-813a-dd6695c806e4",
                "part": "whole"
              },
              "id": "2a34c6ce-5fcf-4471-b4e9-000ffe3b3438"
            }
          }
        },
        "b46c9e82-9394-44af-b6c1-38908d269b24": {
          "id": "b46c9e82-9394-44af-b6c1-38908d269b24",
          "prev": "9372039c-6d65-4ec8-87ee-307f556fe135",
          "regions": {
            "374f21a5-f5e7-4cc8-91be-fb8b17917071": {
              "attrs": {
                "height": 0.8,
                "width": 0.8,
                "x": 0.1,
                "y": 0.1
              },
              "content": {
                "cell": "ff6e394f-8024-4e23-b37a-993c9098e032",
                "part": "whole"
              },
              "id": "374f21a5-f5e7-4cc8-91be-fb8b17917071"
            }
          }
        },
        "b4aa6338-5c44-415a-a8f6-eb93b4fa3208": {
          "id": "b4aa6338-5c44-415a-a8f6-eb93b4fa3208",
          "prev": "81e74e04-170d-4db4-b990-5340d796a322",
          "regions": {
            "b04721e7-5a48-4594-b812-860cb10ecb01": {
              "attrs": {
                "height": 0.8,
                "width": 0.8,
                "x": 0.1,
                "y": 0.1
              },
              "content": {
                "cell": "5df6494d-84e7-4969-97f6-c1e2e1b047c6",
                "part": "whole"
              },
              "id": "b04721e7-5a48-4594-b812-860cb10ecb01"
            }
          }
        },
        "b4b9fc9f-089c-4488-ab45-462bf0ea0c6d": {
          "id": "b4b9fc9f-089c-4488-ab45-462bf0ea0c6d",
          "prev": "213586a9-118b-4bef-970a-df7cb00ca5b4",
          "regions": {
            "57f0ebc9-e235-4c80-9ae5-4c5aa41a8eff": {
              "attrs": {
                "height": 0.8,
                "width": 0.8,
                "x": 0.1,
                "y": 0.1
              },
              "content": {
                "cell": "3e8a4724-a524-4e7d-9ad1-907d379e7e8f",
                "part": "whole"
              },
              "id": "57f0ebc9-e235-4c80-9ae5-4c5aa41a8eff"
            }
          }
        },
        "b75fc9ee-29f7-4bf2-802f-a787b7828958": {
          "id": "b75fc9ee-29f7-4bf2-802f-a787b7828958",
          "prev": "8aa13ef5-69ec-42fd-9c7b-09b4e60474b6",
          "regions": {
            "9e0b2397-8519-4493-8fdb-365b4e0b53be": {
              "attrs": {
                "height": 0.8,
                "width": 0.8,
                "x": 0.1,
                "y": 0.1
              },
              "content": {
                "cell": "fc75f47f-3e35-47ad-8e57-e299b7aba6cd",
                "part": "whole"
              },
              "id": "9e0b2397-8519-4493-8fdb-365b4e0b53be"
            }
          }
        },
        "ba0d726a-88e0-4700-8189-9ad077bc4b94": {
          "id": "ba0d726a-88e0-4700-8189-9ad077bc4b94",
          "prev": "c55b3f91-e822-4abe-998e-be49cdb13a18",
          "regions": {
            "4dabb76d-0b16-4f42-b1c1-ab68685531c1": {
              "attrs": {
                "height": 0.8,
                "width": 0.8,
                "x": 0.1,
                "y": 0.1
              },
              "content": {
                "cell": "219a5bde-d5ed-4228-a8cb-b42373e016e1",
                "part": "whole"
              },
              "id": "4dabb76d-0b16-4f42-b1c1-ab68685531c1"
            }
          }
        },
        "bb826d98-c3a4-4536-abb6-6b1230fcdaf0": {
          "id": "bb826d98-c3a4-4536-abb6-6b1230fcdaf0",
          "prev": "5e2c1e71-c497-4282-b5a0-46f6df65b851",
          "regions": {
            "2a2358ad-e7d2-4991-9f42-23cec2e7f247": {
              "attrs": {
                "height": 0.8,
                "width": 0.8,
                "x": 0.1,
                "y": 0.1
              },
              "content": {
                "cell": "8da284a1-ec42-480b-83ad-329aa95255d6",
                "part": "whole"
              },
              "id": "2a2358ad-e7d2-4991-9f42-23cec2e7f247"
            }
          }
        },
        "bdef4a38-79c0-42ac-a422-4f227461df53": {
          "id": "bdef4a38-79c0-42ac-a422-4f227461df53",
          "prev": "f38e8689-f667-4147-b23c-52ac0068746e",
          "regions": {
            "eaec9d4b-bf65-4bd4-b101-f755d9c1cff8": {
              "attrs": {
                "height": 0.8,
                "width": 0.8,
                "x": 0.1,
                "y": 0.1
              },
              "content": {
                "cell": "49e5666f-6fd5-46ea-924a-fb49463a79ca",
                "part": "whole"
              },
              "id": "eaec9d4b-bf65-4bd4-b101-f755d9c1cff8"
            }
          }
        },
        "bf5e5c7b-cc85-43a2-ad51-6d729a2ba7bc": {
          "id": "bf5e5c7b-cc85-43a2-ad51-6d729a2ba7bc",
          "prev": "497f88d5-18bd-4f4f-a625-d96a954b9bd0",
          "regions": {
            "8f231c68-5b05-4865-9382-a5879c425ff3": {
              "attrs": {
                "height": 0.8,
                "width": 0.8,
                "x": 0.1,
                "y": 0.1
              },
              "content": {
                "cell": "7736bbee-2041-4d15-bd1d-b3ff45dc4800",
                "part": "whole"
              },
              "id": "8f231c68-5b05-4865-9382-a5879c425ff3"
            }
          }
        },
        "bfe0f269-d5b2-4ccc-a927-a0c0cb6e6750": {
          "id": "bfe0f269-d5b2-4ccc-a927-a0c0cb6e6750",
          "prev": "5dc053b4-2d39-4a5e-88b5-e365bcb7c45a",
          "regions": {
            "9a91273a-8461-4a03-8f67-cc0882b762af": {
              "attrs": {
                "height": 0.8,
                "width": 0.8,
                "x": 0.1,
                "y": 0.1
              },
              "content": {
                "cell": "04f8c8d7-2c87-4f8a-a195-5ae014c52b86",
                "part": "whole"
              },
              "id": "9a91273a-8461-4a03-8f67-cc0882b762af"
            }
          }
        },
        "c069a6ab-ff0a-465c-a285-aa8c4316f7bf": {
          "id": "c069a6ab-ff0a-465c-a285-aa8c4316f7bf",
          "prev": "6d5d1656-1968-4167-9afa-7a812e94a97f",
          "regions": {
            "1731294a-88fb-47c4-857a-b982ea5bdf27": {
              "attrs": {
                "height": 0.8,
                "width": 0.8,
                "x": 0.1,
                "y": 0.1
              },
              "content": {
                "cell": "5bc6f152-10a9-4de2-a3bb-9a70e6eb56e0",
                "part": "whole"
              },
              "id": "1731294a-88fb-47c4-857a-b982ea5bdf27"
            }
          }
        },
        "c55b3f91-e822-4abe-998e-be49cdb13a18": {
          "id": "c55b3f91-e822-4abe-998e-be49cdb13a18",
          "prev": "2580744b-4bc9-409b-ba24-5f88634347d2",
          "regions": {
            "e4ff21f4-2dbf-435d-9848-64c147d0d24a": {
              "attrs": {
                "height": 0.8,
                "width": 0.8,
                "x": 0.1,
                "y": 0.1
              },
              "content": {
                "cell": "0f31668a-e78f-46a2-9600-e1c61bdebe89",
                "part": "whole"
              },
              "id": "e4ff21f4-2dbf-435d-9848-64c147d0d24a"
            }
          }
        },
        "c6c91e5e-af38-4838-8536-ad4e039f1266": {
          "id": "c6c91e5e-af38-4838-8536-ad4e039f1266",
          "prev": "82839564-308f-4739-b5ea-b4d0fb2d6eb2",
          "regions": {
            "1001bf18-e4c5-48f7-a384-c6583c7af703": {
              "attrs": {
                "height": 0.8,
                "width": 0.8,
                "x": 0.1,
                "y": 0.1
              },
              "content": {
                "cell": "4c2f26ed-89bb-40fa-8d50-4b4241e7d30e",
                "part": "whole"
              },
              "id": "1001bf18-e4c5-48f7-a384-c6583c7af703"
            }
          }
        },
        "c8bbad41-b442-40aa-8bba-1b752ddb21ef": {
          "id": "c8bbad41-b442-40aa-8bba-1b752ddb21ef",
          "prev": "9b1d7466-a095-484f-9ac0-a28473d70178",
          "regions": {
            "74d986f9-e1ee-4e3f-8780-9a36179a317e": {
              "attrs": {
                "height": 0.8,
                "width": 0.8,
                "x": 0.1,
                "y": 0.1
              },
              "content": {
                "cell": "12af68a4-3bd1-4a7f-9cf3-93dded4e178e",
                "part": "whole"
              },
              "id": "74d986f9-e1ee-4e3f-8780-9a36179a317e"
            }
          }
        },
        "ca6316b6-afe2-4402-8b66-a30a517dad5e": {
          "id": "ca6316b6-afe2-4402-8b66-a30a517dad5e",
          "prev": "2fbb97e5-395f-46fe-89c2-672f666b0e0f",
          "regions": {
            "3adaa115-4b6c-44cb-b80c-c1c04397ed0d": {
              "attrs": {
                "height": 0.8,
                "width": 0.8,
                "x": 0.1,
                "y": 0.1
              },
              "content": {
                "cell": "601303ff-5905-41a9-90a1-65a49ff022da",
                "part": "whole"
              },
              "id": "3adaa115-4b6c-44cb-b80c-c1c04397ed0d"
            }
          }
        },
        "cb6f4ef4-804f-43b5-9e6d-4f36832a342b": {
          "id": "cb6f4ef4-804f-43b5-9e6d-4f36832a342b",
          "prev": "aca0dee2-6aa7-4347-b44c-69f5135586a8",
          "regions": {
            "a45c3ae6-bb73-4ec6-abe0-c6e6426168d8": {
              "attrs": {
                "height": 0.8,
                "width": 0.8,
                "x": 0.1,
                "y": 0.1
              },
              "content": {
                "cell": "58e10664-de79-449b-a75d-a43e9c738dec",
                "part": "whole"
              },
              "id": "a45c3ae6-bb73-4ec6-abe0-c6e6426168d8"
            }
          }
        },
        "cc0b6ea1-7d13-4abc-92ea-023137b1c71c": {
          "id": "cc0b6ea1-7d13-4abc-92ea-023137b1c71c",
          "prev": "a7301d9c-3a0b-4d47-83fd-1475ceee282c",
          "regions": {
            "e9732a10-2240-4b94-aa4b-33a85103f06f": {
              "attrs": {
                "height": 0.8,
                "width": 0.8,
                "x": 0.1,
                "y": 0.1
              },
              "content": {
                "cell": "196e5078-4ada-44b7-a072-6643cef6efa0",
                "part": "whole"
              },
              "id": "e9732a10-2240-4b94-aa4b-33a85103f06f"
            }
          }
        },
        "cc6218c8-6267-49a5-9d7d-0322a10c546a": {
          "id": "cc6218c8-6267-49a5-9d7d-0322a10c546a",
          "prev": "dfa67de7-d239-41c3-85e9-071881756201",
          "regions": {
            "33ede9ed-c653-4ce3-b9b1-01cf4c353dad": {
              "attrs": {
                "height": 0.8,
                "width": 0.8,
                "x": 0.1,
                "y": 0.1
              },
              "content": {
                "cell": "d3aee520-7e9d-419e-a088-26452bde7d29",
                "part": "whole"
              },
              "id": "33ede9ed-c653-4ce3-b9b1-01cf4c353dad"
            }
          }
        },
        "cd8c3575-bfac-4064-9e1e-d8433dcc8793": {
          "id": "cd8c3575-bfac-4064-9e1e-d8433dcc8793",
          "prev": "8b724dc8-ef6b-48a7-9259-e4ef0a33d0e5",
          "regions": {
            "6a33d8d6-50cc-41c9-965a-62d97b3730b7": {
              "attrs": {
                "height": 0.8,
                "width": 0.8,
                "x": 0.1,
                "y": 0.1
              },
              "content": {
                "cell": "a129ff64-1f6c-470b-9f55-1cd80be6a832",
                "part": "whole"
              },
              "id": "6a33d8d6-50cc-41c9-965a-62d97b3730b7"
            }
          }
        },
        "d11e4c4f-73a3-4213-80dc-43d0e9ba26fe": {
          "id": "d11e4c4f-73a3-4213-80dc-43d0e9ba26fe",
          "prev": "ddabcc34-5791-41f3-a30a-656862589ab9",
          "regions": {
            "b42cb3a1-6271-45fe-8f9b-e09029a365cc": {
              "attrs": {
                "height": 0.8,
                "width": 0.8,
                "x": 0.1,
                "y": 0.1
              },
              "content": {
                "cell": "821f788a-92c7-4cd8-9852-75be31cadd49",
                "part": "whole"
              },
              "id": "b42cb3a1-6271-45fe-8f9b-e09029a365cc"
            }
          }
        },
        "d768900c-152e-4916-b503-547e3a0e7bf6": {
          "id": "d768900c-152e-4916-b503-547e3a0e7bf6",
          "prev": "a83adb15-8348-499b-9271-8c27deb39e83",
          "regions": {
            "a5f922c3-02a6-4cbf-9da9-ca23a51d09eb": {
              "attrs": {
                "height": 0.8,
                "width": 0.8,
                "x": 0.1,
                "y": 0.1
              },
              "content": {
                "cell": "45d7b13e-3ece-452e-8628-30e223eb213e",
                "part": "whole"
              },
              "id": "a5f922c3-02a6-4cbf-9da9-ca23a51d09eb"
            }
          }
        },
        "da011c6b-98a2-4f43-bb37-60022b5e7a15": {
          "id": "da011c6b-98a2-4f43-bb37-60022b5e7a15",
          "prev": "0beac995-3577-4887-a868-f58c246e5445",
          "regions": {
            "4af29728-1017-4596-b573-d875005e4a09": {
              "attrs": {
                "height": 0.8,
                "width": 0.8,
                "x": 0.1,
                "y": 0.1
              },
              "content": {
                "cell": "a7ca2b7a-8676-49d4-bbd6-619d9f408a44",
                "part": "whole"
              },
              "id": "4af29728-1017-4596-b573-d875005e4a09"
            }
          }
        },
        "da36db0c-8ca9-4902-8c25-39c58714199d": {
          "id": "da36db0c-8ca9-4902-8c25-39c58714199d",
          "prev": "12e4b9fc-c422-4155-ba94-0537b44affc3",
          "regions": {
            "df0f6d82-edc7-4619-86f5-ad3d2ff7d463": {
              "attrs": {
                "height": 0.8,
                "width": 0.8,
                "x": 0.1,
                "y": 0.1
              },
              "content": {
                "cell": "ef9248da-28cf-4fe5-828a-cc6f28825a3f",
                "part": "whole"
              },
              "id": "df0f6d82-edc7-4619-86f5-ad3d2ff7d463"
            }
          }
        },
        "dbbc6094-5904-4465-be10-5c1c020001d7": {
          "id": "dbbc6094-5904-4465-be10-5c1c020001d7",
          "prev": "5268bce8-c107-4455-a9ed-1d6f09c36ca0",
          "regions": {
            "e119ad62-022e-44c1-8cb2-bb1ddf47dff4": {
              "attrs": {
                "height": 0.8,
                "width": 0.8,
                "x": 0.1,
                "y": 0.1
              },
              "content": {
                "cell": "5c71c286-11a9-4c4e-a373-660960f93edb",
                "part": "whole"
              },
              "id": "e119ad62-022e-44c1-8cb2-bb1ddf47dff4"
            }
          }
        },
        "ddabcc34-5791-41f3-a30a-656862589ab9": {
          "id": "ddabcc34-5791-41f3-a30a-656862589ab9",
          "prev": "bf5e5c7b-cc85-43a2-ad51-6d729a2ba7bc",
          "regions": {
            "5a666056-5740-4bd9-8759-85c88fe1e207": {
              "attrs": {
                "height": 0.8,
                "width": 0.8,
                "x": 0.1,
                "y": 0.1
              },
              "content": {
                "cell": "997bcafe-20d2-4a44-a801-92aed27fb8f9",
                "part": "whole"
              },
              "id": "5a666056-5740-4bd9-8759-85c88fe1e207"
            }
          }
        },
        "de79e7bf-c56d-4faf-9042-b0af513ddc48": {
          "id": "de79e7bf-c56d-4faf-9042-b0af513ddc48",
          "prev": "2f47faf4-03f0-4fdc-985a-0d6d62cc79f2",
          "regions": {
            "1f677efb-b36f-48fd-bb4c-9b79eed8ae5e": {
              "attrs": {
                "height": 0.8,
                "width": 0.8,
                "x": 0.1,
                "y": 0.1
              },
              "content": {
                "cell": "04bfec12-90d8-4531-8ebf-434ea7bb66a7",
                "part": "whole"
              },
              "id": "1f677efb-b36f-48fd-bb4c-9b79eed8ae5e"
            }
          }
        },
        "df8ff3d1-32ac-4d31-aa9c-2dfcd0b5fb9e": {
          "id": "df8ff3d1-32ac-4d31-aa9c-2dfcd0b5fb9e",
          "prev": "24e318ee-9a59-4361-8513-78a9afd81577",
          "regions": {
            "bda3754d-4f0d-4344-b2ba-13b0ad695d03": {
              "attrs": {
                "height": 0.8,
                "width": 0.8,
                "x": 0.1,
                "y": 0.1
              },
              "content": {
                "cell": "03b44c5d-6c69-4058-8757-9d23dc13f03a",
                "part": "whole"
              },
              "id": "bda3754d-4f0d-4344-b2ba-13b0ad695d03"
            }
          }
        },
        "dfa67de7-d239-41c3-85e9-071881756201": {
          "id": "dfa67de7-d239-41c3-85e9-071881756201",
          "prev": "7e0886ef-5a85-43e4-b124-85e297368250",
          "regions": {
            "2cbd1ed9-0b48-42c6-aecd-953e3e507e52": {
              "attrs": {
                "height": 0.8,
                "width": 0.8,
                "x": 0.1,
                "y": 0.1
              },
              "content": {
                "cell": "971dc982-a5e6-44fc-add2-6854edaf4121",
                "part": "whole"
              },
              "id": "2cbd1ed9-0b48-42c6-aecd-953e3e507e52"
            }
          }
        },
        "e166d362-31c4-4f88-a485-1d94b9b8124b": {
          "id": "e166d362-31c4-4f88-a485-1d94b9b8124b",
          "prev": "6413c58c-df38-4ee6-bdbe-3992be37b0ec",
          "regions": {
            "1df46caa-8db0-4261-bbbf-ad067636dfd5": {
              "attrs": {
                "height": 0.8,
                "width": 0.8,
                "x": 0.1,
                "y": 0.1
              },
              "content": {
                "cell": "d83540d4-8466-48f3-8951-c116a529ac73",
                "part": "whole"
              },
              "id": "1df46caa-8db0-4261-bbbf-ad067636dfd5"
            }
          }
        },
        "e80f48ac-72a4-401b-81d9-c5cc27b39ec7": {
          "id": "e80f48ac-72a4-401b-81d9-c5cc27b39ec7",
          "prev": "fe1ca769-402c-49c1-b4ae-c1dcbebc81a6",
          "regions": {
            "5f819bc9-4d74-498d-b83a-145af5048b97": {
              "attrs": {
                "height": 0.8,
                "width": 0.8,
                "x": 0.1,
                "y": 0.1
              },
              "content": {
                "cell": "9729c39a-5644-47dd-8e09-d92937bbf74d",
                "part": "whole"
              },
              "id": "5f819bc9-4d74-498d-b83a-145af5048b97"
            }
          }
        },
        "e9975ae1-e01b-476f-a4ed-6fdc70ab3b57": {
          "id": "e9975ae1-e01b-476f-a4ed-6fdc70ab3b57",
          "prev": "73ffa001-ed50-456e-ac41-1b887ec044f7",
          "regions": {
            "16289d5f-9ebf-4bb0-acb2-92253b5c4241": {
              "attrs": {
                "height": 0.8,
                "width": 0.8,
                "x": 0.1,
                "y": 0.1
              },
              "content": {
                "cell": "374c20d9-d202-4bec-b6a7-5ed87d513794",
                "part": "whole"
              },
              "id": "16289d5f-9ebf-4bb0-acb2-92253b5c4241"
            }
          }
        },
        "ea25c8ec-0807-4b9a-9f85-a2f9a71aeb98": {
          "id": "ea25c8ec-0807-4b9a-9f85-a2f9a71aeb98",
          "prev": "e166d362-31c4-4f88-a485-1d94b9b8124b",
          "regions": {
            "245aee7d-8f4a-40c6-900d-20559be8a5c1": {
              "attrs": {
                "height": 0.8,
                "width": 0.8,
                "x": 0.1,
                "y": 0.1
              },
              "content": {
                "cell": "590e515a-bfb2-4fd1-9cc4-e113e79a27cc",
                "part": "whole"
              },
              "id": "245aee7d-8f4a-40c6-900d-20559be8a5c1"
            }
          }
        },
        "eb4e04b1-ade7-48cd-9be3-94dd2554629a": {
          "id": "eb4e04b1-ade7-48cd-9be3-94dd2554629a",
          "prev": "29ba3c4e-8479-4d6d-bbd8-bb2d3ac2a114",
          "regions": {
            "2970da97-6dd9-4640-b568-eaa72b35b0e5": {
              "attrs": {
                "height": 0.8,
                "width": 0.8,
                "x": 0.1,
                "y": 0.1
              },
              "content": {
                "cell": "187d3b7a-56f1-44f3-8c3b-eb90e15aeb25",
                "part": "whole"
              },
              "id": "2970da97-6dd9-4640-b568-eaa72b35b0e5"
            }
          }
        },
        "ed505b63-9461-4354-8041-852fbeefb6e4": {
          "id": "ed505b63-9461-4354-8041-852fbeefb6e4",
          "prev": "8bdb30da-de1a-4a63-a859-0aa27b9ebd71",
          "regions": {
            "e0302002-b109-442a-a66a-2473b4197d4d": {
              "attrs": {
                "height": 0.8,
                "width": 0.8,
                "x": 0.1,
                "y": 0.1
              },
              "content": {
                "cell": "987f1217-6c78-4905-b7e4-5712b8c97367",
                "part": "whole"
              },
              "id": "e0302002-b109-442a-a66a-2473b4197d4d"
            }
          }
        },
        "ee5bdee3-7cef-4829-a6c2-051a0aa120d9": {
          "id": "ee5bdee3-7cef-4829-a6c2-051a0aa120d9",
          "prev": "0e5d07c9-b39c-49b7-b9ef-d6c5f67ec657",
          "regions": {
            "56813d03-e024-4321-906e-01e6fb6449c9": {
              "attrs": {
                "height": 0.8,
                "width": 0.8,
                "x": 0.1,
                "y": 0.1
              },
              "content": {
                "cell": "786d9a57-ac3f-4a3a-8b37-4f384db1e19b",
                "part": "whole"
              },
              "id": "56813d03-e024-4321-906e-01e6fb6449c9"
            }
          }
        },
        "ef2bd37f-9f50-4ae4-995b-b6a48ba03478": {
          "id": "ef2bd37f-9f50-4ae4-995b-b6a48ba03478",
          "prev": "f30c3acd-395a-4e39-bdce-61c7c7c053b3",
          "regions": {
            "d87b6d97-63a6-401e-a875-c98ece88880a": {
              "attrs": {
                "height": 0.8,
                "width": 0.8,
                "x": 0.1,
                "y": 0.1
              },
              "content": {
                "cell": "ab6e567a-2e02-4d72-9f4a-609d50354e5f",
                "part": "whole"
              },
              "id": "d87b6d97-63a6-401e-a875-c98ece88880a"
            }
          }
        },
        "f30c3acd-395a-4e39-bdce-61c7c7c053b3": {
          "id": "f30c3acd-395a-4e39-bdce-61c7c7c053b3",
          "prev": "76bb3d5d-f5db-491e-809e-cf33299a6253",
          "regions": {
            "3d3214da-b505-4727-8d1b-4dca901cee2b": {
              "attrs": {
                "height": 0.8,
                "width": 0.8,
                "x": 0.1,
                "y": 0.1
              },
              "content": {
                "cell": "84d90fd8-ce45-466f-912a-966917cc536a",
                "part": "whole"
              },
              "id": "3d3214da-b505-4727-8d1b-4dca901cee2b"
            }
          }
        },
        "f38e8689-f667-4147-b23c-52ac0068746e": {
          "id": "f38e8689-f667-4147-b23c-52ac0068746e",
          "prev": "b027d93f-c7c6-415e-a05f-3ba51a217b85",
          "regions": {
            "72eb4cf4-e5b2-46c5-942a-53d558990540": {
              "attrs": {
                "height": 0.8,
                "width": 0.8,
                "x": 0.1,
                "y": 0.1
              },
              "content": {
                "cell": "e84af131-c04a-408c-876e-c61a1bf283e6",
                "part": "whole"
              },
              "id": "72eb4cf4-e5b2-46c5-942a-53d558990540"
            }
          }
        },
        "f53536cd-a8b4-4de1-a965-7edfdbf8c00e": {
          "id": "f53536cd-a8b4-4de1-a965-7edfdbf8c00e",
          "prev": "41bcd6fe-2aa4-4f02-afcb-bc0ab3ef7d95",
          "regions": {
            "dafe3695-d9ab-4058-8a2c-c7f9de195291": {
              "attrs": {
                "height": 0.8,
                "width": 0.8,
                "x": 0.1,
                "y": 0.1
              },
              "content": {
                "cell": "f2bb6b67-d24d-4b28-9d0e-d9856b83b25c",
                "part": "whole"
              },
              "id": "dafe3695-d9ab-4058-8a2c-c7f9de195291"
            }
          },
          "theme": null
        },
        "f75d8a62-6dc7-4ded-a0d0-caa2c4c4b754": {
          "id": "f75d8a62-6dc7-4ded-a0d0-caa2c4c4b754",
          "prev": "ba0d726a-88e0-4700-8189-9ad077bc4b94",
          "regions": {
            "9d64125d-2aec-4f29-ab11-cc1234a275be": {
              "attrs": {
                "height": 0.8,
                "width": 0.8,
                "x": 0.1,
                "y": 0.1
              },
              "content": {
                "cell": "7c809eec-9824-40a9-a157-0a8fad7f26c8",
                "part": "whole"
              },
              "id": "9d64125d-2aec-4f29-ab11-cc1234a275be"
            }
          }
        },
        "f77cf59a-6e0f-4bec-9e99-98d82aa85509": {
          "id": "f77cf59a-6e0f-4bec-9e99-98d82aa85509",
          "prev": "67f512cb-8670-4ed1-9f05-55c8e3a73bfb",
          "regions": {
            "aa49a946-09ff-4c91-b343-ca364b00a633": {
              "attrs": {
                "height": 0.8,
                "width": 0.8,
                "x": 0.1,
                "y": 0.1
              },
              "content": {
                "cell": "c1e662b9-9762-4e04-9dc3-f87fe30b36e7",
                "part": "whole"
              },
              "id": "aa49a946-09ff-4c91-b343-ca364b00a633"
            }
          }
        },
        "fcb579de-03d0-4cfc-884a-f31f316804b7": {
          "id": "fcb579de-03d0-4cfc-884a-f31f316804b7",
          "prev": "5516ed8c-bf77-438f-9893-56de29379e95",
          "regions": {
            "0141f2f5-a6d6-4f6b-9e80-a129b4d44168": {
              "attrs": {
                "height": 0.8,
                "width": 0.8,
                "x": 0.1,
                "y": 0.1
              },
              "content": {
                "cell": "53d1fe0c-58c0-493a-8401-98e4575bda6b",
                "part": "whole"
              },
              "id": "0141f2f5-a6d6-4f6b-9e80-a129b4d44168"
            }
          }
        },
        "fe1ca769-402c-49c1-b4ae-c1dcbebc81a6": {
          "id": "fe1ca769-402c-49c1-b4ae-c1dcbebc81a6",
          "prev": "cc6218c8-6267-49a5-9d7d-0322a10c546a",
          "regions": {
            "4fbff2a1-602a-4613-9831-859292bcc0c6": {
              "attrs": {
                "height": 0.8,
                "width": 0.8,
                "x": 0.1,
                "y": 0.1
              },
              "content": {
                "cell": "bad4b0ef-284b-4d36-a4b5-e20ef09fe5d7",
                "part": "whole"
              },
              "id": "4fbff2a1-602a-4613-9831-859292bcc0c6"
            }
          }
        },
        "fe3723b2-8fdb-4762-8bf3-3e1129ecb119": {
          "id": "fe3723b2-8fdb-4762-8bf3-3e1129ecb119",
          "prev": "929062eb-3031-4e50-aa44-a116bff3f767",
          "regions": {
            "e9159854-9c06-4455-8ff6-c0f0d73c2735": {
              "attrs": {
                "height": 0.8,
                "width": 0.8,
                "x": 0.1,
                "y": 0.1
              },
              "content": {
                "cell": "63ba8ee2-0d03-4066-b808-ed9541c7b31b",
                "part": "whole"
              },
              "id": "e9159854-9c06-4455-8ff6-c0f0d73c2735"
            }
          }
        }
      },
      "themes": {}
    },
    "colab": {
      "name": "Session2.ipynb",
      "provenance": [],
      "collapsed_sections": []
    }
  },
  "nbformat": 4,
  "nbformat_minor": 0
}