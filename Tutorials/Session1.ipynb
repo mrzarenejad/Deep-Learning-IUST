{
  "nbformat": 4,
  "nbformat_minor": 0,
  "metadata": {
    "colab": {
      "name": "Session1.ipynb",
      "provenance": [],
      "collapsed_sections": []
    },
    "kernelspec": {
      "name": "python3",
      "display_name": "Python 3"
    },
    "language_info": {
      "name": "python"
    }
  },
  "cells": [
    {
      "cell_type": "markdown",
      "source": [
        "**Introduction**"
      ],
      "metadata": {
        "id": "RLIizb0yvN9c"
      }
    },
    {
      "cell_type": "markdown",
      "source": [
        "Python is a great general-purpose programming language on its own, but with the help of a few popular libraries (numpy, scipy, matplotlib) it becomes a powerful environment for scientific computing.\n",
        "\n",
        "https://www.statista.com/statistics/793628/worldwide-developer-survey-most-used-languages/\n"
      ],
      "metadata": {
        "id": "GBSi0-mfvScb"
      }
    },
    {
      "cell_type": "markdown",
      "source": [
        "In this tutorial, we will cover:\n",
        "\n",
        "* Basic Python: Basic data types (Containers, Lists, Dictionaries, Sets, Tuples), Functions, Classes\n",
        "* Numpy: Arrays, Array indexing, Datatypes, Array math, Broadcasting\n",
        "* Matplotlib: Plotting, Subplots, Images\n",
        "* Other useful libraries: Pandas , Scipy , Opencv\n"
      ],
      "metadata": {
        "id": "bRa-ul_mwU1B"
      }
    },
    {
      "cell_type": "markdown",
      "source": [
        "## Basics of Python"
      ],
      "metadata": {
        "id": "NQeM_so9wlyY"
      }
    },
    {
      "cell_type": "code",
      "source": [
        "!python --version"
      ],
      "metadata": {
        "colab": {
          "base_uri": "https://localhost:8080/"
        },
        "id": "YxOs7NvgvRDs",
        "outputId": "679404c4-5e15-44db-e667-11014cf02e11"
      },
      "execution_count": null,
      "outputs": [
        {
          "output_type": "stream",
          "name": "stdout",
          "text": [
            "Python 3.7.12\n"
          ]
        }
      ]
    },
    {
      "cell_type": "markdown",
      "source": [
        "### Variables"
      ],
      "metadata": {
        "id": "WLRUz8GLnzV5"
      }
    },
    {
      "cell_type": "markdown",
      "source": [
        "<div class=\"alert alert-info\">\n",
        "    <strong>Variable:</strong>\n",
        "    <ul>\n",
        "        <li>A variable is a name for a specific location in the memory.</li>\n",
        "        <li>A variable has a `name`, a `type` and a `value`.</li>\n",
        "    </ul>\n",
        "</div>"
      ],
      "metadata": {
        "id": "y37HowGNn7Wf"
      }
    },
    {
      "cell_type": "markdown",
      "source": [
        "- In python, we only specify the `name` and the `value`.\n",
        "- The `type` is determined automatically from the assigned value."
      ],
      "metadata": {
        "id": "Rctq6LgNn9Cx"
      }
    },
    {
      "cell_type": "code",
      "source": [
        "a = 3"
      ],
      "metadata": {
        "id": "3yS5oBcLnz88"
      },
      "execution_count": null,
      "outputs": []
    },
    {
      "cell_type": "code",
      "source": [
        "a"
      ],
      "metadata": {
        "colab": {
          "base_uri": "https://localhost:8080/"
        },
        "id": "ZSM4xp11o5_D",
        "outputId": "384efaaf-b642-4e27-d244-6bae466d8168"
      },
      "execution_count": null,
      "outputs": [
        {
          "output_type": "execute_result",
          "data": {
            "text/plain": [
              "3"
            ]
          },
          "metadata": {},
          "execution_count": 8
        }
      ]
    },
    {
      "cell_type": "code",
      "source": [
        "print(a)"
      ],
      "metadata": {
        "colab": {
          "base_uri": "https://localhost:8080/"
        },
        "id": "sunYP3Pmo7K7",
        "outputId": "ac074b19-f437-44e2-f41a-d9c26cc84267"
      },
      "execution_count": null,
      "outputs": [
        {
          "output_type": "stream",
          "name": "stdout",
          "text": [
            "3\n"
          ]
        }
      ]
    },
    {
      "cell_type": "code",
      "source": [
        "type(a)"
      ],
      "metadata": {
        "colab": {
          "base_uri": "https://localhost:8080/"
        },
        "id": "r4iMGw7Do89p",
        "outputId": "9ed6cc51-9ffe-40c2-86ea-7c3992460fcc"
      },
      "execution_count": null,
      "outputs": [
        {
          "output_type": "execute_result",
          "data": {
            "text/plain": [
              "int"
            ]
          },
          "metadata": {},
          "execution_count": 10
        }
      ]
    },
    {
      "cell_type": "code",
      "source": [
        "b = \"Hi, I love Python!\" \n",
        "print(b)\n",
        "print(type(b))"
      ],
      "metadata": {
        "colab": {
          "base_uri": "https://localhost:8080/"
        },
        "id": "jNQMXd3HpCtl",
        "outputId": "3ea4b994-5a7e-4d9f-a3ad-097b6a35740c"
      },
      "execution_count": null,
      "outputs": [
        {
          "output_type": "stream",
          "name": "stdout",
          "text": [
            "Hi, I love Python!\n",
            "<class 'str'>\n"
          ]
        }
      ]
    },
    {
      "cell_type": "markdown",
      "source": [
        "#### Numbers"
      ],
      "metadata": {
        "id": "8hcsPELyxxtN"
      }
    },
    {
      "cell_type": "code",
      "execution_count": null,
      "metadata": {
        "colab": {
          "base_uri": "https://localhost:8080/"
        },
        "id": "vaDzw0MKur8t",
        "outputId": "931eb8cb-35b5-4ddd-b74d-22a8db744b25"
      },
      "outputs": [
        {
          "output_type": "stream",
          "name": "stdout",
          "text": [
            "3\n",
            "<class 'int'>\n"
          ]
        }
      ],
      "source": [
        "x = 3\n",
        "print(x)\n",
        "print(type(x))\n",
        "#print(x,type(x))"
      ]
    },
    {
      "cell_type": "code",
      "source": [
        "print(x + 1)   # Addition;\n",
        "print(x - 1)   # Subtraction;\n",
        "print(x * 2)   # Multiplication;\n",
        "print(x ** 2)  # Exponentiation;\n",
        "print(1 / 2)    # division\n",
        "print(8 // 5)   # integer division\n",
        "print(8 % 5)"
      ],
      "metadata": {
        "colab": {
          "base_uri": "https://localhost:8080/"
        },
        "id": "I3zkS3drx_x4",
        "outputId": "b356700b-da7c-4527-e306-35a14717a714"
      },
      "execution_count": null,
      "outputs": [
        {
          "output_type": "stream",
          "name": "stdout",
          "text": [
            "4\n",
            "2\n",
            "6\n",
            "9\n",
            "0.5\n",
            "1\n",
            "3\n"
          ]
        }
      ]
    },
    {
      "cell_type": "code",
      "source": [
        "x += 1\n",
        "print(x)  # Prints \"4\"\n",
        "x *= 2\n",
        "print(x)  # Prints \"8\""
      ],
      "metadata": {
        "colab": {
          "base_uri": "https://localhost:8080/"
        },
        "id": "SheL0I0myG63",
        "outputId": "b80c5c44-5ac9-44ba-e9eb-b393d4257f2a"
      },
      "execution_count": null,
      "outputs": [
        {
          "output_type": "stream",
          "name": "stdout",
          "text": [
            "4\n",
            "8\n"
          ]
        }
      ]
    },
    {
      "cell_type": "markdown",
      "source": [
        "### Logical Operations"
      ],
      "metadata": {
        "id": "0y0ZVQuLypZd"
      }
    },
    {
      "cell_type": "code",
      "source": [
        "print(1 == 2)"
      ],
      "metadata": {
        "colab": {
          "base_uri": "https://localhost:8080/"
        },
        "id": "eyZ9PePGmvos",
        "outputId": "d6f1418c-ec48-4432-a216-9eae5e90e516"
      },
      "execution_count": null,
      "outputs": [
        {
          "output_type": "stream",
          "name": "stdout",
          "text": [
            "False\n"
          ]
        }
      ]
    },
    {
      "cell_type": "code",
      "source": [
        "print(1 != 2)"
      ],
      "metadata": {
        "colab": {
          "base_uri": "https://localhost:8080/"
        },
        "id": "LrlPJU_smwJe",
        "outputId": "a2e70894-a46e-4a18-88a7-293f8b31c245"
      },
      "execution_count": null,
      "outputs": [
        {
          "output_type": "stream",
          "name": "stdout",
          "text": [
            "True\n"
          ]
        }
      ]
    },
    {
      "cell_type": "code",
      "source": [
        "print(3 >= 1)"
      ],
      "metadata": {
        "colab": {
          "base_uri": "https://localhost:8080/"
        },
        "id": "ugHUJirgmykM",
        "outputId": "0d102411-c20d-4a14-856b-327e96cd1ce1"
      },
      "execution_count": null,
      "outputs": [
        {
          "output_type": "stream",
          "name": "stdout",
          "text": [
            "True\n"
          ]
        }
      ]
    },
    {
      "cell_type": "code",
      "source": [
        "t, f = True, False\n",
        "print(type(t)) "
      ],
      "metadata": {
        "colab": {
          "base_uri": "https://localhost:8080/"
        },
        "id": "QZElv8WAylmZ",
        "outputId": "9c05aab4-c656-4b35-ae94-310b945c670f"
      },
      "execution_count": null,
      "outputs": [
        {
          "output_type": "stream",
          "name": "stdout",
          "text": [
            "<class 'bool'>\n"
          ]
        }
      ]
    },
    {
      "cell_type": "code",
      "source": [
        "print(t and f) # Logical AND;\n",
        "print(t or f)  # Logical OR;\n",
        "print(not t)   # Logical NOT;\n",
        "print(t != f)  # Logical XOR;"
      ],
      "metadata": {
        "colab": {
          "base_uri": "https://localhost:8080/"
        },
        "id": "BistuZOKmrMQ",
        "outputId": "3d461298-8402-4224-f447-e7df6e2cf342"
      },
      "execution_count": null,
      "outputs": [
        {
          "output_type": "stream",
          "name": "stdout",
          "text": [
            "False\n",
            "True\n",
            "False\n",
            "True\n"
          ]
        }
      ]
    },
    {
      "cell_type": "markdown",
      "source": [
        "#### Strings"
      ],
      "metadata": {
        "id": "iRmkPOikpRQ6"
      }
    },
    {
      "cell_type": "code",
      "source": [
        "hello = 'hello'   # String literals can use single quotes\n",
        "world = \"world\"   # or double quotes; it does not matter.\n",
        "print(hello, len(hello))"
      ],
      "metadata": {
        "colab": {
          "base_uri": "https://localhost:8080/"
        },
        "id": "_aZS5Dh0pN8x",
        "outputId": "b09d9068-9cec-40b7-f686-ce9fb2b18b46"
      },
      "execution_count": null,
      "outputs": [
        {
          "output_type": "stream",
          "name": "stdout",
          "text": [
            "hello 5\n"
          ]
        }
      ]
    },
    {
      "cell_type": "code",
      "source": [
        "hw = hello + ' ' + world  # String concatenation\n",
        "print(hw*5)  # prints \"hello world\""
      ],
      "metadata": {
        "colab": {
          "base_uri": "https://localhost:8080/"
        },
        "id": "_Wv8biYFpXn5",
        "outputId": "354c2d17-41df-43aa-d454-bf59d300866f"
      },
      "execution_count": null,
      "outputs": [
        {
          "output_type": "stream",
          "name": "stdout",
          "text": [
            "hello worldhello worldhello worldhello worldhello world\n"
          ]
        }
      ]
    },
    {
      "cell_type": "markdown",
      "source": [
        "###String Formatting"
      ],
      "metadata": {
        "id": "SK62aSidpo70"
      }
    },
    {
      "cell_type": "code",
      "source": [
        "print('%s %s %d' % (hello, world, 12))  # prints \"hello world 12\""
      ],
      "metadata": {
        "colab": {
          "base_uri": "https://localhost:8080/"
        },
        "id": "AGBIK_uspeQ1",
        "outputId": "ab4c15a0-cac1-4115-eadb-e48806decf0a"
      },
      "execution_count": null,
      "outputs": [
        {
          "output_type": "stream",
          "name": "stdout",
          "text": [
            "hello world 12\n"
          ]
        }
      ]
    },
    {
      "cell_type": "code",
      "source": [
        "year = 2021\n",
        "event = 'Referendum'\n",
        "print(f'Results of the {year} {event} is win')\n"
      ],
      "metadata": {
        "colab": {
          "base_uri": "https://localhost:8080/"
        },
        "id": "yKYhYbGUpxVD",
        "outputId": "657ae6ce-8b9f-4ba6-8687-f0c24b53cd15"
      },
      "execution_count": null,
      "outputs": [
        {
          "output_type": "stream",
          "name": "stdout",
          "text": [
            "Results of the 2021 Referendum is win\n"
          ]
        }
      ]
    },
    {
      "cell_type": "code",
      "source": [
        "year = 2022\n",
        "event = 'Referendum'\n",
        "print('results of the {} {} is win'.format(year,event))"
      ],
      "metadata": {
        "colab": {
          "base_uri": "https://localhost:8080/"
        },
        "id": "vKf4EAVYqeQI",
        "outputId": "da5e7a43-f3e1-44d4-8eab-d07e596460c3"
      },
      "execution_count": null,
      "outputs": [
        {
          "output_type": "stream",
          "name": "stdout",
          "text": [
            "results of the 2022 Referendum is win\n"
          ]
        }
      ]
    },
    {
      "cell_type": "markdown",
      "source": [
        "Getting Input"
      ],
      "metadata": {
        "id": "yy3Nhq1hp3rP"
      }
    },
    {
      "cell_type": "code",
      "source": [
        "a = int(input('lotfan yek adad'))\n"
      ],
      "metadata": {
        "colab": {
          "base_uri": "https://localhost:8080/"
        },
        "id": "ovyX3QXcp6Bv",
        "outputId": "3c27b8b7-07de-4a8b-c8ee-1a804d8ea454"
      },
      "execution_count": null,
      "outputs": [
        {
          "name": "stdout",
          "output_type": "stream",
          "text": [
            "lotfan yek adad3\n"
          ]
        }
      ]
    },
    {
      "cell_type": "code",
      "source": [
        "a"
      ],
      "metadata": {
        "colab": {
          "base_uri": "https://localhost:8080/"
        },
        "id": "gGcmRgDpqHn4",
        "outputId": "f47a3083-db52-430c-9cb4-3e1e5709dbc7"
      },
      "execution_count": null,
      "outputs": [
        {
          "output_type": "execute_result",
          "data": {
            "text/plain": [
              "1"
            ]
          },
          "metadata": {},
          "execution_count": 25
        }
      ]
    },
    {
      "cell_type": "code",
      "source": [
        "a = (input('Print enter a number'))"
      ],
      "metadata": {
        "colab": {
          "base_uri": "https://localhost:8080/"
        },
        "id": "vX7MSLO3qJUa",
        "outputId": "51407940-4fba-4e98-d1d6-48bdf9db3b09"
      },
      "execution_count": null,
      "outputs": [
        {
          "name": "stdout",
          "output_type": "stream",
          "text": [
            "Print enter a number7\n"
          ]
        }
      ]
    },
    {
      "cell_type": "code",
      "source": [
        "type(a)"
      ],
      "metadata": {
        "colab": {
          "base_uri": "https://localhost:8080/"
        },
        "id": "mmsvFHl2qN10",
        "outputId": "6fc839a5-8359-4516-9037-fa3f5c3118d2"
      },
      "execution_count": null,
      "outputs": [
        {
          "output_type": "execute_result",
          "data": {
            "text/plain": [
              "str"
            ]
          },
          "metadata": {},
          "execution_count": 27
        }
      ]
    },
    {
      "cell_type": "markdown",
      "source": [
        "String objects have a bunch of useful methods; for example:"
      ],
      "metadata": {
        "id": "TKj7PC35qu5e"
      }
    },
    {
      "cell_type": "code",
      "source": [
        "s = \"hello\"\n",
        "print(s.capitalize())  # Capitalize a string; prints \"Hello\"\n",
        "print(s.upper())       # Convert a string to uppercase; prints \"HELLO\"\n",
        "print(s.rjust(7))      # Right-justify a string, padding with spaces; prints \"  hello\"\n",
        "print(s.center(7))     # Center a string, padding with spaces; prints \" hello \"\n",
        "print(s.replace('l', 'p'))  # Replace all instances of one substring with another;\n",
        "                               # prints \"he(ell)(ell)o\""
      ],
      "metadata": {
        "colab": {
          "base_uri": "https://localhost:8080/"
        },
        "id": "kZTcCMtaqvwf",
        "outputId": "efd14be4-9a7d-457b-8c40-413a3481cd45"
      },
      "execution_count": null,
      "outputs": [
        {
          "output_type": "stream",
          "name": "stdout",
          "text": [
            "Hello\n",
            "HELLO\n",
            "  hello\n",
            " hello \n",
            "heppo\n"
          ]
        }
      ]
    },
    {
      "cell_type": "markdown",
      "source": [
        "###Strip\n",
        "\n"
      ],
      "metadata": {
        "id": "_irOPbhTtU3S"
      }
    },
    {
      "cell_type": "code",
      "source": [
        "\n",
        "string = \"\"\"    geeks for geeks    \"\"\"\n",
        "print(string)\n",
        "print(string.strip())  \n",
        "print(string.strip(' geeks'))"
      ],
      "metadata": {
        "colab": {
          "base_uri": "https://localhost:8080/"
        },
        "id": "EhkCORvltcKa",
        "outputId": "77d4c252-3afa-497b-95c4-de40776e3c46"
      },
      "execution_count": null,
      "outputs": [
        {
          "output_type": "stream",
          "name": "stdout",
          "text": [
            "    geeks for geeks    \n",
            "geeks for geeks\n",
            "for\n"
          ]
        }
      ]
    },
    {
      "cell_type": "code",
      "source": [
        " \n",
        "str1 = 'geeks for geeks'\n",
        "print(str1)\n",
        "str2 = 'ekgs'\n",
        "print(str1.strip(str2))"
      ],
      "metadata": {
        "colab": {
          "base_uri": "https://localhost:8080/"
        },
        "id": "g-0FTVS-tc4y",
        "outputId": "c0e21367-3852-47b2-b05e-ac6415a74182"
      },
      "execution_count": null,
      "outputs": [
        {
          "output_type": "stream",
          "name": "stdout",
          "text": [
            "geeks for geeks\n",
            " for \n"
          ]
        }
      ]
    },
    {
      "cell_type": "markdown",
      "source": [
        "You can find a list of all string methods in the [documentation](https://docs.python.org/2/library/stdtypes.html#string-methods)."
      ],
      "metadata": {
        "id": "YCbzBZHBqy34"
      }
    },
    {
      "cell_type": "markdown",
      "source": [
        "### Data structures in python"
      ],
      "metadata": {
        "id": "zAQAHD1jt1Lk"
      }
    },
    {
      "cell_type": "markdown",
      "source": [
        "- **List:** A sequence of items.\n",
        "- **Tuple:** like list, but it is *immutable*.\n",
        "- **Set:** A collection of distinct items in which the order in not important.\n",
        "- **Dictinary:** A list of (key, value) pairs."
      ],
      "metadata": {
        "id": "1hX79F2xt1vM"
      }
    },
    {
      "cell_type": "markdown",
      "source": [
        " ```python\n",
        "   # List\n",
        "   my_courses = [\"Machine Learning\", \"Pattern Recognition\", \"Image Processing\"]\n",
        "   my_grades = [16.5, 18.25, 16.5]\n",
        "```"
      ],
      "metadata": {
        "id": "wJBi71ZKt4Ey"
      }
    },
    {
      "cell_type": "markdown",
      "source": [
        "```python\n",
        "   # Tuple\n",
        "   my_courses = (\"Machine Learning\", \"Pattern Recognition\", \"Image Processing\")\n",
        "   my_grades = (16.5, 18.25, 16.5)\n",
        "```"
      ],
      "metadata": {
        "id": "KupMd7i7t9Mm"
      }
    },
    {
      "cell_type": "markdown",
      "source": [
        "```python\n",
        "   # Set\n",
        "   my_courses = {\"Machine Learning\", \"Pattern Recognition\", \"Image Processing\"}\n",
        "   my_grades = {16.5, 18.25}\n",
        "```"
      ],
      "metadata": {
        "id": "PqM6usCEt_Ni"
      }
    },
    {
      "cell_type": "markdown",
      "source": [
        "```python\n",
        "   # Dictionary\n",
        "   my_courses = {\"Machine Learning\": 16.5, \n",
        "                 \"Pattern Recognition\": 18.25, \n",
        "                 \"Image Processing\":15.0}\n",
        "```"
      ],
      "metadata": {
        "id": "Cgd9FXZ_uBH6"
      }
    },
    {
      "cell_type": "markdown",
      "source": [
        "###Lists"
      ],
      "metadata": {
        "id": "qJZugjBG0iS_"
      }
    },
    {
      "cell_type": "code",
      "source": [
        "xs = [3, 1, 2 , 4,5,8,9]   \n",
        "print(xs)\n",
        "print(xs[0])\n",
        "print(xs[2])\n",
        "print(xs[-1])     \n",
        "print(len(xs))"
      ],
      "metadata": {
        "colab": {
          "base_uri": "https://localhost:8080/"
        },
        "id": "zMzO2WOw0kIN",
        "outputId": "90104daa-0d20-4f35-bcd3-0b69ff447ad9"
      },
      "execution_count": null,
      "outputs": [
        {
          "output_type": "stream",
          "name": "stdout",
          "text": [
            "[3, 1, 2, 4, 5, 8, 9]\n",
            "3\n",
            "2\n",
            "9\n",
            "7\n"
          ]
        }
      ]
    },
    {
      "cell_type": "code",
      "source": [
        "print(xs[:3])"
      ],
      "metadata": {
        "colab": {
          "base_uri": "https://localhost:8080/"
        },
        "id": "7yN79ysxrBzu",
        "outputId": "340996ff-a92e-42d5-92b0-9d40f86cecea"
      },
      "execution_count": null,
      "outputs": [
        {
          "output_type": "stream",
          "name": "stdout",
          "text": [
            "[3, 1, 2]\n"
          ]
        }
      ]
    },
    {
      "cell_type": "code",
      "source": [
        "xs = [3, 1, 2 , 4,5,8,9]   \n"
      ],
      "metadata": {
        "id": "sGjPMmPrslCi"
      },
      "execution_count": null,
      "outputs": []
    },
    {
      "cell_type": "code",
      "source": [
        "xs[2] = 'food'    # Lists can contain elements of different types\n",
        "print(xs)        #Lists are immutable"
      ],
      "metadata": {
        "colab": {
          "base_uri": "https://localhost:8080/"
        },
        "id": "oYJAsQOG1lOU",
        "outputId": "6ae0d936-2d26-4c9b-8064-6f25a61eaa08"
      },
      "execution_count": null,
      "outputs": [
        {
          "output_type": "stream",
          "name": "stdout",
          "text": [
            "[3, 1, 'food', 4, 5, 8, 9]\n"
          ]
        }
      ]
    },
    {
      "cell_type": "code",
      "source": [
        "xs.append('bar') # Add a new element to the end of the list\n",
        "print(xs)  "
      ],
      "metadata": {
        "colab": {
          "base_uri": "https://localhost:8080/"
        },
        "id": "dMOswbTx1xhV",
        "outputId": "4c8acb1c-57a4-4fbe-c6c4-666a9b431206"
      },
      "execution_count": null,
      "outputs": [
        {
          "output_type": "stream",
          "name": "stdout",
          "text": [
            "[3, 1, 'food', 4, 5, 8, 9, 'bar']\n"
          ]
        }
      ]
    },
    {
      "cell_type": "code",
      "source": [
        "x = xs.pop()     # Remove and return the last element of the list\n",
        "print(x, xs) "
      ],
      "metadata": {
        "colab": {
          "base_uri": "https://localhost:8080/"
        },
        "id": "Hi-f-aQz13bs",
        "outputId": "1534e862-e6b8-487e-c9a5-16cfdb401d37"
      },
      "execution_count": null,
      "outputs": [
        {
          "output_type": "stream",
          "name": "stdout",
          "text": [
            "2 [3]\n"
          ]
        }
      ]
    },
    {
      "cell_type": "code",
      "source": [
        "xs = [3, 1, 2]   \n",
        "x = xs.pop(1)     # Remove and return the last element of the list\n",
        "print(x, xs) "
      ],
      "metadata": {
        "colab": {
          "base_uri": "https://localhost:8080/"
        },
        "id": "J-xFyzsL2Wxd",
        "outputId": "ac471aef-c448-47db-e28e-e021b4cd63ec"
      },
      "execution_count": null,
      "outputs": [
        {
          "output_type": "stream",
          "name": "stdout",
          "text": [
            "1 [3, 2]\n"
          ]
        }
      ]
    },
    {
      "cell_type": "code",
      "source": [
        "a = [1,2,5,6]\n",
        "len(a)"
      ],
      "metadata": {
        "colab": {
          "base_uri": "https://localhost:8080/"
        },
        "id": "udS-tWS6tLg7",
        "outputId": "350573ba-0681-4ec6-ac71-473c9bd5a2db"
      },
      "execution_count": null,
      "outputs": [
        {
          "output_type": "execute_result",
          "data": {
            "text/plain": [
              "4"
            ]
          },
          "metadata": {},
          "execution_count": 54
        }
      ]
    },
    {
      "cell_type": "markdown",
      "source": [
        "As usual, you can find all the gory details about lists in the [documentation](https://docs.python.org/2/tutorial/datastructures.html#more-on-lists)."
      ],
      "metadata": {
        "id": "t2IYt9Mp2LY9"
      }
    },
    {
      "cell_type": "markdown",
      "source": [
        "Slicing "
      ],
      "metadata": {
        "id": "Ey_SKrsA2ie2"
      }
    },
    {
      "cell_type": "code",
      "source": [
        "nums = [1,2,3,4,5]    \n",
        "print(nums)        \n",
        "print(nums[2:4])    \n",
        "print(nums[2:])     \n",
        "print(nums[:2])    \n",
        "print(nums[:])     \n",
        "print(nums[:-1])    \n",
        "nums[2:4] = [8, 9] \n",
        "print(nums)   \n",
        "print(nums[::2])   "
      ],
      "metadata": {
        "colab": {
          "base_uri": "https://localhost:8080/"
        },
        "id": "F4b-I2Np2juF",
        "outputId": "b78f25d6-b264-4593-e105-ea31726c62d0"
      },
      "execution_count": null,
      "outputs": [
        {
          "output_type": "stream",
          "name": "stdout",
          "text": [
            "[1, 2, 3, 4, 5]\n",
            "[3, 4]\n",
            "[3, 4, 5]\n",
            "[1, 2]\n",
            "[1, 2, 3, 4, 5]\n",
            "[1, 2, 3, 4]\n",
            "[1, 2, 8, 9, 5]\n",
            "[1, 8, 5]\n"
          ]
        }
      ]
    },
    {
      "cell_type": "markdown",
      "source": [
        "#### Dictionaries"
      ],
      "metadata": {
        "id": "PRkDL_Cf5e_H"
      }
    },
    {
      "cell_type": "markdown",
      "source": [
        "A dictionary stores (key, value) pairs, similar to a `Map` in Java or an object in Javascript. You can use it like this:"
      ],
      "metadata": {
        "id": "PR5SyL3u5fhF"
      }
    },
    {
      "cell_type": "code",
      "source": [
        "d = {'cat': 'cute', 'dog': 'furry'}  # Create a new dictionary with some data\n",
        "print(d['dog'])       # Get an entry from a dictionary; prints \"cute\"\n",
        "print('c' in d)     # Check if a dictionary has a given key; prints \"True\""
      ],
      "metadata": {
        "colab": {
          "base_uri": "https://localhost:8080/"
        },
        "id": "XSe8U8mF2MCW",
        "outputId": "0584c052-d70c-4a26-abe2-5101a466f5ce"
      },
      "execution_count": null,
      "outputs": [
        {
          "output_type": "stream",
          "name": "stdout",
          "text": [
            "furry\n",
            "False\n"
          ]
        }
      ]
    },
    {
      "cell_type": "code",
      "source": [
        "d['fish'] = 'wet'    # Set an entry in a dictionary\n",
        "print(d['fish'])  \n",
        "d    "
      ],
      "metadata": {
        "colab": {
          "base_uri": "https://localhost:8080/"
        },
        "id": "5tiDovko2Ipi",
        "outputId": "201620f9-344a-4de3-af50-e86aab956887"
      },
      "execution_count": null,
      "outputs": [
        {
          "output_type": "stream",
          "name": "stdout",
          "text": [
            "wet\n"
          ]
        },
        {
          "output_type": "execute_result",
          "data": {
            "text/plain": [
              "{'cat': 'cute', 'dog': 'furry', 'fish': 'wet'}"
            ]
          },
          "metadata": {},
          "execution_count": 66
        }
      ]
    },
    {
      "cell_type": "code",
      "source": [
        "print(d['monkey'])  # KeyError: 'monkey' not a key of d"
      ],
      "metadata": {
        "colab": {
          "base_uri": "https://localhost:8080/",
          "height": 166
        },
        "id": "M8dlOgOd5xFL",
        "outputId": "afd15291-df8b-42a6-ecbd-54ac24fbd962"
      },
      "execution_count": null,
      "outputs": [
        {
          "output_type": "error",
          "ename": "KeyError",
          "evalue": "ignored",
          "traceback": [
            "\u001b[0;31m---------------------------------------------------------------------------\u001b[0m",
            "\u001b[0;31mKeyError\u001b[0m                                  Traceback (most recent call last)",
            "\u001b[0;32m<ipython-input-57-78fc9745d9cf>\u001b[0m in \u001b[0;36m<module>\u001b[0;34m()\u001b[0m\n\u001b[0;32m----> 1\u001b[0;31m \u001b[0mprint\u001b[0m\u001b[0;34m(\u001b[0m\u001b[0md\u001b[0m\u001b[0;34m[\u001b[0m\u001b[0;34m'monkey'\u001b[0m\u001b[0;34m]\u001b[0m\u001b[0;34m)\u001b[0m  \u001b[0;31m# KeyError: 'monkey' not a key of d\u001b[0m\u001b[0;34m\u001b[0m\u001b[0;34m\u001b[0m\u001b[0m\n\u001b[0m",
            "\u001b[0;31mKeyError\u001b[0m: 'monkey'"
          ]
        }
      ]
    },
    {
      "cell_type": "markdown",
      "source": [
        "#### Sets"
      ],
      "metadata": {
        "id": "Iu_e4REX6ELP"
      }
    },
    {
      "cell_type": "markdown",
      "source": [
        "A set is an unordered collection of distinct elements. As a simple example, consider the following:"
      ],
      "metadata": {
        "id": "Nth4RHmi6Wtc"
      }
    },
    {
      "cell_type": "code",
      "source": [
        "animals = {'cat', 'dog'}\n",
        "animal2 = {'dog' , 'cat'}\n",
        "animals == animal2"
      ],
      "metadata": {
        "colab": {
          "base_uri": "https://localhost:8080/"
        },
        "id": "NeFy-gT85y_p",
        "outputId": "f345e255-40a3-461b-a255-637cd10af4a7"
      },
      "execution_count": null,
      "outputs": [
        {
          "output_type": "execute_result",
          "data": {
            "text/plain": [
              "True"
            ]
          },
          "metadata": {},
          "execution_count": 59
        }
      ]
    },
    {
      "cell_type": "code",
      "source": [
        "animals.add('cat')       # Adding an element that is already in the set does nothing\n",
        "print(len(animals))       \n",
        "animals.remove('cat')    # Remove an element from a set\n",
        "print(len(animals)) "
      ],
      "metadata": {
        "colab": {
          "base_uri": "https://localhost:8080/"
        },
        "id": "ELRwBaWm6uAS",
        "outputId": "372b2fba-6bd6-4b68-e663-30fe164fa716"
      },
      "execution_count": null,
      "outputs": [
        {
          "output_type": "stream",
          "name": "stdout",
          "text": [
            "3\n",
            "2\n"
          ]
        }
      ]
    },
    {
      "cell_type": "markdown",
      "source": [
        "#### Tuples"
      ],
      "metadata": {
        "id": "WkM-saaP-v2F"
      }
    },
    {
      "cell_type": "markdown",
      "source": [
        "Like lists but immutable"
      ],
      "metadata": {
        "id": "jXqcZJZr_QrS"
      }
    },
    {
      "cell_type": "code",
      "source": [
        "\n",
        "my_courses = (\"Machine Learning\", \"Pattern Recognition\", \"Image Processing\")\n",
        "my_grades = (16.5, 18.25, 16.5)\n"
      ],
      "metadata": {
        "id": "tazI1Ix667T1"
      },
      "execution_count": null,
      "outputs": []
    },
    {
      "cell_type": "code",
      "source": [
        "my_grades[1] \n",
        "my_grades[1] = 1000"
      ],
      "metadata": {
        "colab": {
          "base_uri": "https://localhost:8080/",
          "height": 184
        },
        "id": "Zll6H-91_V7Y",
        "outputId": "173f9645-7f0d-470a-c27f-100ba1fcf83c"
      },
      "execution_count": null,
      "outputs": [
        {
          "output_type": "error",
          "ename": "TypeError",
          "evalue": "ignored",
          "traceback": [
            "\u001b[0;31m---------------------------------------------------------------------------\u001b[0m",
            "\u001b[0;31mTypeError\u001b[0m                                 Traceback (most recent call last)",
            "\u001b[0;32m<ipython-input-75-904b0e2d622d>\u001b[0m in \u001b[0;36m<module>\u001b[0;34m()\u001b[0m\n\u001b[1;32m      1\u001b[0m \u001b[0mmy_grades\u001b[0m\u001b[0;34m[\u001b[0m\u001b[0;36m1\u001b[0m\u001b[0;34m]\u001b[0m\u001b[0;34m\u001b[0m\u001b[0;34m\u001b[0m\u001b[0m\n\u001b[0;32m----> 2\u001b[0;31m \u001b[0mmy_grades\u001b[0m\u001b[0;34m[\u001b[0m\u001b[0;36m1\u001b[0m\u001b[0;34m]\u001b[0m \u001b[0;34m=\u001b[0m \u001b[0;36m1000\u001b[0m\u001b[0;34m\u001b[0m\u001b[0;34m\u001b[0m\u001b[0m\n\u001b[0m",
            "\u001b[0;31mTypeError\u001b[0m: 'tuple' object does not support item assignment"
          ]
        }
      ]
    },
    {
      "cell_type": "markdown",
      "source": [
        "###Loops In Python => for , while , if"
      ],
      "metadata": {
        "id": "eau8qIoh_mP4"
      }
    },
    {
      "cell_type": "markdown",
      "source": [
        "###If statement"
      ],
      "metadata": {
        "id": "gidwJ5o9-ovb"
      }
    },
    {
      "cell_type": "code",
      "source": [
        "a = 32\n",
        "b = 31\n",
        "if b > a:\n",
        "    print(\"b is greater than a\")\n",
        "elif a == b:\n",
        "  print(\"a and b are equal\")\n",
        "elif b < a :\n",
        "  print('b is less than a')"
      ],
      "metadata": {
        "colab": {
          "base_uri": "https://localhost:8080/",
          "height": 131
        },
        "id": "n_az-PFK-rSq",
        "outputId": "7247cb65-a64c-400b-c284-d1e04ec3d527"
      },
      "execution_count": null,
      "outputs": [
        {
          "output_type": "error",
          "ename": "SyntaxError",
          "evalue": "ignored",
          "traceback": [
            "\u001b[0;36m  File \u001b[0;32m\"<ipython-input-66-084bb0e224f5>\"\u001b[0;36m, line \u001b[0;32m5\u001b[0m\n\u001b[0;31m    elif a == b\u001b[0m\n\u001b[0m               ^\u001b[0m\n\u001b[0;31mSyntaxError\u001b[0m\u001b[0;31m:\u001b[0m invalid syntax\n"
          ]
        }
      ]
    },
    {
      "cell_type": "code",
      "source": [
        "a = 330\n",
        "b = 330\n",
        "print(\"A\") if a > b else print(\"=\") if a == b else print(\"B\")"
      ],
      "metadata": {
        "colab": {
          "base_uri": "https://localhost:8080/"
        },
        "id": "WCVy5tGRAigC",
        "outputId": "7239f49a-0b15-4ce1-d5f5-5daa4f2fb95a"
      },
      "execution_count": null,
      "outputs": [
        {
          "output_type": "stream",
          "name": "stdout",
          "text": [
            "=\n"
          ]
        }
      ]
    },
    {
      "cell_type": "markdown",
      "source": [
        "###While loops\n"
      ],
      "metadata": {
        "id": "hHfBlEMuH3BD"
      }
    },
    {
      "cell_type": "code",
      "source": [
        "i = 1\n",
        "while i < 6:\n",
        "  print(i)\n",
        "  i += 1\n",
        "\n",
        "#Note about Indentation"
      ],
      "metadata": {
        "id": "nSW_0ln4_nFy",
        "colab": {
          "base_uri": "https://localhost:8080/"
        },
        "outputId": "d51762c6-222d-4377-c628-a7547da4ac0c"
      },
      "execution_count": null,
      "outputs": [
        {
          "output_type": "stream",
          "name": "stdout",
          "text": [
            "1\n",
            "2\n",
            "3\n",
            "4\n",
            "5\n"
          ]
        }
      ]
    },
    {
      "cell_type": "code",
      "source": [
        "i = 2\n",
        "while i < 6 :\n",
        "  print(i)\n",
        "   i += 1"
      ],
      "metadata": {
        "id": "C-22bqwR_fQC",
        "colab": {
          "base_uri": "https://localhost:8080/"
        },
        "outputId": "87f09c4d-24fb-41a0-c9cd-16775b07473f"
      },
      "execution_count": null,
      "outputs": [
        {
          "output_type": "stream",
          "name": "stdout",
          "text": [
            "2\n",
            "3\n",
            "4\n",
            "5\n"
          ]
        }
      ]
    },
    {
      "cell_type": "markdown",
      "source": [
        "###The break Statement\n",
        "With the break statement we can stop the loop even if the while condition is true:"
      ],
      "metadata": {
        "id": "3BAidmhs9O9H"
      }
    },
    {
      "cell_type": "code",
      "source": [
        "i = 1\n",
        "while i < 6:\n",
        "  print(i)\n",
        "  if i == 3:\n",
        "    break\n",
        "  i += 1"
      ],
      "metadata": {
        "colab": {
          "base_uri": "https://localhost:8080/"
        },
        "id": "wIaEYBx-GVzl",
        "outputId": "42b0bc8a-e211-48ac-c16b-65727db9a72d"
      },
      "execution_count": null,
      "outputs": [
        {
          "output_type": "stream",
          "name": "stdout",
          "text": [
            "1\n",
            "2\n",
            "3\n"
          ]
        }
      ]
    },
    {
      "cell_type": "code",
      "source": [
        "i = 0\n",
        "while i < 6:\n",
        "  i += 1\n",
        "  if i == 3:\n",
        "    continue\n",
        "  print(i)"
      ],
      "metadata": {
        "colab": {
          "base_uri": "https://localhost:8080/"
        },
        "id": "ny_-obqd-zJT",
        "outputId": "5ce1cf24-599d-45bd-c87e-e5b6ee9b1986"
      },
      "execution_count": null,
      "outputs": [
        {
          "output_type": "stream",
          "name": "stdout",
          "text": [
            "1\n",
            "2\n",
            "4\n",
            "5\n",
            "6\n"
          ]
        }
      ]
    },
    {
      "cell_type": "markdown",
      "source": [
        "For loops"
      ],
      "metadata": {
        "id": "va-U7TFgBkMr"
      }
    },
    {
      "cell_type": "code",
      "source": [
        "\n",
        "numbers = [6, 5, 3, 8, 4, 2, 5, 4, 11]\n",
        "sum = 0\n",
        "for deep in numbers:\n",
        "    sum = sum+deep\n",
        "print(\"The sum is\", sum)"
      ],
      "metadata": {
        "colab": {
          "base_uri": "https://localhost:8080/"
        },
        "id": "3LfMvojMBlRs",
        "outputId": "2b5eac21-ef1b-4267-f436-9b74a413ad30"
      },
      "execution_count": null,
      "outputs": [
        {
          "output_type": "stream",
          "name": "stdout",
          "text": [
            "The sum is 48\n"
          ]
        }
      ]
    },
    {
      "cell_type": "markdown",
      "source": [
        ""
      ],
      "metadata": {
        "id": "4csdrV-OHUJc"
      }
    },
    {
      "cell_type": "markdown",
      "source": [
        "For using RANGE"
      ],
      "metadata": {
        "id": "ANKbecztHUN1"
      }
    },
    {
      "cell_type": "code",
      "source": [
        "print((range(10)))\n",
        "print(list(range(2, 8)))\n",
        "print(list(range(2, 20, 3)))"
      ],
      "metadata": {
        "colab": {
          "base_uri": "https://localhost:8080/"
        },
        "id": "shF5qdGVHVui",
        "outputId": "c27b78b8-f4cb-471e-eb9a-844a5fe12f3b"
      },
      "execution_count": null,
      "outputs": [
        {
          "output_type": "stream",
          "name": "stdout",
          "text": [
            "range(0, 10)\n",
            "[2, 3, 4, 5, 6, 7]\n",
            "[2, 5, 8, 11, 14, 17]\n"
          ]
        }
      ]
    },
    {
      "cell_type": "code",
      "source": [
        "\n",
        "courses = ['deep learning', 'reinforcement learning', 'math']\n",
        "\n",
        "for item in range(len(courses)):\n",
        "    print(item) \n",
        "    print(item)\n",
        "    print(\"I like\", courses[item])"
      ],
      "metadata": {
        "colab": {
          "base_uri": "https://localhost:8080/"
        },
        "id": "Ds05euBqHVyP",
        "outputId": "653a38e2-45a1-401b-d900-47eaffc14605"
      },
      "execution_count": null,
      "outputs": [
        {
          "output_type": "stream",
          "name": "stdout",
          "text": [
            "0\n",
            "0\n",
            "I like deep learning\n",
            "1\n",
            "1\n",
            "I like reinforcement learning\n",
            "2\n",
            "2\n",
            "I like math\n"
          ]
        }
      ]
    },
    {
      "cell_type": "code",
      "source": [
        "courses = ['deep learning', 'reinforcement learning', 'math']\n",
        "\n",
        "for i in enumerate(courses):\n",
        "    print(i)\n",
        "\n"
      ],
      "metadata": {
        "colab": {
          "base_uri": "https://localhost:8080/"
        },
        "id": "a7NXf5ui2daT",
        "outputId": "2e2de610-a9be-46f9-afd7-5bd8a204c866"
      },
      "execution_count": null,
      "outputs": [
        {
          "output_type": "stream",
          "name": "stdout",
          "text": [
            "(0, 'deep learning')\n",
            "(1, 'reinforcement learning')\n",
            "(2, 'math')\n"
          ]
        }
      ]
    },
    {
      "cell_type": "code",
      "source": [
        "list_of_lists = [[1, 2, 3], [4, 5, 6], [7, 8, 9]]\n",
        "print(list_of_lists[2][2])\n",
        "for item in list_of_lists:\n",
        "    #for x in item:\n",
        "        print(item)"
      ],
      "metadata": {
        "colab": {
          "base_uri": "https://localhost:8080/"
        },
        "id": "cCXCwtuXJRJQ",
        "outputId": "10de71de-a87b-4d13-fb64-470163a2a25c"
      },
      "execution_count": null,
      "outputs": [
        {
          "output_type": "stream",
          "name": "stdout",
          "text": [
            "9\n",
            "[1, 2, 3]\n",
            "[4, 5, 6]\n",
            "[7, 8, 9]\n"
          ]
        }
      ]
    },
    {
      "cell_type": "markdown",
      "source": [
        "*Functions*"
      ],
      "metadata": {
        "id": "3nk7SHXbDqD7"
      }
    },
    {
      "cell_type": "code",
      "source": [
        "#Syntax :\n",
        "'''\n",
        "def function_name(parameters):\n",
        "    \n",
        "\t\"\"\"docstring\"\"\"\n",
        "\tstatement(s)\n",
        "  return outputs...\n",
        "  '''"
      ],
      "metadata": {
        "colab": {
          "base_uri": "https://localhost:8080/",
          "height": 35
        },
        "id": "PopIusWwJSos",
        "outputId": "7e6c36cb-5912-44f4-a5f3-7dfef1102a5d"
      },
      "execution_count": null,
      "outputs": [
        {
          "output_type": "execute_result",
          "data": {
            "application/vnd.google.colaboratory.intrinsic+json": {
              "type": "string"
            },
            "text/plain": [
              "'\\ndef function_name(parameters):\\n\\t\"\"\"docstring\"\"\"\\n\\tstatement(s)\\n  return outputs...\\n  '"
            ]
          },
          "metadata": {},
          "execution_count": 19
        }
      ]
    },
    {
      "cell_type": "code",
      "source": [
        "def adobe(x):\n",
        "    if x > 0:\n",
        "        return 'positive'\n",
        "    elif x < 0:\n",
        "        return 'negative'\n",
        "    else:\n",
        "        return 'zero'\n",
        "\n",
        "\n",
        "for x in [-1, 0, 1]:\n",
        "    print(adobe(x))"
      ],
      "metadata": {
        "colab": {
          "base_uri": "https://localhost:8080/"
        },
        "id": "o-_bH4L9LHZJ",
        "outputId": "79b3a662-c173-4f96-c73d-2312733d70e4"
      },
      "execution_count": null,
      "outputs": [
        {
          "output_type": "stream",
          "name": "stdout",
          "text": [
            "negative\n",
            "zero\n",
            "positive\n"
          ]
        }
      ]
    },
    {
      "cell_type": "code",
      "source": [
        "def hello(name, loud=False):\n",
        "    if loud:\n",
        "        print('HELLO {}'.format(name.upper()))\n",
        "    else:\n",
        "        print('HELLO {}'.format(name))\n",
        "\n",
        "hello('Bob')\n",
        "hello('Fred', loud=True)"
      ],
      "metadata": {
        "colab": {
          "base_uri": "https://localhost:8080/"
        },
        "id": "cpQmJ2_rOoew",
        "outputId": "31dac519-fd05-4c3b-c5e2-8946d22ac90d"
      },
      "execution_count": null,
      "outputs": [
        {
          "output_type": "stream",
          "name": "stdout",
          "text": [
            "HELLO Bob\n",
            "HELLO FRED\n"
          ]
        }
      ]
    },
    {
      "cell_type": "markdown",
      "source": [
        "Libraries in python"
      ],
      "metadata": {
        "id": "2eq9lImEPvFu"
      }
    },
    {
      "cell_type": "markdown",
      "source": [
        "Install"
      ],
      "metadata": {
        "id": "g61U-MKWP76K"
      }
    },
    {
      "cell_type": "code",
      "source": [
        "!pip install numpy"
      ],
      "metadata": {
        "colab": {
          "base_uri": "https://localhost:8080/"
        },
        "id": "jhWIYEpOP9A4",
        "outputId": "ffab1146-622b-4110-ce9a-652b500df6e2"
      },
      "execution_count": null,
      "outputs": [
        {
          "output_type": "stream",
          "name": "stdout",
          "text": [
            "Requirement already satisfied: numpy in /usr/local/lib/python3.7/dist-packages (1.19.5)\n"
          ]
        }
      ]
    },
    {
      "cell_type": "code",
      "source": [
        "import numpy as np "
      ],
      "metadata": {
        "id": "dwyucpkxPwxI"
      },
      "execution_count": null,
      "outputs": []
    }
  ]
}