{
  "nbformat": 4,
  "nbformat_minor": 0,
  "metadata": {
    "colab": {
      "provenance": [],
      "gpuType": "T4"
    },
    "kernelspec": {
      "name": "python3",
      "display_name": "Python 3"
    },
    "language_info": {
      "name": "python"
    },
    "accelerator": "GPU"
  },
  "cells": [
    {
      "cell_type": "code",
      "execution_count": null,
      "metadata": {
        "id": "zuFxarNtmqZE"
      },
      "outputs": [],
      "source": [
        "from tensorflow.keras.layers import BatchNormalization\n",
        "from tensorflow.keras.layers import Conv2D\n",
        "from tensorflow.keras.layers import Conv2DTranspose\n",
        "from tensorflow.keras.layers import LeakyReLU\n",
        "from tensorflow.keras.layers import Activation\n",
        "from tensorflow.keras.layers import Flatten\n",
        "from tensorflow.keras.layers import Dense\n",
        "from tensorflow.keras.layers import Reshape\n",
        "from tensorflow.keras.layers import Input\n",
        "from tensorflow.keras.models import Model\n",
        "from tensorflow.keras import backend as K\n",
        "import numpy as np"
      ]
    },
    {
      "cell_type": "code",
      "source": [
        "inputshape = (28,28,1)\n",
        "inputs = Input(shape = inputshape)\n",
        "x = inputs\n",
        "x = Conv2D(32 , (3,3) , strides=2 , padding='same')(x)\n",
        "x = LeakyReLU(alpha=0.2)(x)\n",
        "x = BatchNormalization(axis = -1)(x)\n",
        "x = Conv2D(64 , (3,3) , strides=2 , padding='same' )(x)\n",
        "x = LeakyReLU(alpha=0.2)(x)\n",
        "x = BatchNormalization(axis = -1)(x)\n",
        "\n"
      ],
      "metadata": {
        "id": "c1FTDR6uoNEz"
      },
      "execution_count": null,
      "outputs": []
    },
    {
      "cell_type": "code",
      "source": [
        "x = Flatten()(x)\n",
        "latent = Dense(10)(x)\n",
        "encoder = Model(inputs , latent , name = 'encoder')"
      ],
      "metadata": {
        "id": "0XTLaSlIoOl6"
      },
      "execution_count": null,
      "outputs": []
    },
    {
      "cell_type": "code",
      "source": [
        "encoder.summary()"
      ],
      "metadata": {
        "colab": {
          "base_uri": "https://localhost:8080/"
        },
        "id": "qaEA13P7oQ80",
        "outputId": "c1115075-4eb3-473e-976e-be0638ffad7f"
      },
      "execution_count": null,
      "outputs": [
        {
          "output_type": "stream",
          "name": "stdout",
          "text": [
            "Model: \"encoder\"\n",
            "_________________________________________________________________\n",
            " Layer (type)                Output Shape              Param #   \n",
            "=================================================================\n",
            " input_1 (InputLayer)        [(None, 28, 28, 1)]       0         \n",
            "                                                                 \n",
            " conv2d (Conv2D)             (None, 14, 14, 32)        320       \n",
            "                                                                 \n",
            " leaky_re_lu (LeakyReLU)     (None, 14, 14, 32)        0         \n",
            "                                                                 \n",
            " batch_normalization (BatchN  (None, 14, 14, 32)       128       \n",
            " ormalization)                                                   \n",
            "                                                                 \n",
            " conv2d_1 (Conv2D)           (None, 7, 7, 64)          18496     \n",
            "                                                                 \n",
            " leaky_re_lu_1 (LeakyReLU)   (None, 7, 7, 64)          0         \n",
            "                                                                 \n",
            " batch_normalization_1 (Batc  (None, 7, 7, 64)         256       \n",
            " hNormalization)                                                 \n",
            "                                                                 \n",
            " flatten (Flatten)           (None, 3136)              0         \n",
            "                                                                 \n",
            " dense (Dense)               (None, 10)                31370     \n",
            "                                                                 \n",
            "=================================================================\n",
            "Total params: 50,570\n",
            "Trainable params: 50,378\n",
            "Non-trainable params: 192\n",
            "_________________________________________________________________\n"
          ]
        }
      ]
    },
    {
      "cell_type": "code",
      "source": [
        "latentInputs = Input(shape=(10,))\n",
        "volumeSize = (None,7,7,64)\n",
        "x = Dense(np.prod(volumeSize[1:]))(latentInputs)\n",
        "x = Reshape((volumeSize[1], volumeSize[2], volumeSize[3]))(x)\n",
        "x = Conv2DTranspose(64, (3, 3), strides=2,padding=\"same\")(x)\n",
        "x = LeakyReLU(alpha=0.2)(x)\n",
        "x = BatchNormalization(axis= -1)(x)\n",
        "x = Conv2DTranspose(32, (3, 3), strides=2,padding=\"same\")(x)\n",
        "x = LeakyReLU(alpha=0.2)(x)\n",
        "x = BatchNormalization(axis= -1)(x)\n",
        "x = Conv2DTranspose(1, (3, 3), padding=\"same\")(x)\n",
        "outputs = Activation(\"sigmoid\")(x)\n",
        "decoder = Model(latentInputs, outputs, name=\"decoder\")\n",
        "decoder.summary()"
      ],
      "metadata": {
        "colab": {
          "base_uri": "https://localhost:8080/"
        },
        "id": "CMqTvFeOoStb",
        "outputId": "3027aa45-4305-41b1-bdc6-2f083a427596"
      },
      "execution_count": null,
      "outputs": [
        {
          "output_type": "stream",
          "name": "stdout",
          "text": [
            "Model: \"decoder\"\n",
            "_________________________________________________________________\n",
            " Layer (type)                Output Shape              Param #   \n",
            "=================================================================\n",
            " input_2 (InputLayer)        [(None, 10)]              0         \n",
            "                                                                 \n",
            " dense_1 (Dense)             (None, 3136)              34496     \n",
            "                                                                 \n",
            " reshape (Reshape)           (None, 7, 7, 64)          0         \n",
            "                                                                 \n",
            " conv2d_transpose (Conv2DTra  (None, 14, 14, 64)       36928     \n",
            " nspose)                                                         \n",
            "                                                                 \n",
            " leaky_re_lu_2 (LeakyReLU)   (None, 14, 14, 64)        0         \n",
            "                                                                 \n",
            " batch_normalization_2 (Batc  (None, 14, 14, 64)       256       \n",
            " hNormalization)                                                 \n",
            "                                                                 \n",
            " conv2d_transpose_1 (Conv2DT  (None, 28, 28, 32)       18464     \n",
            " ranspose)                                                       \n",
            "                                                                 \n",
            " leaky_re_lu_3 (LeakyReLU)   (None, 28, 28, 32)        0         \n",
            "                                                                 \n",
            " batch_normalization_3 (Batc  (None, 28, 28, 32)       128       \n",
            " hNormalization)                                                 \n",
            "                                                                 \n",
            " conv2d_transpose_2 (Conv2DT  (None, 28, 28, 1)        289       \n",
            " ranspose)                                                       \n",
            "                                                                 \n",
            " activation (Activation)     (None, 28, 28, 1)         0         \n",
            "                                                                 \n",
            "=================================================================\n",
            "Total params: 90,561\n",
            "Trainable params: 90,369\n",
            "Non-trainable params: 192\n",
            "_________________________________________________________________\n"
          ]
        }
      ]
    },
    {
      "cell_type": "code",
      "source": [
        "autoencoder = Model(inputs, decoder(encoder(inputs)),name=\"autoencoder\")\n",
        "autoencoder.summary()"
      ],
      "metadata": {
        "colab": {
          "base_uri": "https://localhost:8080/"
        },
        "id": "QlyIxFBwoVId",
        "outputId": "1d5d1ff6-0f46-488c-db64-14dcd45a8f5a"
      },
      "execution_count": null,
      "outputs": [
        {
          "output_type": "stream",
          "name": "stdout",
          "text": [
            "Model: \"autoencoder\"\n",
            "_________________________________________________________________\n",
            " Layer (type)                Output Shape              Param #   \n",
            "=================================================================\n",
            " input_1 (InputLayer)        [(None, 28, 28, 1)]       0         \n",
            "                                                                 \n",
            " encoder (Functional)        (None, 10)                50570     \n",
            "                                                                 \n",
            " decoder (Functional)        (None, 28, 28, 1)         90561     \n",
            "                                                                 \n",
            "=================================================================\n",
            "Total params: 141,131\n",
            "Trainable params: 140,747\n",
            "Non-trainable params: 384\n",
            "_________________________________________________________________\n"
          ]
        }
      ]
    },
    {
      "cell_type": "code",
      "source": [
        "from tensorflow.keras.datasets import fashion_mnist\n",
        "((trainX, _), (testX, _)) = fashion_mnist.load_data()\n"
      ],
      "metadata": {
        "id": "yly_1d_apWSS",
        "colab": {
          "base_uri": "https://localhost:8080/"
        },
        "outputId": "b9b6b0c5-f921-406a-f942-54591498099a"
      },
      "execution_count": null,
      "outputs": [
        {
          "output_type": "stream",
          "name": "stdout",
          "text": [
            "Downloading data from https://storage.googleapis.com/tensorflow/tf-keras-datasets/train-labels-idx1-ubyte.gz\n",
            "29515/29515 [==============================] - 0s 1us/step\n",
            "Downloading data from https://storage.googleapis.com/tensorflow/tf-keras-datasets/train-images-idx3-ubyte.gz\n",
            "26421880/26421880 [==============================] - 2s 0us/step\n",
            "Downloading data from https://storage.googleapis.com/tensorflow/tf-keras-datasets/t10k-labels-idx1-ubyte.gz\n",
            "5148/5148 [==============================] - 0s 0us/step\n",
            "Downloading data from https://storage.googleapis.com/tensorflow/tf-keras-datasets/t10k-images-idx3-ubyte.gz\n",
            "4422102/4422102 [==============================] - 1s 0us/step\n"
          ]
        }
      ]
    },
    {
      "cell_type": "code",
      "source": [
        "print(trainX.shape)"
      ],
      "metadata": {
        "colab": {
          "base_uri": "https://localhost:8080/"
        },
        "id": "TgF5MzlyoWpp",
        "outputId": "2b864ef9-85a3-4a5d-d032-0c34bcf036b1"
      },
      "execution_count": null,
      "outputs": [
        {
          "output_type": "stream",
          "name": "stdout",
          "text": [
            "(60000, 28, 28)\n"
          ]
        }
      ]
    },
    {
      "cell_type": "code",
      "source": [
        "# add a channel dimension to every image in the dataset, then scale\n",
        "# the pixel intensities to the range [0, 1]\n",
        "trainX = np.expand_dims(trainX, axis=-1)\n",
        "testX = np.expand_dims(testX, axis=-1)\n",
        "trainX = trainX.astype(\"float32\") / 255.0\n",
        "testX = testX.astype(\"float32\") / 255.0\n"
      ],
      "metadata": {
        "id": "3hLs7Vswpzvb"
      },
      "execution_count": null,
      "outputs": []
    },
    {
      "cell_type": "code",
      "source": [
        "# sample noise from a random normal distribution centered at 0.5 (since\n",
        "# our images lie in the range [0, 1]) and a standard deviation of 0.5\n",
        "trainNoise = np.random.normal(loc=0.5, scale=0.5, size=trainX.shape)\n",
        "testNoise = np.random.normal(loc=0.5, scale=0.5, size=testX.shape)\n",
        "trainXNoisy = np.clip(trainX + trainNoise, 0, 1)\n",
        "testXNoisy = np.clip(testX + testNoise, 0, 1)"
      ],
      "metadata": {
        "id": "mf7Gqv7gpyN-"
      },
      "execution_count": null,
      "outputs": []
    },
    {
      "cell_type": "code",
      "source": [
        "from tensorflow.keras.optimizers import Adam\n",
        "import tensorflow as tf\n",
        "EPOCHS = 25\n",
        "BS = 32\n",
        "opt = Adam(lr=1e-3)\n",
        "autoencoder.compile(loss=\"mse\", optimizer=opt)\n",
        "# train the convolutional autoencoder\n",
        "history = autoencoder.fit(\n",
        "\ttrainXNoisy, trainX,\n",
        "\tvalidation_data=(testXNoisy, testX),\n",
        "\tepochs=EPOCHS,\n",
        "\tbatch_size=BS)"
      ],
      "metadata": {
        "colab": {
          "base_uri": "https://localhost:8080/"
        },
        "id": "NXuegTfpoXHb",
        "outputId": "d8fcd9ea-1b35-4052-e522-c5166f3d2921"
      },
      "execution_count": null,
      "outputs": [
        {
          "output_type": "stream",
          "name": "stderr",
          "text": [
            "WARNING:absl:`lr` is deprecated in Keras optimizer, please use `learning_rate` or use the legacy optimizer, e.g.,tf.keras.optimizers.legacy.Adam.\n"
          ]
        },
        {
          "output_type": "stream",
          "name": "stdout",
          "text": [
            "Epoch 1/25\n",
            "1875/1875 [==============================] - 26s 7ms/step - loss: 0.0258 - val_loss: 0.0213\n",
            "Epoch 2/25\n",
            "1875/1875 [==============================] - 12s 6ms/step - loss: 0.0207 - val_loss: 0.0204\n",
            "Epoch 3/25\n",
            "1875/1875 [==============================] - 11s 6ms/step - loss: 0.0198 - val_loss: 0.0202\n",
            "Epoch 4/25\n",
            "1875/1875 [==============================] - 11s 6ms/step - loss: 0.0193 - val_loss: 0.0198\n",
            "Epoch 5/25\n",
            "1875/1875 [==============================] - 11s 6ms/step - loss: 0.0190 - val_loss: 0.0189\n",
            "Epoch 6/25\n",
            "1875/1875 [==============================] - 12s 6ms/step - loss: 0.0187 - val_loss: 0.0191\n",
            "Epoch 7/25\n",
            "1875/1875 [==============================] - 12s 6ms/step - loss: 0.0185 - val_loss: 0.0190\n",
            "Epoch 8/25\n",
            "1875/1875 [==============================] - 11s 6ms/step - loss: 0.0183 - val_loss: 0.0185\n",
            "Epoch 9/25\n",
            "1875/1875 [==============================] - 12s 6ms/step - loss: 0.0182 - val_loss: 0.0205\n",
            "Epoch 10/25\n",
            "1875/1875 [==============================] - 12s 6ms/step - loss: 0.0181 - val_loss: 0.0184\n",
            "Epoch 11/25\n",
            "1875/1875 [==============================] - 12s 6ms/step - loss: 0.0179 - val_loss: 0.0181\n",
            "Epoch 12/25\n",
            "1875/1875 [==============================] - 11s 6ms/step - loss: 0.0179 - val_loss: 0.0181\n",
            "Epoch 13/25\n",
            "1875/1875 [==============================] - 12s 6ms/step - loss: 0.0177 - val_loss: 0.0180\n",
            "Epoch 14/25\n",
            "1875/1875 [==============================] - 12s 6ms/step - loss: 0.0177 - val_loss: 0.0182\n",
            "Epoch 15/25\n",
            "1875/1875 [==============================] - 12s 6ms/step - loss: 0.0176 - val_loss: 0.0196\n",
            "Epoch 16/25\n",
            "1875/1875 [==============================] - 11s 6ms/step - loss: 0.0175 - val_loss: 0.0197\n",
            "Epoch 17/25\n",
            "1875/1875 [==============================] - 11s 6ms/step - loss: 0.0175 - val_loss: 0.0188\n",
            "Epoch 18/25\n",
            "1875/1875 [==============================] - 11s 6ms/step - loss: 0.0174 - val_loss: 0.0184\n",
            "Epoch 19/25\n",
            "1875/1875 [==============================] - 12s 6ms/step - loss: 0.0174 - val_loss: 0.0178\n",
            "Epoch 20/25\n",
            "1875/1875 [==============================] - 11s 6ms/step - loss: 0.0173 - val_loss: 0.0180\n",
            "Epoch 21/25\n",
            "1875/1875 [==============================] - 12s 6ms/step - loss: 0.0173 - val_loss: 0.0178\n",
            "Epoch 22/25\n",
            "1875/1875 [==============================] - 11s 6ms/step - loss: 0.0172 - val_loss: 0.0176\n",
            "Epoch 23/25\n",
            "1875/1875 [==============================] - 11s 6ms/step - loss: 0.0172 - val_loss: 0.0176\n",
            "Epoch 24/25\n",
            "1875/1875 [==============================] - 11s 6ms/step - loss: 0.0172 - val_loss: 0.0182\n",
            "Epoch 25/25\n",
            "1875/1875 [==============================] - 11s 6ms/step - loss: 0.0171 - val_loss: 0.0181\n"
          ]
        }
      ]
    },
    {
      "cell_type": "code",
      "source": [
        "import matplotlib.pyplot as plt\n",
        "plt.figure(figsize=(12, 6))\n",
        "plt.plot(history.history['loss'], label=\"Training loss\")\n",
        "plt.plot(history.history['val_loss'], label=\"Validation loss\")\n",
        "plt.legend()\n",
        "plt.title(\"Training vs Validation Loss\")\n",
        "plt.show()"
      ],
      "metadata": {
        "colab": {
          "base_uri": "https://localhost:8080/",
          "height": 545
        },
        "id": "Jfbfc5VjoZEc",
        "outputId": "0fa2d172-c60e-4383-ba4a-46211d773021"
      },
      "execution_count": null,
      "outputs": [
        {
          "output_type": "display_data",
          "data": {
            "text/plain": [
              "<Figure size 1200x600 with 1 Axes>"
            ],
            "image/png": "[encoded data removed]"
          },
          "metadata": {}
        }
      ]
    },
    {
      "cell_type": "markdown",
      "source": [
        "Let's Test"
      ],
      "metadata": {
        "id": "k58sCk4np2_f"
      }
    },
    {
      "cell_type": "code",
      "source": [
        "# use the convolutional autoencoder to make predictions on the\n",
        "# testing images, then initialize our list of output images\n",
        "print(\"[INFO] making predictions...\")\n",
        "decoded = autoencoder.predict(testXNoisy)\n",
        "outputs = None"
      ],
      "metadata": {
        "colab": {
          "base_uri": "https://localhost:8080/"
        },
        "id": "O-oZGLYep2KV",
        "outputId": "003a9b3a-55bd-4252-8876-753752ffafa8"
      },
      "execution_count": null,
      "outputs": [
        {
          "output_type": "stream",
          "name": "stdout",
          "text": [
            "[INFO] making predictions...\n",
            "313/313 [==============================] - 1s 2ms/step\n"
          ]
        }
      ]
    },
    {
      "cell_type": "code",
      "source": [
        "# loop over our number of output samples\n",
        "for i in range(0,8):\n",
        "\t# grab the original image and reconstructed image\n",
        "\toriginal = (testXNoisy[i] * 255).astype(\"uint8\")\n",
        "\trecon = (decoded[i] * 255).astype(\"uint8\")\n",
        "\n",
        "\t# stack the original and reconstructed image side-by-side\n",
        "\toutput = np.hstack([original, recon])\n",
        " \t# if the outputs array is empty, initialize it as the current\n",
        "\t# side-by-side image display\n",
        "\tif outputs is None:\n",
        "\t\toutputs = output\n",
        "\n",
        "\t# otherwise, vertically stack the outputs\n",
        "\telse:\n",
        "\t\toutputs = np.vstack([outputs, output])\n",
        "import cv2\n",
        "# save the outputs image to disk\n",
        "cv2.imwrite(\"output.png\", outputs)"
      ],
      "metadata": {
        "colab": {
          "base_uri": "https://localhost:8080/"
        },
        "id": "A_u4evdgqAUy",
        "outputId": "dc852cbc-08c5-4a45-961a-bdcc90cac4e6"
      },
      "execution_count": null,
      "outputs": [
        {
          "output_type": "execute_result",
          "data": {
            "text/plain": [
              "True"
            ]
          },
          "metadata": {},
          "execution_count": 32
        }
      ]
    }
  ]
}