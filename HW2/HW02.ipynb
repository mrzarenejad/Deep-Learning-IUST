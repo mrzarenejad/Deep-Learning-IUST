{
  "nbformat": 4,
  "nbformat_minor": 0,
  "metadata": {
    "colab": {
      "name": "HW02.ipynb",
      "provenance": [],
      "collapsed_sections": []
    },
    "kernelspec": {
      "name": "python3",
      "display_name": "Python 3"
    },
    "language_info": {
      "name": "python"
    }
  },
  "cells": [
    {
      "cell_type": "code",
      "source": [
        "import numpy as np\n",
        "import matplotlib.pyplot as plt"
      ],
      "metadata": {
        "id": "jlXMbBwphCyn"
      },
      "execution_count": 1,
      "outputs": []
    },
    {
      "cell_type": "markdown",
      "source": [
        "Question 1"
      ],
      "metadata": {
        "id": "vmJJBEGYzlKd"
      }
    },
    {
      "cell_type": "code",
      "source": [
        "A=np.full((1,10),0)\n",
        "A[0,4]=1\n",
        "print(A)"
      ],
      "metadata": {
        "id": "v-5jo2Oj0d9E",
        "colab": {
          "base_uri": "https://localhost:8080/"
        },
        "outputId": "d836b098-992b-41e7-b392-9318b475f262"
      },
      "execution_count": 5,
      "outputs": [
        {
          "output_type": "stream",
          "name": "stdout",
          "text": [
            "[[0 0 0 0 1 0 0 0 0 0]]\n"
          ]
        }
      ]
    },
    {
      "cell_type": "markdown",
      "source": [
        "Question 2"
      ],
      "metadata": {
        "id": "V3xS2EF2g-Hk"
      }
    },
    {
      "cell_type": "code",
      "source": [
        "vec=np.array([1,2,3,4,5,6,7,8,9,10,11,12,13,14,15,16,17])\n",
        "vec1=np.empty_like(vec)\n",
        "for i in range(vec.size):\n",
        "    vec1[i]=vec[-i-1]\n",
        "print(vec1)"
      ],
      "metadata": {
        "colab": {
          "base_uri": "https://localhost:8080/"
        },
        "id": "BN-_boMJhBQY",
        "outputId": "5799049f-3c91-448d-98a5-b5855738bd69"
      },
      "execution_count": 6,
      "outputs": [
        {
          "output_type": "stream",
          "name": "stdout",
          "text": [
            "[17 16 15 14 13 12 11 10  9  8  7  6  5  4  3  2  1]\n"
          ]
        }
      ]
    },
    {
      "cell_type": "markdown",
      "source": [
        "Question 3"
      ],
      "metadata": {
        "id": "j3e51YvHIHqU"
      }
    },
    {
      "cell_type": "code",
      "source": [
        "mean=10.0\n",
        "variance=25.0\n",
        "bins=50\n",
        "n=10000\n",
        "\n",
        "A = np.sqrt(variance) * np.random.randn(n) + mean\n",
        "plt.hist(A, bins)\n",
        "plt.xlim(-1.5*variance,1.5*variance)\n",
        "plt.title(\" Mean = {} , Variance = {}\".format(mean,variance));"
      ],
      "metadata": {
        "colab": {
          "base_uri": "https://localhost:8080/",
          "height": 281
        },
        "id": "h7OX6ZslIJ8o",
        "outputId": "70c7cc06-5945-40f7-f860-d5c76069d23b"
      },
      "execution_count": null,
      "outputs": [
        {
          "output_type": "display_data",
          "data": {
            "image/png": "[encoded data removed]",
            "text/plain": [
              "<Figure size 432x288 with 1 Axes>"
            ]
          },
          "metadata": {
            "needs_background": "light"
          }
        }
      ]
    },
    {
      "cell_type": "markdown",
      "source": [
        "Question 4"
      ],
      "metadata": {
        "id": "j_ovRlMEJV5z"
      }
    },
    {
      "cell_type": "code",
      "source": [
        "A1= np.ones(shape=(8,1))\n",
        "A2= np.zeros(shape=(8,8))\n",
        "A3= np.ones(shape=(1,10))\n",
        "A2= np.hstack((A1,A2))\n",
        "A2= np.hstack((A2,A1))\n",
        "A2= np.vstack((A3,A2))\n",
        "A2= np.vstack((A2,A3))\n",
        "print(A2)"
      ],
      "metadata": {
        "colab": {
          "base_uri": "https://localhost:8080/"
        },
        "id": "BgO-cOXoJYYE",
        "outputId": "72220229-7d12-44ad-a24c-e26f966a20a5"
      },
      "execution_count": null,
      "outputs": [
        {
          "output_type": "stream",
          "name": "stdout",
          "text": [
            "[[1. 1. 1. 1. 1. 1. 1. 1. 1. 1.]\n",
            " [1. 0. 0. 0. 0. 0. 0. 0. 0. 1.]\n",
            " [1. 0. 0. 0. 0. 0. 0. 0. 0. 1.]\n",
            " [1. 0. 0. 0. 0. 0. 0. 0. 0. 1.]\n",
            " [1. 0. 0. 0. 0. 0. 0. 0. 0. 1.]\n",
            " [1. 0. 0. 0. 0. 0. 0. 0. 0. 1.]\n",
            " [1. 0. 0. 0. 0. 0. 0. 0. 0. 1.]\n",
            " [1. 0. 0. 0. 0. 0. 0. 0. 0. 1.]\n",
            " [1. 0. 0. 0. 0. 0. 0. 0. 0. 1.]\n",
            " [1. 1. 1. 1. 1. 1. 1. 1. 1. 1.]]\n"
          ]
        }
      ]
    },
    {
      "cell_type": "markdown",
      "source": [
        "Question 5"
      ],
      "metadata": {
        "id": "LJWVvl_pRDS_"
      }
    },
    {
      "cell_type": "code",
      "source": [
        "A=[1,2,3,4,5]\n",
        "i=3\n",
        "A=np.insert(A,A[:-1]*i,0).astype(np.float64)\n",
        "print(A)"
      ],
      "metadata": {
        "colab": {
          "base_uri": "https://localhost:8080/"
        },
        "id": "QDlwOfYXRGIl",
        "outputId": "c9107700-6c49-4ed1-e46f-2a1013855243"
      },
      "execution_count": null,
      "outputs": [
        {
          "output_type": "stream",
          "name": "stdout",
          "text": [
            "[1. 0. 0. 0. 2. 0. 0. 0. 3. 0. 0. 0. 4. 0. 0. 0. 5.]\n"
          ]
        }
      ]
    },
    {
      "cell_type": "markdown",
      "source": [
        "Question 6"
      ],
      "metadata": {
        "id": "bk9qqpyefm_S"
      }
    },
    {
      "cell_type": "code",
      "source": [
        "A1=np.reshape(np.arange(0.01,1.01,step=0.01),(10,10))\n",
        "print(A1)\n",
        "A2=np.reshape(np.linspace(0.01,1,num=100),(10,10))\n",
        "print(\"--------------------------------------------------------\")\n",
        "print(A2)"
      ],
      "metadata": {
        "colab": {
          "base_uri": "https://localhost:8080/"
        },
        "id": "z3I6GUySfqTE",
        "outputId": "18d875ad-a6bf-4482-fc9c-b0c478eb4b72"
      },
      "execution_count": null,
      "outputs": [
        {
          "output_type": "stream",
          "name": "stdout",
          "text": [
            "[[0.01 0.02 0.03 0.04 0.05 0.06 0.07 0.08 0.09 0.1 ]\n",
            " [0.11 0.12 0.13 0.14 0.15 0.16 0.17 0.18 0.19 0.2 ]\n",
            " [0.21 0.22 0.23 0.24 0.25 0.26 0.27 0.28 0.29 0.3 ]\n",
            " [0.31 0.32 0.33 0.34 0.35 0.36 0.37 0.38 0.39 0.4 ]\n",
            " [0.41 0.42 0.43 0.44 0.45 0.46 0.47 0.48 0.49 0.5 ]\n",
            " [0.51 0.52 0.53 0.54 0.55 0.56 0.57 0.58 0.59 0.6 ]\n",
            " [0.61 0.62 0.63 0.64 0.65 0.66 0.67 0.68 0.69 0.7 ]\n",
            " [0.71 0.72 0.73 0.74 0.75 0.76 0.77 0.78 0.79 0.8 ]\n",
            " [0.81 0.82 0.83 0.84 0.85 0.86 0.87 0.88 0.89 0.9 ]\n",
            " [0.91 0.92 0.93 0.94 0.95 0.96 0.97 0.98 0.99 1.  ]]\n",
            "--------------------------------------------------------\n",
            "[[0.01 0.02 0.03 0.04 0.05 0.06 0.07 0.08 0.09 0.1 ]\n",
            " [0.11 0.12 0.13 0.14 0.15 0.16 0.17 0.18 0.19 0.2 ]\n",
            " [0.21 0.22 0.23 0.24 0.25 0.26 0.27 0.28 0.29 0.3 ]\n",
            " [0.31 0.32 0.33 0.34 0.35 0.36 0.37 0.38 0.39 0.4 ]\n",
            " [0.41 0.42 0.43 0.44 0.45 0.46 0.47 0.48 0.49 0.5 ]\n",
            " [0.51 0.52 0.53 0.54 0.55 0.56 0.57 0.58 0.59 0.6 ]\n",
            " [0.61 0.62 0.63 0.64 0.65 0.66 0.67 0.68 0.69 0.7 ]\n",
            " [0.71 0.72 0.73 0.74 0.75 0.76 0.77 0.78 0.79 0.8 ]\n",
            " [0.81 0.82 0.83 0.84 0.85 0.86 0.87 0.88 0.89 0.9 ]\n",
            " [0.91 0.92 0.93 0.94 0.95 0.96 0.97 0.98 0.99 1.  ]]\n"
          ]
        }
      ]
    },
    {
      "cell_type": "markdown",
      "source": [
        "Question 7"
      ],
      "metadata": {
        "id": "SDXMbLS1ow9k"
      }
    },
    {
      "cell_type": "code",
      "source": [
        "A=np.array([[ 1, 2, 3, 4, 5], [ 6, 7, 8, 9, 10], [11, 12, 13, 14, 15], [16, 17, 18, 19, 20], [21, 22, 23, 24, 25]])\n",
        "A1=A[2:5 ,1:5]\n",
        "print(A1)\n",
        "print(\"-----------------------\")\n",
        "A2=A[:,0:5:2]\n",
        "print(A2)\n",
        "print(\"-----------------------\")\n",
        "A3=A[0:5:2,0:5:2]\n",
        "print(A3)\n",
        "print(\"-----------------------\")"
      ],
      "metadata": {
        "colab": {
          "base_uri": "https://localhost:8080/"
        },
        "id": "sx3d0Z9gox2x",
        "outputId": "d5d3af16-1068-4a83-fc46-88e9fdfe2f68"
      },
      "execution_count": null,
      "outputs": [
        {
          "output_type": "stream",
          "name": "stdout",
          "text": [
            "[[12 13 14 15]\n",
            " [17 18 19 20]\n",
            " [22 23 24 25]]\n",
            "-----------------------\n",
            "[[ 1  3  5]\n",
            " [ 6  8 10]\n",
            " [11 13 15]\n",
            " [16 18 20]\n",
            " [21 23 25]]\n",
            "-----------------------\n",
            "[[ 1  3  5]\n",
            " [11 13 15]\n",
            " [21 23 25]]\n",
            "-----------------------\n"
          ]
        }
      ]
    }
  ]
}