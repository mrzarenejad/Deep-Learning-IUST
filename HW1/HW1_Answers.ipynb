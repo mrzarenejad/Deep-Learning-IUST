{
  "nbformat": 4,
  "nbformat_minor": 0,
  "metadata": {
    "colab": {
      "name": "HW1_Answers.ipynb",
      "provenance": [],
      "collapsed_sections": []
    },
    "kernelspec": {
      "name": "python3",
      "display_name": "Python 3"
    },
    "language_info": {
      "name": "python"
    }
  },
  "cells": [
    {
      "cell_type": "markdown",
      "source": [
        "Question 1"
      ],
      "metadata": {
        "id": "dEmOnsqbjCYn"
      }
    },
    {
      "cell_type": "code",
      "execution_count": 8,
      "metadata": {
        "colab": {
          "base_uri": "https://localhost:8080/"
        },
        "id": "LN-eodNOi31D",
        "outputId": "ca3fe4b9-e991-4c42-e778-8c43a1b231e9"
      },
      "outputs": [
        {
          "output_type": "stream",
          "name": "stdout",
          "text": [
            "0\n",
            "1\n",
            "1\n",
            "2\n",
            "3\n",
            "5\n",
            "8\n",
            "13\n",
            "21\n",
            "34\n"
          ]
        }
      ],
      "source": [
        "def fibo(n):\n",
        "    if not (n >= 0):\n",
        "        raise ValueError(f'Positive integer number expected, got \"{n}\"')\n",
        "    if n in {0, 1}:\n",
        "        return n\n",
        "    previous, fib_number = 0, 1\n",
        "    for _ in range(2, n + 1):\n",
        "        previous, fib_number = fib_number, previous + fib_number\n",
        "    return fib_number\n",
        "\n",
        "for i in range(10):\n",
        "    print(fibo(i))"
      ]
    },
    {
      "cell_type": "markdown",
      "source": [
        "Question 2"
      ],
      "metadata": {
        "id": "dAaBahHtmidh"
      }
    },
    {
      "cell_type": "code",
      "source": [
        "def factor(n):\n",
        "    factors = []\n",
        "    for i in range(1, n+1):\n",
        "       if (n % i) == 0:\n",
        "          factors.append(i)\n",
        "    return factors\n",
        "\n",
        "factor(36)"
      ],
      "metadata": {
        "colab": {
          "base_uri": "https://localhost:8080/"
        },
        "id": "dAFFnx0gmkcG",
        "outputId": "af5d6c65-34ee-4cb8-d0d0-b39b4a3a72b8"
      },
      "execution_count": 10,
      "outputs": [
        {
          "output_type": "execute_result",
          "data": {
            "text/plain": [
              "[1, 2, 3, 4, 6, 9, 12, 18, 36]"
            ]
          },
          "metadata": {},
          "execution_count": 10
        }
      ]
    },
    {
      "cell_type": "markdown",
      "source": [
        "Question 3"
      ],
      "metadata": {
        "id": "U8I709Fcm-sW"
      }
    },
    {
      "cell_type": "code",
      "source": [
        "lst = [1,2,[3,4],[5,[100,200,['iran']],34,23],3,5]\n",
        "\n",
        "print(len(lst))\n",
        "print(lst[3])\n",
        "print(len(lst[3]))\n",
        "print(lst[3][1])\n",
        "print(lst[3][1][2][0])\n",
        "\n",
        "\n"
      ],
      "metadata": {
        "colab": {
          "base_uri": "https://localhost:8080/"
        },
        "id": "Z8-zDVocnAGc",
        "outputId": "8d132c3e-c511-4938-905c-794d94e6debe"
      },
      "execution_count": 18,
      "outputs": [
        {
          "output_type": "stream",
          "name": "stdout",
          "text": [
            "6\n",
            "[5, [100, 200, ['iran']], 34, 23]\n",
            "4\n",
            "[100, 200, ['iran']]\n",
            "iran\n"
          ]
        }
      ]
    },
    {
      "cell_type": "markdown",
      "source": [
        "Question 4"
      ],
      "metadata": {
        "id": "VdB7feRb2T_e"
      }
    },
    {
      "cell_type": "code",
      "source": [
        "def domainsplit(x):\n",
        "    if x.endswith('.com'):\n",
        "       return x.split('@')[1][:-4]\n",
        "    elif x.endswith('.ir'):\n",
        "        return x.split('@')[1][:-3]\n",
        "\n",
        "print(domainsplit('moeinheidari7829@gmail.com'))\n",
        "print(domainsplit('moeinheidari78@yahoo.com'))\n",
        "print(domainsplit('moein_heidari@elec.iust.ac.ir'))\n"
      ],
      "metadata": {
        "colab": {
          "base_uri": "https://localhost:8080/"
        },
        "id": "s-nLd7Zx2VjN",
        "outputId": "9157f2bc-80c5-4b05-ef40-d760f6964338"
      },
      "execution_count": 24,
      "outputs": [
        {
          "output_type": "stream",
          "name": "stdout",
          "text": [
            "gmail\n",
            "yahoo\n",
            "elec.iust.ac\n"
          ]
        }
      ]
    },
    {
      "cell_type": "markdown",
      "source": [
        "Question 5"
      ],
      "metadata": {
        "id": "xrjbLxTs4BqS"
      }
    },
    {
      "cell_type": "code",
      "source": [
        "def caught_speeding(speed, is_birthday):\n",
        "    adjusted_speed = speed - 5 if is_birthday else speed\n",
        "    return \"No Ticket\" if adjusted_speed <= 60 else \"Big Ticket\" if adjusted_speed > 80 else \"Small Ticket\"\n",
        "\n",
        "caught_speeding(65 , True)\n",
        "caught_speeding(66 , True)"
      ],
      "metadata": {
        "colab": {
          "base_uri": "https://localhost:8080/",
          "height": 35
        },
        "id": "4iuyGlVc4Dmz",
        "outputId": "f37fb06d-486b-4914-961f-87327fe9efd6"
      },
      "execution_count": 34,
      "outputs": [
        {
          "output_type": "execute_result",
          "data": {
            "application/vnd.google.colaboratory.intrinsic+json": {
              "type": "string"
            },
            "text/plain": [
              "'Small Ticket'"
            ]
          },
          "metadata": {},
          "execution_count": 34
        }
      ]
    },
    {
      "cell_type": "markdown",
      "source": [
        "Question 6"
      ],
      "metadata": {
        "id": "_nWkcmre43wK"
      }
    },
    {
      "cell_type": "code",
      "source": [
        "planet = 'earth'\n",
        "diameter = 12742\n",
        "print('The diameter of {} is {}'.format(planet , diameter))\n",
        "print(f'The diameter of {planet} is {diameter}')\n",
        "print('The diameter of'  + '  ' + f'{planet}' +  '  ' + 'is' + ' ' +  f'{diameter}')\n"
      ],
      "metadata": {
        "colab": {
          "base_uri": "https://localhost:8080/"
        },
        "id": "cdU-d6Hb45Ay",
        "outputId": "9fa64146-e380-4a85-fa93-b7e03aa17a58"
      },
      "execution_count": 31,
      "outputs": [
        {
          "output_type": "stream",
          "name": "stdout",
          "text": [
            "The diameter of earth is 12742\n",
            "The diameter of earth is 12742\n",
            "The diameter of  earth  is 12742\n"
          ]
        }
      ]
    },
    {
      "cell_type": "code",
      "source": [
        ""
      ],
      "metadata": {
        "id": "s-sRMt3pmVzu"
      },
      "execution_count": null,
      "outputs": []
    }
  ]
}