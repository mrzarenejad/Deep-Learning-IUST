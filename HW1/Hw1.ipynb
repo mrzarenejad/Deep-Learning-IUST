{
  "nbformat": 4,
  "nbformat_minor": 0,
  "metadata": {
    "colab": {
      "provenance": []
    },
    "kernelspec": {
      "name": "python3",
      "display_name": "Python 3"
    },
    "language_info": {
      "name": "python"
    }
  },
  "cells": [
    {
      "cell_type": "markdown",
      "source": [
        "Question 1"
      ],
      "metadata": {
        "id": "lo58IUuA_2VP"
      }
    },
    {
      "cell_type": "code",
      "execution_count": null,
      "metadata": {
        "colab": {
          "base_uri": "https://localhost:8080/"
        },
        "id": "39RYDqzp_mTQ",
        "outputId": "9b601f0f-baff-4035-d205-dad36e822596"
      },
      "outputs": [
        {
          "output_type": "stream",
          "name": "stdout",
          "text": [
            "Please input your nth term of Fibonacci sequence: 10\n",
            "your output is 34\n",
            "\n",
            "test the function output for the term 1\n",
            "0\n",
            "test the function output for the term 2\n",
            "1\n",
            "test the function output for the term 3\n",
            "1\n",
            "test the function output for the term 4\n",
            "2\n",
            "test the function output for the term 5\n",
            "3\n",
            "test the function output for the term 6\n",
            "5\n",
            "test the function output for the term 7\n",
            "8\n",
            "test the function output for the term 8\n",
            "13\n",
            "test the function output for the term 9\n",
            "21\n",
            "test the function output for the term 10\n",
            "34\n"
          ]
        }
      ],
      "source": [
        "def fibo(order):\n",
        "    fibo_list=[0]*(order+1);\n",
        "    fibo_list[0]=0;\n",
        "    fibo_list[1]=1;\n",
        "    if order==0:\n",
        "        return 'false input'\n",
        "    elif order==1:\n",
        "        return 0\n",
        "    elif order==2:\n",
        "        return 1\n",
        "    else:\n",
        "        for i in range(2,order+1) :\n",
        "            fibo_list[i]=fibo_list[i-1]+fibo_list[i-2];\n",
        "    return fibo_list[order-1]\n",
        "nth_term=int(input('Please input your nth term of Fibonacci sequence: '))\n",
        "print('your output is {}\\n'.format(fibo(nth_term)))\n",
        "j=int(0);\n",
        "for j in range(1,11):\n",
        "    print('test the function output for the term {}'.format(j))\n",
        "    print(fibo(j))\n"
      ]
    },
    {
      "cell_type": "markdown",
      "source": [
        "Question 2"
      ],
      "metadata": {
        "id": "5iVXNO9Cv41A"
      }
    },
    {
      "cell_type": "code",
      "source": [
        "def factor(number):\n",
        "    i=int(1);\n",
        "    j=int(1);\n",
        "    count=int(0);\n",
        "    if number==0:\n",
        "        return 'false Number'\n",
        "    for i in range(1,number+1):\n",
        "        if((number % i) == 0):\n",
        "            count=+1;\n",
        "    factor_list=[0]*(count-1);\n",
        "    for j in range(1,number+1):\n",
        "        if((number % j) == 0):\n",
        "            factor_list.append(j);\n",
        "    return factor_list\n",
        "num=int(input('please enter your number: '))\n",
        "print('factor({}) => {}\\n'.format(num,factor(num)))"
      ],
      "metadata": {
        "colab": {
          "base_uri": "https://localhost:8080/"
        },
        "id": "mnA4o4-Fv7W8",
        "outputId": "ca62894f-1d9a-4cab-9298-0741eee41a9d"
      },
      "execution_count": null,
      "outputs": [
        {
          "output_type": "stream",
          "name": "stdout",
          "text": [
            "please enter your number: 14\n",
            "factor(14) => [1, 2, 7, 14]\n",
            "\n"
          ]
        }
      ]
    },
    {
      "cell_type": "markdown",
      "source": [
        "Question 3"
      ],
      "metadata": {
        "id": "JEKUtXIr3X93"
      }
    },
    {
      "cell_type": "code",
      "source": [
        "list=[1,2,[3,4],[5,[100,200,['iran']],34,23],3,5]\n",
        "list[3][1][2]"
      ],
      "metadata": {
        "colab": {
          "base_uri": "https://localhost:8080/"
        },
        "id": "-grBuhjl3aKj",
        "outputId": "b30eb96d-d1d0-4604-9bcc-7561da854061"
      },
      "execution_count": null,
      "outputs": [
        {
          "output_type": "execute_result",
          "data": {
            "text/plain": [
              "['iran']"
            ]
          },
          "metadata": {},
          "execution_count": 40
        }
      ]
    },
    {
      "cell_type": "markdown",
      "source": [
        "Question 4"
      ],
      "metadata": {
        "id": "cPtZr9cKE0qt"
      }
    },
    {
      "cell_type": "code",
      "source": [
        "def domain(email):\n",
        "    for i in range(0,len(email)):\n",
        "        if email[i] == '@':\n",
        "            j=i\n",
        "    return j\n",
        "str=input('please enter your email Address: ')\n",
        "k=int(domain(str));\n",
        "print('the domain is ({})'.format(str[k+1:]))"
      ],
      "metadata": {
        "colab": {
          "base_uri": "https://localhost:8080/"
        },
        "id": "nWOdMGGEE3HM",
        "outputId": "c98cab9e-42c2-4a30-fff4-daa24e4f855f"
      },
      "execution_count": null,
      "outputs": [
        {
          "output_type": "stream",
          "name": "stdout",
          "text": [
            "please enter your email Address: Amoozesh@iust.ac.ir\n",
            "the domain is (iust.ac.ir)\n"
          ]
        }
      ]
    },
    {
      "cell_type": "markdown",
      "source": [
        "Question 5"
      ],
      "metadata": {
        "id": "VY68iUmAmjhL"
      }
    },
    {
      "cell_type": "code",
      "source": [
        "def fine(speed,triger=False):\n",
        "    if speed in range(0,61) and triger==False:\n",
        "        return 'No ticket!'\n",
        "    elif speed in range(61,81) and triger==False:\n",
        "        return 'Small ticket'\n",
        "    elif speed>80 and triger==False:\n",
        "        return 'Big ticket'\n",
        "    elif speed in range(0,66) and triger==True:\n",
        "        return 'No ticket!'\n",
        "    elif speed in range(66,86) and triger==True:\n",
        "        return 'Small ticket'\n",
        "    elif speed>85 and triger==True:\n",
        "        return 'Big ticket'\n",
        "num=int(input('What is the driver speed? '))\n",
        "print('The ticket is ({})'.format(fine(num,triger=True)))"
      ],
      "metadata": {
        "colab": {
          "base_uri": "https://localhost:8080/"
        },
        "id": "XHQwwwzemljL",
        "outputId": "625af108-b231-4e12-b220-d7d10a6066df"
      },
      "execution_count": null,
      "outputs": [
        {
          "output_type": "stream",
          "name": "stdout",
          "text": [
            "What is the driver speed? 86\n",
            "The ticket is (Big ticket)\n"
          ]
        }
      ]
    },
    {
      "cell_type": "markdown",
      "source": [
        "Question 6"
      ],
      "metadata": {
        "id": "pI_0U8y-rNym"
      }
    },
    {
      "cell_type": "code",
      "source": [
        "planet=\"earth\"\n",
        "diameter=\"12742\"\n",
        "print('1-the diameter of {} is {} kilometers'.format(planet,diameter))\n",
        "print(f'2-the diameter of {planet} is {diameter} kilometers')"
      ],
      "metadata": {
        "colab": {
          "base_uri": "https://localhost:8080/"
        },
        "id": "tNXADCj6rPkI",
        "outputId": "6503c91b-dc45-401c-b379-3cf83f904c8e"
      },
      "execution_count": null,
      "outputs": [
        {
          "output_type": "stream",
          "name": "stdout",
          "text": [
            "1-the diameter of earth is 12742 kilometers\n",
            "2-the diameter of earth is 12742 kilometers\n"
          ]
        }
      ]
    }
  ]
}